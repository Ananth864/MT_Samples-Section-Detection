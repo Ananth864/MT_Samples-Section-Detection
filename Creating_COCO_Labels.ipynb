{
  "nbformat": 4,
  "nbformat_minor": 0,
  "metadata": {
    "colab": {
      "name": "Creating_Labels.ipynb",
      "provenance": [],
      "collapsed_sections": []
    },
    "kernelspec": {
      "name": "python3",
      "display_name": "Python 3"
    },
    "language_info": {
      "name": "python"
    },
    "gpuClass": "standard"
  },
  "cells": [
    {
      "cell_type": "code",
      "execution_count": null,
      "metadata": {
        "id": "K75n8Ks4hnaZ"
      },
      "outputs": [],
      "source": [
        "!pip install --upgrade pip\n",
        "!pip install imgaug==0.2.6\n",
        "\n",
        "!apt-get install poppler-utils\n",
        "!pip install pdf2image\n"
      ]
    },
    {
      "cell_type": "code",
      "source": [
        "import pdfplumber\n",
        "import requests\n",
        "from bs4 import BeautifulSoup,  SoupStrainer\n",
        "from tqdm import tqdm\n",
        "from pdf2image import convert_from_path \n",
        "import pandas as pd\n",
        "import matplotlib.pyplot as plt\n",
        "import cv2\n",
        "import os\n",
        "import random\n",
        "import pdfminer\n",
        "from pdfminer.layout import LAParams, LTTextBox, LTTextLineHorizontal, LTTextBoxHorizontal, LTTextLineVertical, LTTextBoxVertical\n",
        "from google.colab import drive\n",
        "drive.mount('/content/drive')"
      ],
      "metadata": {
        "colab": {
          "base_uri": "https://localhost:8080/",
          "height": 393
        },
        "id": "H1b5AZ7R9arW",
        "outputId": "7b122278-1c72-42a3-e61d-609a0e6ad593"
      },
      "execution_count": null,
      "outputs": [
        {
          "output_type": "error",
          "ename": "ModuleNotFoundError",
          "evalue": "ignored",
          "traceback": [
            "\u001b[0;31m---------------------------------------------------------------------------\u001b[0m",
            "\u001b[0;31mModuleNotFoundError\u001b[0m                       Traceback (most recent call last)",
            "\u001b[0;32m<ipython-input-1-660b64fd6d1a>\u001b[0m in \u001b[0;36m<module>\u001b[0;34m()\u001b[0m\n\u001b[0;32m----> 1\u001b[0;31m \u001b[0;32mimport\u001b[0m \u001b[0mpdfplumber\u001b[0m\u001b[0;34m\u001b[0m\u001b[0;34m\u001b[0m\u001b[0m\n\u001b[0m\u001b[1;32m      2\u001b[0m \u001b[0;32mimport\u001b[0m \u001b[0mrequests\u001b[0m\u001b[0;34m\u001b[0m\u001b[0;34m\u001b[0m\u001b[0m\n\u001b[1;32m      3\u001b[0m \u001b[0;32mfrom\u001b[0m \u001b[0mbs4\u001b[0m \u001b[0;32mimport\u001b[0m \u001b[0mBeautifulSoup\u001b[0m\u001b[0;34m,\u001b[0m  \u001b[0mSoupStrainer\u001b[0m\u001b[0;34m\u001b[0m\u001b[0;34m\u001b[0m\u001b[0m\n\u001b[1;32m      4\u001b[0m \u001b[0;32mfrom\u001b[0m \u001b[0mtqdm\u001b[0m \u001b[0;32mimport\u001b[0m \u001b[0mtqdm\u001b[0m\u001b[0;34m\u001b[0m\u001b[0;34m\u001b[0m\u001b[0m\n\u001b[1;32m      5\u001b[0m \u001b[0;32mfrom\u001b[0m \u001b[0mpdf2image\u001b[0m \u001b[0;32mimport\u001b[0m \u001b[0mconvert_from_path\u001b[0m\u001b[0;34m\u001b[0m\u001b[0;34m\u001b[0m\u001b[0m\n",
            "\u001b[0;31mModuleNotFoundError\u001b[0m: No module named 'pdfplumber'",
            "",
            "\u001b[0;31m---------------------------------------------------------------------------\u001b[0;32m\nNOTE: If your import is failing due to a missing package, you can\nmanually install dependencies using either !pip or !apt.\n\nTo view examples of installing some common dependencies, click the\n\"Open Examples\" button below.\n\u001b[0;31m---------------------------------------------------------------------------\u001b[0m\n"
          ],
          "errorDetails": {
            "actions": [
              {
                "action": "open_url",
                "actionText": "Open Examples",
                "url": "/notebooks/snippets/importing_libraries.ipynb"
              }
            ]
          }
        }
      ]
    },
    {
      "cell_type": "code",
      "source": [
        "\n"
      ],
      "metadata": {
        "id": "-XV9zzQCkk1w"
      },
      "execution_count": null,
      "outputs": []
    },
    {
      "cell_type": "code",
      "source": [
        "from pdfminer.high_level import extract_pages\n",
        "from pdfminer.layout import LTTextContainer, LTChar\n",
        "\n",
        "for page_layout in extract_pages('drive/MyDrive/mtsamples_pdf/mtsamples_pdf/12.pdf'):\n",
        "    for element in page_layout:\n",
        "            for text_line in element:\n",
        "                print(text_line)"
      ],
      "metadata": {
        "id": "v3OcoQ15hrGO",
        "colab": {
          "base_uri": "https://localhost:8080/",
          "height": 1000
        },
        "outputId": "3c44c2f8-5e93-4b2a-878c-dcc8b9991dfc"
      },
      "execution_count": null,
      "outputs": [
        {
          "output_type": "stream",
          "name": "stdout",
          "text": [
            "<LTTextLineHorizontal 33.301,800.008,126.840,813.812 'Medical Specialty:\\n'>\n",
            "<LTTextLineHorizontal 33.301,785.604,77.805,799.407 'Autopsy \\n'>\n",
            "<LTTextLineHorizontal 33.301,756.796,175.723,770.599 'Sample Name:Â Autopsy - 6\\n'>\n",
            "<LTTextLineHorizontal 33.301,724.854,542.581,736.257 'Description:Â Multiple sharp force injuries, involving chest and abdomen, multiple incised-stab wounds of the neck, and multiple\\n'>\n",
            "<LTTextLineHorizontal 33.301,712.851,137.884,724.254 'incised or cutting wounds. \\n'>\n",
            "<LTTextLineHorizontal 33.301,700.848,190.943,712.251 '(Medical Transcription Sample Report)\\n'>\n",
            "<LTTextLineHorizontal 33.301,675.040,154.111,686.444 'ANATOMICAL SUMMARY\\n'>\n",
            "<LTTextLineHorizontal 33.301,663.037,332.338,674.440 '1. Sharp force wound of neck, left side, with transection of left internal jugular vein.\\n'>\n",
            "<LTTextLineHorizontal 33.301,651.034,510.742,662.437 '2. Multiple stab wounds of chest, abdomen, and left thigh: Penetrating stab wounds of chest and abdomen with right hemothorax and\\n'>\n",
            "<LTTextLineHorizontal 33.301,639.030,95.872,650.434 'hemoperitoneum.\\n'>\n",
            "<LTTextLineHorizontal 33.301,627.027,340.141,638.430 '3. Multiple incised wounds of scalp, face, neck, chest and left hand (defense wound).\\n'>\n",
            "<LTTextLineHorizontal 33.301,615.024,281.324,626.427 '4. Multiple abrasions upper extremities and hands (defense wounds).\\n'>\n",
            "<LTTextLineHorizontal 33.301,591.017,156.013,602.420 'NOTES AND PROCEDURES\\n'>\n",
            "<LTTextLineHorizontal 33.301,579.014,378.551,590.417 '1. The body is described in the Standard Anatomical Position. Reference is to this position only.\\n'>\n",
            "<LTTextLineHorizontal 33.301,567.010,543.151,578.413 '2. Where necessary, injuries are numbered for reference. This is arbitrary and does not correspond to any order in which they may have been\\n'>\n",
            "<LTTextLineHorizontal 33.301,555.007,277.723,566.410 'incurred. All the injuries are antemortem, unless otherwise specified.\\n'>\n",
            "<LTTextLineHorizontal 33.301,543.004,561.287,554.407 '3. The term \"anatomic\" is used as a specification to indicate correspondence with the description as set forth in the textbooks of Gross Anatomy. It\\n'>\n",
            "<LTTextLineHorizontal 33.301,531.000,253.716,542.403 'denotes freedom from significant, visible or morbid alteration.\\n'>\n",
            "<LTTextLineHorizontal 33.301,506.994,542.551,518.397 'EXTERNAL EXAMINATION: The body is that of a well developed, well nourished Caucasian male stated to be 25 years old. The body\\n'>\n",
            "<LTTextLineHorizontal 33.301,494.990,551.625,506.393 'weighs 171 pounds, measuring 69 inches from crown to sole. The hair on the scalp is brown and straight. The irides appear hazel with the pupils\\n'>\n",
            "<LTTextLineHorizontal 33.301,482.987,559.355,494.390 'fixed and dilated. The sclerae and conjunctive are unremarkable, with no evidence of petechial hemorrhages on either. Both upper and lower teeth\\n'>\n",
            "<LTTextLineHorizontal 33.301,470.983,265.720,482.387 'are natural, and there are no injuries of the gums, cheeks, or lips.\\n'>\n",
            "<LTTextLineHorizontal 33.301,446.977,506.387,458.380 'There is a picture-type tattoo on the lateral aspect of the left upper arm. There are no deformities, old surgical scars or amputations.\\n'>\n",
            "<LTTextLineHorizontal 33.301,422.970,107.876,434.373 'Rigor mortis is fixed.\\n'>\n",
            "<LTTextLineHorizontal 33.301,398.963,544.483,410.367 'The body appears to the Examiner as stated above. Identification is by toe tag and the autopsy is not material to identification. The body is not\\n'>\n",
            "<LTTextLineHorizontal 33.301,386.960,73.066,398.363 'embalmed.\\n'>\n",
            "<LTTextLineHorizontal 33.301,362.953,543.151,374.357 'The head is normocephalic, and there is extensive evidence of external traumatic injury, to be described below. Otherwise, the eyes, nose and\\n'>\n",
            "<LTTextLineHorizontal 33.301,350.950,558.226,362.353 'mouth are not remarkable. The neck shows sharp force injuries to be described below. The front of the chest and abdomen likewise show injuries\\n'>\n",
            "<LTTextLineHorizontal 33.301,338.947,449.971,350.350 'to be described below. The genitalia are that of an adult male, with the penis circumcised, and no evidence of injury.\\n'>\n",
            "<LTTextLineHorizontal 33.301,314.940,356.345,326.343 'Examination of the posterior surface of the trunk reveals no antemortem traumatic injuries.\\n'>\n",
            "<LTTextLineHorizontal 33.301,290.933,406.159,302.336 'Refer to available photographs and diagrams and to the specific documentation of the autopsy protocol.\\n'>\n",
            "<LTTextLineHorizontal 33.301,266.927,353.944,278.330 'CLOTHING: The clothes were examined both before and after removal from the body.\\n'>\n",
            "<LTTextLineHorizontal 33.301,254.923,378.551,266.326 'The decedent was wearing a long-sleeved type of shirt/sweater; it was extensively bloodstained.\\n'>\n",
            "<LTTextLineHorizontal 33.301,230.916,557.555,242.320 'On the front, lower right side, there was a 1 1/2 inch long slit-like tear. Also on the lower right sleeve there was a 1 inch slit-like tear. On the back\\n'>\n",
            "<LTTextLineHorizontal 33.301,218.913,235.111,230.316 'there was a 1/2 inch slit-like tear on the right lower side.\\n'>\n",
            "<LTTextLineHorizontal 33.301,194.906,531.177,206.310 'Decedent was wearing a pair of Levi jeans bloodstained. On the outside of the left hip region there was a 1-1/2 inch long slit-like tear. The\\n'>\n",
            "<LTTextLineHorizontal 33.301,182.903,277.723,194.306 'decedent also was wearing 2 canvas type boots and 2 sweat socks.\\n'>\n",
            "<LTTextLineHorizontal 33.301,158.896,271.721,170.300 'EVIDENCE OF THERAPEUTIC INTERVENTION: None.\\n'>\n",
            "<LTTextLineHorizontal 33.301,134.890,136.706,146.293 'EVIDENCE OF INJURY\\n'>\n",
            "<LTTextLineHorizontal 33.301,110.883,191.891,122.286 'SHARP FORCE INJURIES OF NECK\\n'>\n",
            "<LTTextLineHorizontal 33.301,98.880,557.045,110.283 '1. Sharp force injury of neck, left side, transecting left internal jugular vein. This sharp force injury is complex, and appears to be a combination of\\n'>\n",
            "<LTTextLineHorizontal 33.301,86.876,540.221,98.279 'a stabbing and cutting wound. It begins on the left side of the neck, at the level of the midlarynx, over the left sternocleidomastoid muscle; it is\\n'>\n",
            "<LTTextLineHorizontal 33.301,74.873,557.626,86.276 'gaping, measuring 3 inches in length with smooth edges. It tapers superiorly to 1 inch in length cut skin. Dissection discloses that the wound path is\\n'>\n",
            "<LTTextLineHorizontal 33.301,62.870,547.483,74.273 'through the skin, the subcutaneous tissue, and the sternocleidomastoid muscle with hemorrhage along the wound path and transection of the left\\n'>\n",
            "<LTTextLineHorizontal 33.301,50.866,555.154,62.269 'internal jugular vein, with dark red-purple hemorrhage in the adjacent subcutaneous tissue and fascia. The direction of the pathway is upward and\\n'>\n",
            "<LTTextLineHorizontal 33.301,38.863,551.553,50.266 'slightly front to back for a distance of approximately 4 inches where it exits, post-auricular, in a 2 inch in length gaping stab/incised wound which\\n'>\n"
          ]
        },
        {
          "output_type": "error",
          "ename": "TypeError",
          "evalue": "ignored",
          "traceback": [
            "\u001b[0;31m---------------------------------------------------------------------------\u001b[0m",
            "\u001b[0;31mTypeError\u001b[0m                                 Traceback (most recent call last)",
            "\u001b[0;32m<ipython-input-16-d9d8e2efc9de>\u001b[0m in \u001b[0;36m<module>\u001b[0;34m()\u001b[0m\n\u001b[1;32m      4\u001b[0m \u001b[0;32mfor\u001b[0m \u001b[0mpage_layout\u001b[0m \u001b[0;32min\u001b[0m \u001b[0mextract_pages\u001b[0m\u001b[0;34m(\u001b[0m\u001b[0;34m'drive/MyDrive/mtsamples_pdf/mtsamples_pdf/12.pdf'\u001b[0m\u001b[0;34m)\u001b[0m\u001b[0;34m:\u001b[0m\u001b[0;34m\u001b[0m\u001b[0;34m\u001b[0m\u001b[0m\n\u001b[1;32m      5\u001b[0m     \u001b[0;32mfor\u001b[0m \u001b[0melement\u001b[0m \u001b[0;32min\u001b[0m \u001b[0mpage_layout\u001b[0m\u001b[0;34m:\u001b[0m\u001b[0;34m\u001b[0m\u001b[0;34m\u001b[0m\u001b[0m\n\u001b[0;32m----> 6\u001b[0;31m             \u001b[0;32mfor\u001b[0m \u001b[0mtext_line\u001b[0m \u001b[0;32min\u001b[0m \u001b[0melement\u001b[0m\u001b[0;34m:\u001b[0m\u001b[0;34m\u001b[0m\u001b[0;34m\u001b[0m\u001b[0m\n\u001b[0m\u001b[1;32m      7\u001b[0m                 \u001b[0mprint\u001b[0m\u001b[0;34m(\u001b[0m\u001b[0mtext_line\u001b[0m\u001b[0;34m)\u001b[0m\u001b[0;34m\u001b[0m\u001b[0;34m\u001b[0m\u001b[0m\n",
            "\u001b[0;31mTypeError\u001b[0m: 'LTCurve' object is not iterable"
          ]
        }
      ]
    },
    {
      "cell_type": "code",
      "source": [
        "from pdfminer.high_level import extract_pages\n",
        "from pdfminer.layout import LTTextContainer, LTChar\n",
        "\n",
        "for page_layout in extract_pages('drive/MyDrive/mtsamples_pdf/mtsamples_pdf/12.pdf'):\n",
        "    for element in page_layout:\n",
        "        if isinstance(element, LTTextContainer):\n",
        "            for text_line in element:\n",
        "                 print(text_line)"
      ],
      "metadata": {
        "colab": {
          "base_uri": "https://localhost:8080/"
        },
        "id": "dT5pr7kpj1hm",
        "outputId": "341387d0-595b-45db-84bb-754ca73dd1c1"
      },
      "execution_count": null,
      "outputs": [
        {
          "output_type": "stream",
          "name": "stdout",
          "text": [
            "<LTTextLineHorizontal 33.301,800.008,126.840,813.812 'Medical Specialty:\\n'>\n",
            "<LTTextLineHorizontal 33.301,785.604,77.805,799.407 'Autopsy \\n'>\n",
            "<LTTextLineHorizontal 33.301,756.796,175.723,770.599 'Sample Name:Â Autopsy - 6\\n'>\n",
            "<LTTextLineHorizontal 33.301,724.854,542.581,736.257 'Description:Â Multiple sharp force injuries, involving chest and abdomen, multiple incised-stab wounds of the neck, and multiple\\n'>\n",
            "<LTTextLineHorizontal 33.301,712.851,137.884,724.254 'incised or cutting wounds. \\n'>\n",
            "<LTTextLineHorizontal 33.301,700.848,190.943,712.251 '(Medical Transcription Sample Report)\\n'>\n",
            "<LTTextLineHorizontal 33.301,675.040,154.111,686.444 'ANATOMICAL SUMMARY\\n'>\n",
            "<LTTextLineHorizontal 33.301,663.037,332.338,674.440 '1. Sharp force wound of neck, left side, with transection of left internal jugular vein.\\n'>\n",
            "<LTTextLineHorizontal 33.301,651.034,510.742,662.437 '2. Multiple stab wounds of chest, abdomen, and left thigh: Penetrating stab wounds of chest and abdomen with right hemothorax and\\n'>\n",
            "<LTTextLineHorizontal 33.301,639.030,95.872,650.434 'hemoperitoneum.\\n'>\n",
            "<LTTextLineHorizontal 33.301,627.027,340.141,638.430 '3. Multiple incised wounds of scalp, face, neck, chest and left hand (defense wound).\\n'>\n",
            "<LTTextLineHorizontal 33.301,615.024,281.324,626.427 '4. Multiple abrasions upper extremities and hands (defense wounds).\\n'>\n",
            "<LTTextLineHorizontal 33.301,591.017,156.013,602.420 'NOTES AND PROCEDURES\\n'>\n",
            "<LTTextLineHorizontal 33.301,579.014,378.551,590.417 '1. The body is described in the Standard Anatomical Position. Reference is to this position only.\\n'>\n",
            "<LTTextLineHorizontal 33.301,567.010,543.151,578.413 '2. Where necessary, injuries are numbered for reference. This is arbitrary and does not correspond to any order in which they may have been\\n'>\n",
            "<LTTextLineHorizontal 33.301,555.007,277.723,566.410 'incurred. All the injuries are antemortem, unless otherwise specified.\\n'>\n",
            "<LTTextLineHorizontal 33.301,543.004,561.287,554.407 '3. The term \"anatomic\" is used as a specification to indicate correspondence with the description as set forth in the textbooks of Gross Anatomy. It\\n'>\n",
            "<LTTextLineHorizontal 33.301,531.000,253.716,542.403 'denotes freedom from significant, visible or morbid alteration.\\n'>\n",
            "<LTTextLineHorizontal 33.301,506.994,542.551,518.397 'EXTERNAL EXAMINATION: The body is that of a well developed, well nourished Caucasian male stated to be 25 years old. The body\\n'>\n",
            "<LTTextLineHorizontal 33.301,494.990,551.625,506.393 'weighs 171 pounds, measuring 69 inches from crown to sole. The hair on the scalp is brown and straight. The irides appear hazel with the pupils\\n'>\n",
            "<LTTextLineHorizontal 33.301,482.987,559.355,494.390 'fixed and dilated. The sclerae and conjunctive are unremarkable, with no evidence of petechial hemorrhages on either. Both upper and lower teeth\\n'>\n",
            "<LTTextLineHorizontal 33.301,470.983,265.720,482.387 'are natural, and there are no injuries of the gums, cheeks, or lips.\\n'>\n",
            "<LTTextLineHorizontal 33.301,446.977,506.387,458.380 'There is a picture-type tattoo on the lateral aspect of the left upper arm. There are no deformities, old surgical scars or amputations.\\n'>\n",
            "<LTTextLineHorizontal 33.301,422.970,107.876,434.373 'Rigor mortis is fixed.\\n'>\n",
            "<LTTextLineHorizontal 33.301,398.963,544.483,410.367 'The body appears to the Examiner as stated above. Identification is by toe tag and the autopsy is not material to identification. The body is not\\n'>\n",
            "<LTTextLineHorizontal 33.301,386.960,73.066,398.363 'embalmed.\\n'>\n",
            "<LTTextLineHorizontal 33.301,362.953,543.151,374.357 'The head is normocephalic, and there is extensive evidence of external traumatic injury, to be described below. Otherwise, the eyes, nose and\\n'>\n",
            "<LTTextLineHorizontal 33.301,350.950,558.226,362.353 'mouth are not remarkable. The neck shows sharp force injuries to be described below. The front of the chest and abdomen likewise show injuries\\n'>\n",
            "<LTTextLineHorizontal 33.301,338.947,449.971,350.350 'to be described below. The genitalia are that of an adult male, with the penis circumcised, and no evidence of injury.\\n'>\n",
            "<LTTextLineHorizontal 33.301,314.940,356.345,326.343 'Examination of the posterior surface of the trunk reveals no antemortem traumatic injuries.\\n'>\n",
            "<LTTextLineHorizontal 33.301,290.933,406.159,302.336 'Refer to available photographs and diagrams and to the specific documentation of the autopsy protocol.\\n'>\n",
            "<LTTextLineHorizontal 33.301,266.927,353.944,278.330 'CLOTHING: The clothes were examined both before and after removal from the body.\\n'>\n",
            "<LTTextLineHorizontal 33.301,254.923,378.551,266.326 'The decedent was wearing a long-sleeved type of shirt/sweater; it was extensively bloodstained.\\n'>\n",
            "<LTTextLineHorizontal 33.301,230.916,557.555,242.320 'On the front, lower right side, there was a 1 1/2 inch long slit-like tear. Also on the lower right sleeve there was a 1 inch slit-like tear. On the back\\n'>\n",
            "<LTTextLineHorizontal 33.301,218.913,235.111,230.316 'there was a 1/2 inch slit-like tear on the right lower side.\\n'>\n",
            "<LTTextLineHorizontal 33.301,194.906,531.177,206.310 'Decedent was wearing a pair of Levi jeans bloodstained. On the outside of the left hip region there was a 1-1/2 inch long slit-like tear. The\\n'>\n",
            "<LTTextLineHorizontal 33.301,182.903,277.723,194.306 'decedent also was wearing 2 canvas type boots and 2 sweat socks.\\n'>\n",
            "<LTTextLineHorizontal 33.301,158.896,271.721,170.300 'EVIDENCE OF THERAPEUTIC INTERVENTION: None.\\n'>\n",
            "<LTTextLineHorizontal 33.301,134.890,136.706,146.293 'EVIDENCE OF INJURY\\n'>\n",
            "<LTTextLineHorizontal 33.301,110.883,191.891,122.286 'SHARP FORCE INJURIES OF NECK\\n'>\n",
            "<LTTextLineHorizontal 33.301,98.880,557.045,110.283 '1. Sharp force injury of neck, left side, transecting left internal jugular vein. This sharp force injury is complex, and appears to be a combination of\\n'>\n",
            "<LTTextLineHorizontal 33.301,86.876,540.221,98.279 'a stabbing and cutting wound. It begins on the left side of the neck, at the level of the midlarynx, over the left sternocleidomastoid muscle; it is\\n'>\n",
            "<LTTextLineHorizontal 33.301,74.873,557.626,86.276 'gaping, measuring 3 inches in length with smooth edges. It tapers superiorly to 1 inch in length cut skin. Dissection discloses that the wound path is\\n'>\n",
            "<LTTextLineHorizontal 33.301,62.870,547.483,74.273 'through the skin, the subcutaneous tissue, and the sternocleidomastoid muscle with hemorrhage along the wound path and transection of the left\\n'>\n",
            "<LTTextLineHorizontal 33.301,50.866,555.154,62.269 'internal jugular vein, with dark red-purple hemorrhage in the adjacent subcutaneous tissue and fascia. The direction of the pathway is upward and\\n'>\n",
            "<LTTextLineHorizontal 33.301,38.863,551.553,50.266 'slightly front to back for a distance of approximately 4 inches where it exits, post-auricular, in a 2 inch in length gaping stab/incised wound which\\n'>\n",
            "<LTTextLineHorizontal 33.301,802.276,554.400,813.679 'has undulating or wavy borders, but not serrated. Intersecting the wound at right angle superior inferior is a 2 inch in length interrupted superficial,\\n'>\n",
            "<LTTextLineHorizontal 33.301,790.273,546.152,801.676 'linear incised wound involving only the skin. Also, intervening between the 2 gaping stab-incised wounds is a horizontally oriented 3-1/2 inch in\\n'>\n",
            "<LTTextLineHorizontal 33.301,778.269,560.646,789.672 'length interrupted superficial, linear incised wound of the skin only. In addition, there is a 1/2 inch long, linear-triangular in size wound of the inferior\\n'>\n",
            "<LTTextLineHorizontal 33.301,766.266,542.641,777.669 'portion of the left earlobe. The direction of the sharp force injury is upward (rostral), and slightly front to back with no significant angulation or\\n'>\n",
            "<LTTextLineHorizontal 33.301,754.262,552.243,765.666 'deviation. The total length of the wound path is approximately 4 inches. However, there is a 3/4 inch in length, linear, cutting or incised wound of\\n'>\n",
            "<LTTextLineHorizontal 33.301,742.259,555.844,753.662 'the top or superior aspect of the pinna of the left ear; a straight metallic probe placed through the major sharp force injury shows that the injury of\\n'>\n",
            "<LTTextLineHorizontal 33.301,730.256,554.044,741.659 'the superior part of the ear can be aligned with the straight metallic rod, suggesting that the 3 injuries are related; in this instance the total length of\\n'>\n",
            "<LTTextLineHorizontal 33.301,718.252,539.681,729.656 'the wound path is approximately 6 inches. Also, in the left postauricular region, transversely oriented, extending from the auricular attachment\\n'>\n",
            "<LTTextLineHorizontal 33.301,706.249,323.936,717.652 'laterally to the scalp is a 1-1/8 inch in length linear superficial incised skin wound.\\n'>\n",
            "<LTTextLineHorizontal 33.301,694.246,439.768,705.649 'OPINION: This sharp force injury of the neck is fatal, associated with transection of the left internal jugular vein.\\n'>\n",
            "<LTTextLineHorizontal 33.301,670.239,543.882,681.642 '2. Sharp force wound of the right side of neck. This is a complex injury, appearing to be a combination stabbing and cutting wound. The initial\\n'>\n",
            "<LTTextLineHorizontal 33.301,658.236,552.825,669.639 'wound is present on the right side of the neck, over the sternocleidomastoid muscle, 3 inches directly below the right external auditory canal. It is\\n'>\n",
            "<LTTextLineHorizontal 33.301,646.232,542.641,657.636 'diagonally oriented, and after approximation of the edges measures 5/8 inch in length; there is a pointed or tapered end inferiorly and a split or\\n'>\n",
            "<LTTextLineHorizontal 33.301,634.229,522.145,645.632 'forked end superiorly approximately 1/16 inch in maximal width. Subsequent autopsy shows that the wound path is through the skin and\\n'>\n",
            "<LTTextLineHorizontal 33.301,622.226,249.759,633.629 'subcutaneous tissue, without penetration of injury of a major\\n'>\n",
            "<LTTextLineHorizontal 33.301,610.222,557.555,621.625 'artery or vein; the direction is front to back and upward for a total wound path length of 2 inches and the wound exits on the right side of the back\\n'>\n",
            "<LTTextLineHorizontal 33.301,598.219,554.584,609.622 'of the neck, posterior to the right sternocleidomastoid muscle where a 2 inch long gaping incised/stab wound is evident on the skin; both ends are\\n'>\n",
            "<LTTextLineHorizontal 33.301,586.216,549.753,597.619 'tapered; superiorly there is a 1 inch long superficial incised wounds extension on the skin to the back of the head; inferiorly there is a 2 inch long\\n'>\n",
            "<LTTextLineHorizontal 33.301,574.212,556.486,585.615 'incised superficial skin extension, extending inferiorly towards the back of the neck. There is fresh hemorrhage and bruising along the wound path;\\n'>\n",
            "<LTTextLineHorizontal 33.301,562.209,248.315,573.612 'the direction, as stated, is upward and slightly front to back.\\n'>\n",
            "<LTTextLineHorizontal 33.301,550.206,345.542,561.609 'OPINION: This is a nonfatal sharp force injury, with no injury or major artery or vein.\\n'>\n",
            "<LTTextLineHorizontal 33.301,526.199,561.156,537.602 '3. At the level of the superior border of the larynx there is a transversely oriented, superficial incised wound of the neck, extending from 3 inches to\\n'>\n",
            "<LTTextLineHorizontal 33.301,514.196,502.186,525.599 'the left of the anterior midline; it is 3 inches in length and involves the skin only; a small amount of cutaneous hemorrhage is evident.\\n'>\n",
            "<LTTextLineHorizontal 33.301,502.192,235.111,513.595 'OPINION: This is a nonfatal superficial incised wound.\\n'>\n",
            "<LTTextLineHorizontal 33.301,478.185,561.227,489.589 '4. ImmediateLY inferior and adjacent to incised wound #3 is a transversely oriented, superficial incised wound involving the skin and subcutaneous\\n'>\n",
            "<LTTextLineHorizontal 33.301,466.182,223.708,477.585 'tissue; there is a small amount of dermal hemorrhage.\\n'>\n",
            "<LTTextLineHorizontal 33.301,454.179,235.111,465.582 'OPINION: This is a nonfatal superficial incised wound.\\n'>\n",
            "<LTTextLineHorizontal 33.301,430.172,189.551,441.575 'SHARP FORCE INJURIES OF FACE\\n'>\n",
            "<LTTextLineHorizontal 33.301,418.169,549.152,429.572 '1. There is a stab wound, involving the right earlobe; it is vertically oriented, and after approximation of the edges measures 1 inch in length with\\n'>\n",
            "<LTTextLineHorizontal 33.301,406.165,557.686,417.569 'forked or split ends superiorly and inferiorly approximately 1/16 inch in total width both superior and inferior. Subsequent dissection discloses that\\n'>\n",
            "<LTTextLineHorizontal 33.301,394.162,544.381,405.565 'the wound path is from right to left, in the horizontal plane for approximately 1-1/4 inches; there is fresh hemorrhage along the wound path; the\\n'>\n",
            "<LTTextLineHorizontal 33.301,382.159,354.545,393.562 'wound path terminates in the left temporal bone and does not penetrate the cranial cavity.\\n'>\n",
            "<LTTextLineHorizontal 33.301,370.155,187.098,381.559 'OPINION: This is a nonfatal stab wound.\\n'>\n",
            "<LTTextLineHorizontal 33.301,346.149,545.998,357.552 '2. There is a group of 5 superficial incised or cutting wounds on the right side of the face, involving the right cheek and the right side of the jaw.\\n'>\n",
            "<LTTextLineHorizontal 33.301,334.145,541.197,345.548 'They are varied in orientation both diagonal and horizontal; the smallest is 1/4 inch in length; the largest 5/8 inch in length. They are superficial,\\n'>\n",
            "<LTTextLineHorizontal 33.301,322.142,323.336,333.545 'involving the skin only, associated with a small amount of cutaneous hemorrhage.\\n'>\n",
            "<LTTextLineHorizontal 33.301,298.135,555.754,309.538 '3. On the back of the neck, right side, posterior to the ear and posterior border of the right sternocleidomastoid muscle there is vertically oriented\\n'>\n",
            "<LTTextLineHorizontal 33.301,286.132,246.514,297.535 'superficial incised skin wound, measuring 3/4 inch in length.\\n'>\n",
            "<LTTextLineHorizontal 33.301,262.125,553.954,273.528 '4. There are numerous superficial incised wounds or cuts, varied in orientation, involving the skin of the right cheek, intersection and mingled with\\n'>\n",
            "<LTTextLineHorizontal 33.301,250.122,552.592,261.525 'the various superficial incised wounds described above. The longest is a 3 inch long diagonally oriented superficial incised wound extending from\\n'>\n",
            "<LTTextLineHorizontal 33.301,238.118,387.554,249.522 'the right side of the forehead to the cheek; various other superficial wound vary from 1/2 to 1 inch.\\n'>\n",
            "<LTTextLineHorizontal 33.301,214.112,537.749,225.515 '5. On the right side of the cheek, adjacent to the ramus of the mandible, right, there is a 1-1/2 x 3/4 inch superficial nonpatterned red-brown\\n'>\n",
            "<LTTextLineHorizontal 33.301,202.108,540.221,213.512 'abrasion with irregular border, extending superiorly towards the angle of the jaw where there are poorly defined and circumscribed abrasions\\n'>\n",
            "<LTTextLineHorizontal 33.301,190.105,537.179,201.508 'adjacent to the superficial cuts or abrasions described above. It should be noted that the 5th superficial incised wound of the right side of the\\n'>\n",
            "<LTTextLineHorizontal 33.301,178.102,556.201,189.505 'mandible which measures 5/8 inch in length is tapered on the posterior aspect and forked on the anterior aspect where it has a width of 1/32 inch.\\n'>\n",
            "<LTTextLineHorizontal 33.301,154.095,540.780,165.498 '6. On the left ear, there is a superficial incised wound measuring 1/4 inch, adjacent to the posterior border of the pinna. Just below this on the\\n'>\n",
            "<LTTextLineHorizontal 33.301,142.092,443.969,153.495 'inferior pinna, extending to the earlobe, there is an interrupted superficial linear abrasion measuring 1 inch in length.\\n'>\n",
            "<LTTextLineHorizontal 33.301,118.085,194.982,129.488 'SHARP FORCE INJURIES OF SCALP\\n'>\n",
            "<LTTextLineHorizontal 33.301,106.082,542.551,117.485 '1. The scalp is shaved postmortem for visualization. On the right posterior parietal region of the scalp there is a sharp force wound, diagonally\\n'>\n",
            "<LTTextLineHorizontal 33.301,94.078,542.040,105.481 'oriented, and after approximation of the edges it measures 5/8 inch in length with a perpendicularly oriented skin cut at the midpoint. Depth of\\n'>\n",
            "<LTTextLineHorizontal 33.301,82.075,559.955,93.478 'penetration is approximately 1/4 to 3/8 inch into the scalp, with associated deep scalp hemorrhage and a subgaleal hemorrhage beneath the wound\\n'>\n",
            "<LTTextLineHorizontal 33.301,70.072,460.174,81.475 'measuring 2 x 2 inches in transverse diameter. There is no underlying fracture of the skull or penetration of the cranium.\\n'>\n",
            "<LTTextLineHorizontal 33.301,58.068,464.975,69.471 'OPINION: This is a sharp force wound that may represent either a cutting wound of a superficial stab wound; nonfatal.\\n'>\n",
            "<LTTextLineHorizontal 33.301,34.062,535.480,45.465 '2. On the posterior parietal region, midline, to the left of the wound described above there is a 1/4 inch superficial incised wound or skin cut\\n'>\n",
            "<LTTextLineHorizontal 33.301,802.276,552.783,813.679 'measuring 1/4 inch in length; both ends are pointed or tapered; extension is 1/4 inch into the scalp with a small amount of deep scalp hemorrhage\\n'>\n",
            "<LTTextLineHorizontal 33.301,790.273,139.084,801.676 'but no subgaleal hemorrhage.\\n'>\n",
            "<LTTextLineHorizontal 33.301,766.266,549.224,777.669 '3. On the left posterior parietal region there is an injury that is an abrasion, 1/4 x 1/8 inch in maximal diameter and an ovoid in configuration; it is\\n'>\n",
            "<LTTextLineHorizontal 33.301,754.262,242.913,765.666 'red-brown with a small amount of superficial skin bruising.\\n'>\n",
            "<LTTextLineHorizontal 33.301,742.259,252.516,753.662 'OPINION: This is a skin abrasion-bruise, noncharacteristic.\\n'>\n",
            "<LTTextLineHorizontal 33.301,718.252,237.636,729.656 'DESCRIPTION OF MULTIPLE STAB WOUNDS\\n'>\n",
            "<LTTextLineHorizontal 33.301,706.249,490.182,717.652 'On the right side of the chest adjacent to the stab wound there are multiple, irregular, brown abrasions consistent with ant bites.\\n'>\n",
            "<LTTextLineHorizontal 33.301,682.242,231.510,693.646 '1. STAB WOUND OF RIGHT SIDE OF CHEST.\\n'>\n",
            "<LTTextLineHorizontal 33.301,670.239,561.156,681.642 'The stab wound is located on the right side of the chest, 22 inches below the top of the head and 5 inches from the back of the body; it is vertically\\n'>\n",
            "<LTTextLineHorizontal 33.301,658.236,540.750,669.639 'oriented and after approximation of the edges it measures 5/8 inch in length. Inferiorly there is a squared off or dull end approximately 1/32 in\\n'>\n",
            "<LTTextLineHorizontal 33.301,646.232,553.984,657.636 'length; superiorly the wound is tapered. Subsequent autopsy shows that the pathway is through the skin, the subcutaneous tissue, and through the\\n'>\n",
            "<LTTextLineHorizontal 33.301,634.229,543.841,645.632 'right 7th rib at the approximately midaxillary line where the rib is totally incised. Thereafter, it enters the right pleural cavity which at the time of\\n'>\n",
            "<LTTextLineHorizontal 33.301,622.226,544.441,633.629 'autopsy contains approximately 100-200 ml of predominantly liquid blood. The path is through the lateral base of the border of the right lower\\n'>\n",
            "<LTTextLineHorizontal 33.301,610.222,526.976,621.625 'lobe as the path is through the pleura and the immediately subjacent pulmonary parenchyma which is hemorrhagic; the pleural wounds are\\n'>\n",
            "<LTTextLineHorizontal 33.301,598.219,553.954,609.622 'approximately 1/2-3/4 inch in length; thereafter the pathway is from right to left and back to front and through the pleural cavity where the wound\\n'>\n",
            "<LTTextLineHorizontal 33.301,586.216,560.586,597.619 'path terminates on the anterior rib cage where a 3/4 cutting wound is found on the posterior aspect of the right 4th rib anteriorly at the approximate\\n'>\n",
            "<LTTextLineHorizontal 33.301,574.212,543.822,585.615 'midclavicular line; there is overlying bruising in the adjacent intercostal musculature. Estimated length of the total wound path is 4 inches and as\\n'>\n",
            "<LTTextLineHorizontal 33.301,562.209,349.143,573.612 'stated the direction is right to left and back to front with no other angulation measurable.\\n'>\n",
            "<LTTextLineHorizontal 33.301,550.206,294.813,561.609 'OPINION: This is a fatal wound associated with perforation of the right\\n'>\n",
            "<LTTextLineHorizontal 33.301,538.202,117.478,549.605 'lung and a hemothorax.\\n'>\n",
            "<LTTextLineHorizontal 33.301,514.196,231.510,525.599 '2. STAB WOUND OF RIGHT SIDE OF CHEST.\\n'>\n",
            "<LTTextLineHorizontal 33.301,502.192,516.833,513.595 'This wound is located on the right side of the chest, 21 inches below the top of the head and 2 inches from the back of the body. After\\n'>\n",
            "<LTTextLineHorizontal 33.301,490.189,561.756,501.592 'approximation of the edges it measures 1-1/2 inches in length and is diagonally oriented; the posterior aspect is dull or flat, measuring 1/32 inch and\\n'>\n",
            "<LTTextLineHorizontal 33.301,478.185,523.375,489.589 'the anterior aspect is pointed or tapered. Subsequent autopsy shows that the wound is through the skin, the subcutaneous tissue, and the\\n'>\n",
            "<LTTextLineHorizontal 33.301,466.182,557.626,477.585 'intercostal musculature and it penetrates into the pleural cavity through the 8th right intercostal space without striking rib. Thereafter the pathway is\\n'>\n",
            "<LTTextLineHorizontal 33.301,454.179,552.753,465.582 'similar to stab wound #1 as it passes obliquely through the pleura and subjacent hemorrhagic parenchyma at the base of the right lower lobe; 1/2\\n'>\n",
            "<LTTextLineHorizontal 33.301,442.175,540.750,453.579 'inch and 3/4 inch pleural cuts are evident both posteriorly and anteriorly. No other terminating point is evident. There is fresh hemorrhage and\\n'>\n",
            "<LTTextLineHorizontal 33.301,430.172,556.354,441.575 'bruising noted along the wound path as well as the hemothorax described above. The direction is right to left with no other angulation or deviation\\n'>\n",
            "<LTTextLineHorizontal 33.301,418.169,454.172,429.572 'determined because of absence of fixed reference points. Estimated minimum total depth of penetration is 2-3 inches.\\n'>\n",
            "<LTTextLineHorizontal 33.301,406.165,373.750,417.569 'OPINION: This is a fatal stab wound associated with perforation of the lung and hemothorax.\\n'>\n",
            "<LTTextLineHorizontal 33.301,382.159,193.100,393.562 '3. STAB WOUND OF RIGHT FLANK.\\n'>\n",
            "<LTTextLineHorizontal 33.301,370.155,555.226,381.559 'This is a diagonally oriented wound, on the right flank, 29 inches below the top of the head and 3-1/2 inches to the back of the body. It measures\\n'>\n",
            "<LTTextLineHorizontal 33.301,358.152,553.984,369.555 '3/8 inch in length and involves the skin and subcutaneous tissue without penetrating the chest wall or abdominal wall. No square or dull edges are\\n'>\n",
            "<LTTextLineHorizontal 33.301,346.149,191.899,357.552 'evident. Both ends are rounded or tapered. \\n'>\n",
            "<LTTextLineHorizontal 33.301,334.145,438.568,345.548 'OPINION: This is a superficial cutting wound, representing either a superficial stab wound or an incised wound.\\n'>\n",
            "<LTTextLineHorizontal 33.301,310.139,184.097,321.542 '4. STAB WOUND OF LEFT THIGH.\\n'>\n",
            "<LTTextLineHorizontal 33.301,298.135,537.839,309.538 'This is a transversely oriented stab wound on the lateral left thigh, 33 inches above the left heel and 4 inches from the back of the thigh. After\\n'>\n",
            "<LTTextLineHorizontal 33.301,286.132,532.438,297.535 'approximation of the edges it measures 2-1/8 inches in length and posteriorly there is a dull or flat end 1/32 inch and anteriorly a pointed or\\n'>\n",
            "<LTTextLineHorizontal 33.301,274.129,547.198,285.532 'tapered end. Subsequent autopsy shows that the wound path is through the skin, the subcutaneous tissue, and the muscle without striking bone.\\n'>\n",
            "<LTTextLineHorizontal 33.301,262.125,547.198,273.528 'There is fresh hemorrhage along the wound path. The depth of penetration is 3 to 3-1/2 inches from left to right without angulation or deviation.\\n'>\n",
            "<LTTextLineHorizontal 33.301,250.122,347.943,261.525 'OPINION: This is a stab wound of the soft tissue and muscle of the left thigh, nonfatal.\\n'>\n",
            "<LTTextLineHorizontal 33.301,226.115,240.535,237.518 '5. STAB WOUND OF LEFT SIDE OF ABDOMEN\\n'>\n",
            "<LTTextLineHorizontal 33.301,214.112,557.026,225.515 'This is a transversely oriented stab wound on the left side of the abdomen, located 45 inches above the left heel. After approximation of the edges\\n'>\n",
            "<LTTextLineHorizontal 33.301,202.108,546.782,213.512 'it measures 3/4 inch in length with the anterior end pointed or tapered and the posterior end forked or split. Subsequent autopsy shows that the\\n'>\n",
            "<LTTextLineHorizontal 33.301,190.105,561.287,201.508 'wound passes through the skin, the subcutaneous tissue, and through the retroperitoneal tissue which is hemorrhagic; the pathway is through the left\\n'>\n",
            "<LTTextLineHorizontal 33.301,178.102,558.827,189.505 'ilio-psoas muscle associated with fresh hemorrhage and bruising. The path is from left to right and slightly back to front; the wound path terminates\\n'>\n",
            "<LTTextLineHorizontal 33.301,166.098,550.383,177.502 'in the abdominal aorta approximately 1-1/4 inches proximal to the bifurcation. Two perforating 1/2 inch wounds are seen in the wall of the aorta\\n'>\n",
            "<LTTextLineHorizontal 33.301,154.095,554.554,165.498 'with surrounding para-aortic hemorrhage. In addition to the retroperitoneal hemorrhage, including hemorrhage into the mesocolon, approximately\\n'>\n",
            "<LTTextLineHorizontal 33.301,142.092,549.783,153.495 '100 ml of liquid blood is found free within the peritoneal cavity. In addition to the fresh bruising and hemorrhage along the wound path the entire\\n'>\n",
            "<LTTextLineHorizontal 33.301,130.088,554.554,141.492 'length of the wound path is approximately 5-1/2 inches. The direction is left to right, and a slightly back to front direction with no other angulation\\n'>\n",
            "<LTTextLineHorizontal 33.301,118.085,106.675,129.488 'or deviation evident.\\n'>\n",
            "<LTTextLineHorizontal 33.301,106.082,548.999,117.485 'OPINION: This is a fatal stab wound associated with perforation of the abdominal aorta with retroperitoneal and intra-abdominal hemorrhage.\\n'>\n",
            "<LTTextLineHorizontal 33.301,82.075,436.820,93.478 '6. STAB WOUND OF THE RIGHT UPPER CHEST, LATERAL BORDER OF RIGHT CLAVICLE\\n'>\n",
            "<LTTextLineHorizontal 33.301,70.072,537.749,81.475 'This vertically oriented superficial stab wound or incised wound is located on the lateral border of the right clavicle, is vertically oriented, and\\n'>\n",
            "<LTTextLineHorizontal 33.301,58.068,559.802,69.471 'measures 1/2 inch in length; involves the skin and subcutaneous tissue; inferiorly the wound is split or forked and superiorly it is tapered or pointed.\\n'>\n",
            "<LTTextLineHorizontal 33.301,46.065,550.953,57.468 'It should be noted that all of the split or forked ends of the previously mentioned stab wounds overall measure approximately 1/16 to 1/8 inch in\\n'>\n",
            "<LTTextLineHorizontal 33.301,34.062,537.821,45.465 'overall width. There is a small amount of fresh cutaneous hemorrhage. No direction can be evident except for front to back, inasmuch as it is\\n'>\n",
            "<LTTextLineHorizontal 33.301,802.276,71.866,813.679 'superficial.\\n'>\n",
            "<LTTextLineHorizontal 33.301,790.273,288.526,801.676 'OPINION: This is a nonfatal superficial stab wound or cutting wound.\\n'>\n",
            "<LTTextLineHorizontal 33.301,766.266,201.145,777.669 'SHARP FORCE INJURIES OF HANDS:\\n'>\n",
            "<LTTextLineHorizontal 33.301,742.259,553.954,753.662 '1. On the palmar surface of the right hand, at the base of the index finger, there is a cutting or incised wound, 3/4 inch in length and 1/2 inch deep\\n'>\n",
            "<LTTextLineHorizontal 33.301,730.256,430.166,741.659 'involving the skin and subcutaneous tissue with hemorrhage in the margins. Both ends are rounded or tapered. \\n'>\n",
            "<LTTextLineHorizontal 33.301,718.252,228.509,729.656 'OPINION: This is compatible with a defense wound.\\n'>\n",
            "<LTTextLineHorizontal 33.301,694.246,549.753,705.649 '2. On the palmar surface of the right hand, just proximal to the web of the thumb, there is a triangular or Y-shaped cutting wound measuring 1/2\\n'>\n",
            "<LTTextLineHorizontal 33.301,682.242,301.730,693.646 'inch in length maximally and 1/4 inch deep with hemorrhage at the margins.\\n'>\n",
            "<LTTextLineHorizontal 33.301,670.239,228.509,681.642 'OPINION: This is compatible with a defense wound.\\n'>\n",
            "<LTTextLineHorizontal 33.301,646.232,554.625,657.636 '3. On the palmar surface of the left hand at the web of the thumb, there is a 3/4 inch in size or cutting wound involving the skin, and subcutaneous\\n'>\n",
            "<LTTextLineHorizontal 33.301,634.229,539.550,645.632 'tissue; it is approximately 1/4 inch deep with hemorrhage at the margins. Both ends are tapered or pointed with smooth edges similar to the 2\\n'>\n",
            "<LTTextLineHorizontal 33.301,622.226,126.481,633.629 'wounds described above.\\n'>\n",
            "<LTTextLineHorizontal 33.301,610.222,228.509,621.625 'OPINION: This is compatible with a defense wound.\\n'>\n",
            "<LTTextLineHorizontal 33.301,586.216,293.571,597.619 'OTHER INJURIES TO HANDS AND UPPER EXTREMITIES:\\n'>\n",
            "<LTTextLineHorizontal 33.301,562.209,558.601,573.612 '1. On the lateral aspect of the right distal forearm, adjacent to the wrist, there is a 3/4 x 1/2 inch abrasion on the ulnar surface, red-brown in color,\\n'>\n",
            "<LTTextLineHorizontal 33.301,550.206,83.269,561.609 'nonpatterned.\\n'>\n",
            "<LTTextLineHorizontal 33.301,526.199,559.955,537.602 '2. On the lateral or outer aspect of the left forearm there are multiple abrasions both linear and one that is approximately triangular measuring 3/4 x\\n'>\n",
            "<LTTextLineHorizontal 33.301,514.196,443.969,525.599 '1/2 inch; they are all brown to red-brown in color and antemortem; the longest linear abrasion is 3/4 inch in length.\\n'>\n",
            "<LTTextLineHorizontal 33.301,490.189,556.444,501.592 '3. On the dorsal surface of the right hand there are fresh bruises (red-purple in color) and fresh red-brown abrasions. On the proximal knuckle of\\n'>\n",
            "<LTTextLineHorizontal 33.301,478.185,519.174,489.589 'the right middle finger a 1 x 3/4 inch bruise with no overlying abrasion. On the middle knuckle of the index finger a 1/2 x 1/2 inch bruise\\n'>\n",
            "<LTTextLineHorizontal 33.301,466.182,556.985,477.585 'surrounding a 1/8 nondescript abrasion; just distal on the middle phalanx of the middle finger a 1/8 nondescript abrasion. On the proximal knuckle\\n'>\n",
            "<LTTextLineHorizontal 33.301,454.179,552.753,465.582 'of the right index finer there is a 1/2 x 1/2 inch fresh bruise surrounding a linear diagonally oriented 1/2 inch red-brown abrasion. There is a 1/2 x\\n'>\n",
            "<LTTextLineHorizontal 33.301,442.175,542.581,453.579 '1/2 inch fresh bruise on the middle of the right ring finger surrounding 2 punctate abrasions approximately 1/8 inch in maximal diameter; on the\\n'>\n",
            "<LTTextLineHorizontal 33.301,430.172,348.543,441.575 'middle knuckle of the right 5th finger there is a 1/16 inch punctate nondescript abrasion.\\n'>\n",
            "<LTTextLineHorizontal 33.301,406.165,552.183,417.569 '4. On the dorsal side of the left hand there are multiple red-brown abrasions irregular in configuration and border, involving the 3 knuckles of the\\n'>\n",
            "<LTTextLineHorizontal 33.301,394.162,551.043,405.565 'left index finger; maximal dimension 1/4 x 3/8 inch, all red-brown in color. There is an irregularly configured abrasion on the proximal knuckle of\\n'>\n",
            "<LTTextLineHorizontal 33.301,382.159,559.202,393.562 'the left middle finger consisting of an apparent 3 linear 1/2 inch abrasions converging at the center having a somewhat configuration of the letter W.\\n'>\n",
            "<LTTextLineHorizontal 33.301,370.155,543.751,381.559 'These are all superficial skin abrasions. On the dorsal side of the left hand adjacent to the web of the thumb there is a linear, 3/4 inch long skin\\n'>\n",
            "<LTTextLineHorizontal 33.301,358.152,262.873,369.555 'abrasion terminating in a 1/8 inch nondescript punctate abrasion\\n'>\n",
            "<LTTextLineHorizontal 33.301,346.149,544.381,357.552 'near the base of the thumb. There is a fresh bruise, 1-1/4 x 1-1/2 inch on the dorsal surface of the left hand adjacent to the wrist surrounding a\\n'>\n",
            "<LTTextLineHorizontal 33.301,334.145,99.473,345.548 'punctate abrasion.\\n'>\n",
            "<LTTextLineHorizontal 33.301,310.139,550.383,321.542 '5.. There are 2 fresh bruises on the ulnar surface of the left wrist, nonabraded, measuring respectively 3/8 x 3/8 inch and 1/2 x 1/2 inch, with the\\n'>\n",
            "<LTTextLineHorizontal 33.301,298.135,169.093,309.538 'bruising involving the skin and dermis.\\n'>\n",
            "<LTTextLineHorizontal 33.301,274.129,558.785,285.532 'INTERNAL EXAMINATION: The body is opened with the usual Y-shaped thoracoabdominal incision revealing the abdominal adipose tissue\\n'>\n",
            "<LTTextLineHorizontal 33.301,262.125,548.999,273.528 'to measure 1/2 to 3/4 inch in thickness. The anterior abdominal wall has its normal muscular components and no blunt force injuries are evident.\\n'>\n",
            "<LTTextLineHorizontal 33.301,250.122,542.682,261.525 'Exposure of the body cavities shows the contained organs in their usual anatomic locations with their usual anatomic relationships. The serosal\\n'>\n",
            "<LTTextLineHorizontal 33.301,238.118,545.551,249.522 'surfaces are smooth, thin, and glistening and the free blood within the peritoneal cavity due to the stab wound as previously described; this also\\n'>\n",
            "<LTTextLineHorizontal 33.301,226.115,417.562,237.518 'includes the left retroperitoneal hemorrhage, hemorrhage into the left ilio-psoas muscle, and the mesocolon.\\n'>\n",
            "<LTTextLineHorizontal 33.301,202.108,550.424,213.512 'INTERNAL EVIDENCE OF INJURY: Aside from the stab wounds of the chest and abdomen, there are no other internal traumatic injuries\\n'>\n",
            "<LTTextLineHorizontal 33.301,190.105,188.898,201.508 'involving the thoracic or abdominal viscera.\\n'>\n",
            "<LTTextLineHorizontal 33.301,166.098,522.145,177.502 'SYSTEMIC AND ORGAN REVIEW: Autopsy findings, or lack of them, considered apart from those already stated. The following\\n'>\n",
            "<LTTextLineHorizontal 33.301,154.095,365.348,165.498 'observations pertain to findings other than the injuries and changes that are described above.\\n'>\n",
            "<LTTextLineHorizontal 33.301,130.088,494.984,141.492 'MUSCULOSKELETAL SYSTEM--SUBCUTANEOUS TISSUE-SKIN: Anatomic except as otherwise stated or implied.\\n'>\n",
            "<LTTextLineHorizontal 33.301,106.082,544.951,117.485 'HEAD--CENTRAL NERVOUS SYSTEM: The brain weighs 1,400 grams. The external indications of injury as well as the deep scalp and\\n'>\n",
            "<LTTextLineHorizontal 33.301,94.078,551.583,105.481 'subgaleal hemorrhage have been described above. There is no hemorrhage into the temporal muscle or the orbits. There are no tears of the dura\\n'>\n",
            "<LTTextLineHorizontal 33.301,82.075,552.843,93.478 'mater and no recent epidural, subdural, or subarachnoid hemorrhage. The dura is stripped revealing no fractures of the bones of the calvarium or\\n'>\n",
            "<LTTextLineHorizontal 33.301,70.072,545.581,81.475 'base of the skull. The pituitary gland is normally situated in the sella turcica and is not enlarged. The cranial nerves are enumerated and they are\\n'>\n",
            "<LTTextLineHorizontal 33.301,58.068,553.954,69.471 'intact, symmetrical and anatomic in size, location and course. The component vessels of the circle of Willis are identified and they are anatomic in\\n'>\n",
            "<LTTextLineHorizontal 33.301,46.065,530.079,57.468 'size, course and configuration. The blood vessels are intact, free of aneurysm or other anomaly, are non-occluded, and show no significant\\n'>\n",
            "<LTTextLineHorizontal 33.301,34.062,561.756,45.465 'atherosclerosis. Multiple coronal sections of the non-formalin-fixed, fresh brain shows: The cerebral hemispheres, cerebellum, brain stem, pons and\\n'>\n",
            "<LTTextLineHorizontal 33.301,802.276,558.601,813.679 'medulla to show their normal anatomical structures. The cerebellar, the pontine and the medullary surfaces present no lesions. The cerebral cortex,\\n'>\n",
            "<LTTextLineHorizontal 33.301,790.273,556.955,801.676 'the white matter, the ventricular system and basal ganglia are anatomic. There is no evidence of hemorrhage, cysts or neoplasm involving the brain\\n'>\n",
            "<LTTextLineHorizontal 33.301,778.269,193.700,789.672 'substance. The spinal chord is not dissected.\\n'>\n",
            "<LTTextLineHorizontal 33.301,754.262,227.309,765.666 'ORGANS OF SPECIAL SENSES: Not dissected.\\n'>\n",
            "<LTTextLineHorizontal 33.301,730.256,256.961,741.659 'RESPIRATORY SYSTEM--THROAT STRUCTURES:\\n'>\n",
            "<LTTextLineHorizontal 33.301,706.249,552.000,717.652 'The oral cavity, viewed from below, is anatomic and no lesions are seen. The mucosa is intact and there are no injuries to the lips, teeth or gums.\\n'>\n",
            "<LTTextLineHorizontal 33.301,694.246,558.601,705.649 'There is no obstruction of the airway. The injury to the left internal jugular vein has been previously described. The mucosa of the epiglottis, glottis,\\n'>\n",
            "<LTTextLineHorizontal 33.301,682.242,556.354,693.646 'piriform sinuses, trachea and major bronchi are anatomic. No injuries are seen and there are no mucosal lesions. The hyoid bone, the thyroid, and\\n'>\n",
            "<LTTextLineHorizontal 33.301,670.239,558.845,681.642 'the cricoid cartilages are intact. No hemorrhage is present in the tissues adjacent to the throat organs nor is there hemorrhage into the substance of\\n'>\n",
            "<LTTextLineHorizontal 33.301,658.236,318.535,669.639 'the anatomic appearing thyroid gland. The parathyroid glands are not identified.\\n'>\n",
            "<LTTextLineHorizontal 33.301,634.229,550.983,645.632 'LUNGS: The lungs weight: Right, 420 grams; left 320 grams. The external appearance and that of the sectioned surface of the left lung shows a\\n'>\n",
            "<LTTextLineHorizontal 33.301,622.226,538.439,633.629 'pink external surface without evidence of injuries. There is minimal congestion, otherwise not remarkable. No foreign substance, infarction or\\n'>\n",
            "<LTTextLineHorizontal 33.301,610.222,527.576,621.625 'neoplasm is encountered. The right lung shows basilar atelectasis due to the hemothorax caused by the stab wound to the right lower lobe\\n'>\n",
            "<LTTextLineHorizontal 33.301,598.219,536.395,609.622 'described above. Otherwise the external appearance of the sectioned surface shows no focal lesion; there is no evidence of foreign material,\\n'>\n",
            "<LTTextLineHorizontal 33.301,586.216,115.678,597.619 'infarction or neoplasm.\\n'>\n",
            "<LTTextLineHorizontal 33.301,562.209,531.778,573.612 'CARDIOVASCULAR SYSTEM: The heart weighs 290 grams, and has a normal size and configuration. The chambers, valves, and the\\n'>\n",
            "<LTTextLineHorizontal 33.301,550.206,557.026,561.609 'myocardium are anatomic. There are no focal endocardial, valvular or myocardial lesion and no congenital anomalies. Multiple transverse sections\\n'>\n",
            "<LTTextLineHorizontal 33.301,538.202,539.621,549.605 'of the left and right coronary arteries reveal them to be thin-walled and patent throughout with no significant atherosclerosis. The aorta and its\\n'>\n",
            "<LTTextLineHorizontal 33.301,526.199,552.825,537.602 'branches are anatomic; the perforating stab wound injury of the distal abdominal aorta has been previously described. The portal and caval veins\\n'>\n",
            "<LTTextLineHorizontal 33.301,514.196,169.093,525.599 'and the major branches are anatomic.\\n'>\n",
            "<LTTextLineHorizontal 33.301,490.189,544.381,501.592 'GASTROINTESTINAL SYSTEM: The mucosa and wall of the esophagus are intact and gray-pink, without lesions or injuries. The gastric\\n'>\n",
            "<LTTextLineHorizontal 33.301,478.185,550.353,489.589 'mucosa is intact and pink without injury. There are no focal lesions, no residual medications, and no swallowed blood is present. Approximately\\n'>\n",
            "<LTTextLineHorizontal 33.301,466.182,561.156,477.585 '200 ml of partially digested semisolid food is found in the stomach with the presence of fragments of green leafy vegetable material compatible with\\n'>\n",
            "<LTTextLineHorizontal 33.301,454.179,552.825,465.582 'spinach. The mucosa of the duodenum, jejunum, ileum, colon and rectum are intact. The lumen is patent. There are no mucosal lesions or injuries\\n'>\n",
            "<LTTextLineHorizontal 33.301,442.175,397.757,453.579 'and no blood is present. The fecal content is usual in appearance. The vermiform appendix is present.\\n'>\n",
            "<LTTextLineHorizontal 33.301,418.169,557.086,429.572 'HEPATOBILIARY SYSTEM--PANCREAS: The liver weighs 1,360 grams and is normal size and configuration. The subcapsular and the cut\\n'>\n",
            "<LTTextLineHorizontal 33.301,406.165,561.602,417.569 'surfaces of the liver are uniformly brown-red in color, free of nodularity, and usual in appearance. The biliary duct system, including the gallbladder,\\n'>\n",
            "<LTTextLineHorizontal 33.301,394.162,557.026,405.565 'is free of anomaly and no lesions are seen. The mucosa is intact and bile stained. The lumina are patent and no calculi are present. The pancreas is\\n'>\n",
            "<LTTextLineHorizontal 33.301,382.159,191.899,393.562 'anatomic both externally and on cut surface.\\n'>\n",
            "<LTTextLineHorizontal 33.301,358.152,560.687,369.555 'HEMOLYMPHATIC SYSTEM--ADRENAL GLAND: The spleen weighs 210 grams and has an intact capsule. Cut surface shows a normal\\n'>\n",
            "<LTTextLineHorizontal 33.301,346.149,560.027,357.552 'coloration with a firm red-purple parenchyma and no focal lesions. The blood, the bone marrow and the usually-named aggregates of lymph nodes\\n'>\n",
            "<LTTextLineHorizontal 33.301,334.145,547.382,345.548 'do not appear to be significantly altered. The thymus gland is not identified. The adrenal glands are usual in size and location and the cut surface\\n'>\n",
            "<LTTextLineHorizontal 33.301,322.142,556.354,333.545 'presents no lesions or injuries. However, there is a small amount of left periadrenal hemorrhage due to the retro-peritoneal hemorrhage caused by\\n'>\n",
            "<LTTextLineHorizontal 33.301,310.139,91.071,321.542 'the stab wound.\\n'>\n",
            "<LTTextLineHorizontal 33.301,286.132,561.827,297.535 'URINARY SYSTEM: The kidneys weigh: Left, 150 grams; right, 140 grams. The kidneys are anatomic in size, shape and location. The capsules\\n'>\n",
            "<LTTextLineHorizontal 33.301,274.129,552.783,285.532 'are stripped to show a smooth, pale brown surface. On section the cortex and medulla are anatomic without lesions. The calyces, the pelves, the\\n'>\n",
            "<LTTextLineHorizontal 33.301,262.125,547.352,273.528 'ureters and urinary-bladder are unaltered in appearance. The mucosa is gray-pink. No calculi are present, and no blood is present. The urinary\\n'>\n",
            "<LTTextLineHorizontal 33.301,250.122,169.693,261.525 'bladder contains no measurable urine.\\n'>\n",
            "<LTTextLineHorizontal 33.301,226.115,401.358,237.518 'MALE GENITAL SYSTEM: The testicles, the penis, the prostate gland are anatomic to dissection.\\n'>\n",
            "<LTTextLineHorizontal 33.301,202.108,547.982,213.512 'HISTOLOGY: Representatives portions of the various organs, including the larynx, are preserved in 10% formaldehyde and placed in a single\\n'>\n",
            "<LTTextLineHorizontal 33.301,190.105,97.673,201.508 'storage container.\\n'>\n",
            "<LTTextLineHorizontal 33.301,166.098,509.988,177.502 'TOXICOLOGY: A sample of right pleural blood as well as bile are submitted for toxicologic analysis. Stomach contents are saved.\\n'>\n",
            "<LTTextLineHorizontal 33.301,142.092,316.134,153.495 'SEROLOGY: A sample of right pleural blood is submitted in the EDTA tube.\\n'>\n",
            "<LTTextLineHorizontal 33.301,118.085,119.879,129.488 'RADIOLOGY: None.\\n'>\n",
            "<LTTextLineHorizontal 33.301,94.078,497.384,105.481 'PHOTOGRAPHY: In addition to the routine identification photographs; pertinent photographs are taken of the external injuries.\\n'>\n",
            "<LTTextLineHorizontal 33.301,70.072,470.377,81.475 'WITNESSES: Detectives Van Natter and Lange, LAPD, Robbery Homicide Division, were present during the autopsy.\\n'>\n",
            "<LTTextLineHorizontal 33.301,46.065,437.968,57.468 'DIAGRAMS USED: Form 42, 16, 20F, 20H, 21 and 24 were utilized during the performance of the autopsy.\\n'>\n",
            "<LTTextLineHorizontal 33.301,802.276,531.778,813.679 'OPINION: The decedent sustained multiple sharp force injuries, including multiple stab wounds involving the chest and abdomen; multiple\\n'>\n",
            "<LTTextLineHorizontal 33.301,790.273,528.818,801.676 'incised-stab wounds of the neck; and multiple incised or cutting wounds. Fatal wounds were identified involving the neck where there was\\n'>\n",
            "<LTTextLineHorizontal 33.301,778.269,532.794,789.672 'transection of the left internal jugular vein and stab wounds of the chest and abdomen causing intrathoracic and intraabdominal hemorrhage.\\n'>\n",
            "<LTTextLineHorizontal 33.301,754.262,559.955,765.666 'Of note the cutting wounds of the left and right hands, compatible with defensive wounds. In addition there were a number of blunt force injuries to\\n'>\n",
            "<LTTextLineHorizontal 33.301,742.259,553.384,753.662 'the upper extremities and hands, likewise compatible with defensive wounds. The remainder of the autopsy revealed a normal, healthy adult male\\n'>\n",
            "<LTTextLineHorizontal 33.301,730.256,290.927,741.659 'with no congenital anomalies. Routine toxicologic studies were ordered.\\n'>\n"
          ]
        }
      ]
    },
    {
      "cell_type": "code",
      "source": [
        "datapath = 'drive/MyDrive/mtsamples_pdf/mtsamples_pdf'\n",
        "dfb = pd.DataFrame(columns= ['pdf', 'width', 'height', 'linelist'])\n",
        "\n",
        "for pdfname in tqdm(os.listdir(datapath)):\n",
        "  \n",
        "  with pdfplumber.open(os.path.join(datapath, pdfname), laparams={}) as pdf:\n",
        "    first_page = pdf.pages[0]\n",
        "    page = first_page.layout\n",
        "    lines = []\n",
        "    for element in page:\n",
        "      \n",
        "      #if isinstance(element, LTTextLineHorizontal):\n",
        "        #print(element)\n",
        "    \n",
        "      if isinstance(element, LTTextBoxHorizontal):\n",
        "        for line in element:\n",
        "          for character in line:\n",
        "                    if isinstance(character, LTChar):\n",
        "                        if 'Bold' in character.fontname:\n",
        "                            d = {'x0' : line.x0,\n",
        "                            'x1' : line.x1,\n",
        "                            'y0' : line.y0,\n",
        "                            'y1' : line.y1,\n",
        "                            'line' : line.get_text()}            \n",
        "                            lines.append(d)\n",
        "                            break\n",
        "                \n",
        "    dfb = dfb.append({'pdf': pdfname, 'width': first_page.width, 'height': first_page.height, 'linelist': lines}, ignore_index=True)"
      ],
      "metadata": {
        "id": "cJqE74b4kzNa",
        "colab": {
          "base_uri": "https://localhost:8080/"
        },
        "outputId": "346ec148-d8b8-44ac-9ea6-1f7483cca5c6"
      },
      "execution_count": null,
      "outputs": [
        {
          "output_type": "stream",
          "name": "stderr",
          "text": [
            "100%|██████████| 5003/5003 [26:26<00:00,  3.15it/s]\n"
          ]
        }
      ]
    },
    {
      "cell_type": "code",
      "source": [
        "dfb.to_pickle('/content/drive/MyDrive/bold_line_final.pkl')"
      ],
      "metadata": {
        "id": "dE7VQwTwpBX_"
      },
      "execution_count": null,
      "outputs": []
    },
    {
      "cell_type": "code",
      "source": [
        "dfb = pd.read_pickle('/content/drive/MyDrive/bold_line_final.pkl')\n",
        "df = pd.read_pickle('/content/drive/MyDrive/data_line_final.pkl')"
      ],
      "metadata": {
        "id": "P5VZVkZDwwxO"
      },
      "execution_count": null,
      "outputs": []
    },
    {
      "cell_type": "code",
      "source": [
        "import cv2\n",
        "test_img = cv2.imread(r'drive/MyDrive/mtsamples_pdf/mtsamples_pdf/4545.tiff')"
      ],
      "metadata": {
        "id": "9SVlCPkFlrbD"
      },
      "execution_count": null,
      "outputs": []
    },
    {
      "cell_type": "code",
      "source": [
        "import math\n",
        "x_scale, y_scale = 800/595,1000/842\n",
        "word = df.iloc[0]['linelist']\n",
        "for idx in range(len(word)):\n",
        "    x1 = math.ceil(word[idx]['x0']*x_scale)\n",
        "    y1 = math.ceil(word[idx]['y0']*y_scale)\n",
        "    x2 = math.ceil(word[idx]['x1']*x_scale)\n",
        "    y2 = math.ceil(word[idx]['y1']*y_scale)\n",
        "    test_img = cv2.rectangle(test_img, (x1, 1000-y1), (x2, 1000-y2), (255,0,0), 2)\n",
        "plt.figure(figsize=(20,24))\n",
        "plt.imshow(test_img, cmap='gray')"
      ],
      "metadata": {
        "colab": {
          "base_uri": "https://localhost:8080/",
          "height": 1000
        },
        "id": "6ydL61by5m1o",
        "outputId": "6a3e8d13-a6d4-4127-df31-034ba329581a"
      },
      "execution_count": null,
      "outputs": [
        {
          "output_type": "error",
          "ename": "TypeError",
          "evalue": "ignored",
          "traceback": [
            "\u001b[0;31m---------------------------------------------------------------------------\u001b[0m",
            "\u001b[0;31mTypeError\u001b[0m                                 Traceback (most recent call last)",
            "\u001b[0;32m<ipython-input-13-f04a8050f806>\u001b[0m in \u001b[0;36m<module>\u001b[0;34m()\u001b[0m\n\u001b[1;32m      9\u001b[0m     \u001b[0mtest_img\u001b[0m \u001b[0;34m=\u001b[0m \u001b[0mcv2\u001b[0m\u001b[0;34m.\u001b[0m\u001b[0mrectangle\u001b[0m\u001b[0;34m(\u001b[0m\u001b[0mtest_img\u001b[0m\u001b[0;34m,\u001b[0m \u001b[0;34m(\u001b[0m\u001b[0mx1\u001b[0m\u001b[0;34m,\u001b[0m \u001b[0;36m1000\u001b[0m\u001b[0;34m-\u001b[0m\u001b[0my1\u001b[0m\u001b[0;34m)\u001b[0m\u001b[0;34m,\u001b[0m \u001b[0;34m(\u001b[0m\u001b[0mx2\u001b[0m\u001b[0;34m,\u001b[0m \u001b[0;36m1000\u001b[0m\u001b[0;34m-\u001b[0m\u001b[0my2\u001b[0m\u001b[0;34m)\u001b[0m\u001b[0;34m,\u001b[0m \u001b[0;34m(\u001b[0m\u001b[0;36m255\u001b[0m\u001b[0;34m,\u001b[0m\u001b[0;36m0\u001b[0m\u001b[0;34m,\u001b[0m\u001b[0;36m0\u001b[0m\u001b[0;34m)\u001b[0m\u001b[0;34m,\u001b[0m \u001b[0;36m2\u001b[0m\u001b[0;34m)\u001b[0m\u001b[0;34m\u001b[0m\u001b[0;34m\u001b[0m\u001b[0m\n\u001b[1;32m     10\u001b[0m \u001b[0mplt\u001b[0m\u001b[0;34m.\u001b[0m\u001b[0mfigure\u001b[0m\u001b[0;34m(\u001b[0m\u001b[0mfigsize\u001b[0m\u001b[0;34m=\u001b[0m\u001b[0;34m(\u001b[0m\u001b[0;36m20\u001b[0m\u001b[0;34m,\u001b[0m\u001b[0;36m24\u001b[0m\u001b[0;34m)\u001b[0m\u001b[0;34m)\u001b[0m\u001b[0;34m\u001b[0m\u001b[0;34m\u001b[0m\u001b[0m\n\u001b[0;32m---> 11\u001b[0;31m \u001b[0mplt\u001b[0m\u001b[0;34m.\u001b[0m\u001b[0mimshow\u001b[0m\u001b[0;34m(\u001b[0m\u001b[0mtest_img\u001b[0m\u001b[0;34m,\u001b[0m \u001b[0mcmap\u001b[0m\u001b[0;34m=\u001b[0m\u001b[0;34m'gray'\u001b[0m\u001b[0;34m)\u001b[0m\u001b[0;34m\u001b[0m\u001b[0;34m\u001b[0m\u001b[0m\n\u001b[0m",
            "\u001b[0;32m/usr/local/lib/python3.7/dist-packages/matplotlib/pyplot.py\u001b[0m in \u001b[0;36mimshow\u001b[0;34m(X, cmap, norm, aspect, interpolation, alpha, vmin, vmax, origin, extent, shape, filternorm, filterrad, imlim, resample, url, data, **kwargs)\u001b[0m\n\u001b[1;32m   2649\u001b[0m         \u001b[0mfilternorm\u001b[0m\u001b[0;34m=\u001b[0m\u001b[0mfilternorm\u001b[0m\u001b[0;34m,\u001b[0m \u001b[0mfilterrad\u001b[0m\u001b[0;34m=\u001b[0m\u001b[0mfilterrad\u001b[0m\u001b[0;34m,\u001b[0m \u001b[0mimlim\u001b[0m\u001b[0;34m=\u001b[0m\u001b[0mimlim\u001b[0m\u001b[0;34m,\u001b[0m\u001b[0;34m\u001b[0m\u001b[0;34m\u001b[0m\u001b[0m\n\u001b[1;32m   2650\u001b[0m         resample=resample, url=url, **({\"data\": data} if data is not\n\u001b[0;32m-> 2651\u001b[0;31m         None else {}), **kwargs)\n\u001b[0m\u001b[1;32m   2652\u001b[0m     \u001b[0msci\u001b[0m\u001b[0;34m(\u001b[0m\u001b[0m__ret\u001b[0m\u001b[0;34m)\u001b[0m\u001b[0;34m\u001b[0m\u001b[0;34m\u001b[0m\u001b[0m\n\u001b[1;32m   2653\u001b[0m     \u001b[0;32mreturn\u001b[0m \u001b[0m__ret\u001b[0m\u001b[0;34m\u001b[0m\u001b[0;34m\u001b[0m\u001b[0m\n",
            "\u001b[0;32m/usr/local/lib/python3.7/dist-packages/matplotlib/__init__.py\u001b[0m in \u001b[0;36minner\u001b[0;34m(ax, data, *args, **kwargs)\u001b[0m\n\u001b[1;32m   1563\u001b[0m     \u001b[0;32mdef\u001b[0m \u001b[0minner\u001b[0m\u001b[0;34m(\u001b[0m\u001b[0max\u001b[0m\u001b[0;34m,\u001b[0m \u001b[0;34m*\u001b[0m\u001b[0margs\u001b[0m\u001b[0;34m,\u001b[0m \u001b[0mdata\u001b[0m\u001b[0;34m=\u001b[0m\u001b[0;32mNone\u001b[0m\u001b[0;34m,\u001b[0m \u001b[0;34m**\u001b[0m\u001b[0mkwargs\u001b[0m\u001b[0;34m)\u001b[0m\u001b[0;34m:\u001b[0m\u001b[0;34m\u001b[0m\u001b[0;34m\u001b[0m\u001b[0m\n\u001b[1;32m   1564\u001b[0m         \u001b[0;32mif\u001b[0m \u001b[0mdata\u001b[0m \u001b[0;32mis\u001b[0m \u001b[0;32mNone\u001b[0m\u001b[0;34m:\u001b[0m\u001b[0;34m\u001b[0m\u001b[0;34m\u001b[0m\u001b[0m\n\u001b[0;32m-> 1565\u001b[0;31m             \u001b[0;32mreturn\u001b[0m \u001b[0mfunc\u001b[0m\u001b[0;34m(\u001b[0m\u001b[0max\u001b[0m\u001b[0;34m,\u001b[0m \u001b[0;34m*\u001b[0m\u001b[0mmap\u001b[0m\u001b[0;34m(\u001b[0m\u001b[0msanitize_sequence\u001b[0m\u001b[0;34m,\u001b[0m \u001b[0margs\u001b[0m\u001b[0;34m)\u001b[0m\u001b[0;34m,\u001b[0m \u001b[0;34m**\u001b[0m\u001b[0mkwargs\u001b[0m\u001b[0;34m)\u001b[0m\u001b[0;34m\u001b[0m\u001b[0;34m\u001b[0m\u001b[0m\n\u001b[0m\u001b[1;32m   1566\u001b[0m \u001b[0;34m\u001b[0m\u001b[0m\n\u001b[1;32m   1567\u001b[0m         \u001b[0mbound\u001b[0m \u001b[0;34m=\u001b[0m \u001b[0mnew_sig\u001b[0m\u001b[0;34m.\u001b[0m\u001b[0mbind\u001b[0m\u001b[0;34m(\u001b[0m\u001b[0max\u001b[0m\u001b[0;34m,\u001b[0m \u001b[0;34m*\u001b[0m\u001b[0margs\u001b[0m\u001b[0;34m,\u001b[0m \u001b[0;34m**\u001b[0m\u001b[0mkwargs\u001b[0m\u001b[0;34m)\u001b[0m\u001b[0;34m\u001b[0m\u001b[0;34m\u001b[0m\u001b[0m\n",
            "\u001b[0;32m/usr/local/lib/python3.7/dist-packages/matplotlib/cbook/deprecation.py\u001b[0m in \u001b[0;36mwrapper\u001b[0;34m(*args, **kwargs)\u001b[0m\n\u001b[1;32m    356\u001b[0m                 \u001b[0;34mf\"%(removal)s.  If any parameter follows {name!r}, they \"\u001b[0m\u001b[0;34m\u001b[0m\u001b[0;34m\u001b[0m\u001b[0m\n\u001b[1;32m    357\u001b[0m                 f\"should be pass as keyword, not positionally.\")\n\u001b[0;32m--> 358\u001b[0;31m         \u001b[0;32mreturn\u001b[0m \u001b[0mfunc\u001b[0m\u001b[0;34m(\u001b[0m\u001b[0;34m*\u001b[0m\u001b[0margs\u001b[0m\u001b[0;34m,\u001b[0m \u001b[0;34m**\u001b[0m\u001b[0mkwargs\u001b[0m\u001b[0;34m)\u001b[0m\u001b[0;34m\u001b[0m\u001b[0;34m\u001b[0m\u001b[0m\n\u001b[0m\u001b[1;32m    359\u001b[0m \u001b[0;34m\u001b[0m\u001b[0m\n\u001b[1;32m    360\u001b[0m     \u001b[0;32mreturn\u001b[0m \u001b[0mwrapper\u001b[0m\u001b[0;34m\u001b[0m\u001b[0;34m\u001b[0m\u001b[0m\n",
            "\u001b[0;32m/usr/local/lib/python3.7/dist-packages/matplotlib/cbook/deprecation.py\u001b[0m in \u001b[0;36mwrapper\u001b[0;34m(*args, **kwargs)\u001b[0m\n\u001b[1;32m    356\u001b[0m                 \u001b[0;34mf\"%(removal)s.  If any parameter follows {name!r}, they \"\u001b[0m\u001b[0;34m\u001b[0m\u001b[0;34m\u001b[0m\u001b[0m\n\u001b[1;32m    357\u001b[0m                 f\"should be pass as keyword, not positionally.\")\n\u001b[0;32m--> 358\u001b[0;31m         \u001b[0;32mreturn\u001b[0m \u001b[0mfunc\u001b[0m\u001b[0;34m(\u001b[0m\u001b[0;34m*\u001b[0m\u001b[0margs\u001b[0m\u001b[0;34m,\u001b[0m \u001b[0;34m**\u001b[0m\u001b[0mkwargs\u001b[0m\u001b[0;34m)\u001b[0m\u001b[0;34m\u001b[0m\u001b[0;34m\u001b[0m\u001b[0m\n\u001b[0m\u001b[1;32m    359\u001b[0m \u001b[0;34m\u001b[0m\u001b[0m\n\u001b[1;32m    360\u001b[0m     \u001b[0;32mreturn\u001b[0m \u001b[0mwrapper\u001b[0m\u001b[0;34m\u001b[0m\u001b[0;34m\u001b[0m\u001b[0m\n",
            "\u001b[0;32m/usr/local/lib/python3.7/dist-packages/matplotlib/axes/_axes.py\u001b[0m in \u001b[0;36mimshow\u001b[0;34m(self, X, cmap, norm, aspect, interpolation, alpha, vmin, vmax, origin, extent, shape, filternorm, filterrad, imlim, resample, url, **kwargs)\u001b[0m\n\u001b[1;32m   5624\u001b[0m                               resample=resample, **kwargs)\n\u001b[1;32m   5625\u001b[0m \u001b[0;34m\u001b[0m\u001b[0m\n\u001b[0;32m-> 5626\u001b[0;31m         \u001b[0mim\u001b[0m\u001b[0;34m.\u001b[0m\u001b[0mset_data\u001b[0m\u001b[0;34m(\u001b[0m\u001b[0mX\u001b[0m\u001b[0;34m)\u001b[0m\u001b[0;34m\u001b[0m\u001b[0;34m\u001b[0m\u001b[0m\n\u001b[0m\u001b[1;32m   5627\u001b[0m         \u001b[0mim\u001b[0m\u001b[0;34m.\u001b[0m\u001b[0mset_alpha\u001b[0m\u001b[0;34m(\u001b[0m\u001b[0malpha\u001b[0m\u001b[0;34m)\u001b[0m\u001b[0;34m\u001b[0m\u001b[0;34m\u001b[0m\u001b[0m\n\u001b[1;32m   5628\u001b[0m         \u001b[0;32mif\u001b[0m \u001b[0mim\u001b[0m\u001b[0;34m.\u001b[0m\u001b[0mget_clip_path\u001b[0m\u001b[0;34m(\u001b[0m\u001b[0;34m)\u001b[0m \u001b[0;32mis\u001b[0m \u001b[0;32mNone\u001b[0m\u001b[0;34m:\u001b[0m\u001b[0;34m\u001b[0m\u001b[0;34m\u001b[0m\u001b[0m\n",
            "\u001b[0;32m/usr/local/lib/python3.7/dist-packages/matplotlib/image.py\u001b[0m in \u001b[0;36mset_data\u001b[0;34m(self, A)\u001b[0m\n\u001b[1;32m    692\u001b[0m                 not np.can_cast(self._A.dtype, float, \"same_kind\")):\n\u001b[1;32m    693\u001b[0m             raise TypeError(\"Image data of dtype {} cannot be converted to \"\n\u001b[0;32m--> 694\u001b[0;31m                             \"float\".format(self._A.dtype))\n\u001b[0m\u001b[1;32m    695\u001b[0m \u001b[0;34m\u001b[0m\u001b[0m\n\u001b[1;32m    696\u001b[0m         if not (self._A.ndim == 2\n",
            "\u001b[0;31mTypeError\u001b[0m: Image data of dtype object cannot be converted to float"
          ]
        },
        {
          "output_type": "display_data",
          "data": {
            "text/plain": [
              "<Figure size 1440x1728 with 1 Axes>"
            ],
            "image/png": "[encoded data removed]"
          },
          "metadata": {
            "needs_background": "light"
          }
        }
      ]
    },
    {
      "cell_type": "code",
      "source": [
        "\n",
        "!pip3 install matplotlib  "
      ],
      "metadata": {
        "colab": {
          "base_uri": "https://localhost:8080/"
        },
        "id": "PZZiMPzNDXc6",
        "outputId": "05fdc7c7-7b63-4578-8b64-64acf3606bee"
      },
      "execution_count": null,
      "outputs": [
        {
          "output_type": "stream",
          "name": "stdout",
          "text": [
            "Looking in indexes: https://pypi.org/simple, https://us-python.pkg.dev/colab-wheels/public/simple/\n",
            "Requirement already satisfied: matplotlib in /usr/local/lib/python3.7/dist-packages (3.2.2)\n",
            "Requirement already satisfied: kiwisolver>=1.0.1 in /usr/local/lib/python3.7/dist-packages (from matplotlib) (1.4.2)\n",
            "Requirement already satisfied: numpy>=1.11 in /usr/local/lib/python3.7/dist-packages (from matplotlib) (1.21.6)\n",
            "Requirement already satisfied: python-dateutil>=2.1 in /usr/local/lib/python3.7/dist-packages (from matplotlib) (2.8.2)\n",
            "Requirement already satisfied: pyparsing!=2.0.4,!=2.1.2,!=2.1.6,>=2.0.1 in /usr/local/lib/python3.7/dist-packages (from matplotlib) (3.0.9)\n",
            "Requirement already satisfied: cycler>=0.10 in /usr/local/lib/python3.7/dist-packages (from matplotlib) (0.11.0)\n",
            "Requirement already satisfied: typing-extensions in /usr/local/lib/python3.7/dist-packages (from kiwisolver>=1.0.1->matplotlib) (4.2.0)\n",
            "Requirement already satisfied: six>=1.5 in /usr/local/lib/python3.7/dist-packages (from python-dateutil>=2.1->matplotlib) (1.15.0)\n",
            "\u001b[33mWARNING: Running pip as the 'root' user can result in broken permissions and conflicting behaviour with the system package manager. It is recommended to use a virtual environment instead: https://pip.pypa.io/warnings/venv\u001b[0m\u001b[33m\n",
            "\u001b[0m"
          ]
        }
      ]
    },
    {
      "cell_type": "code",
      "source": [
        "from osgeo import gdal as GD  \n",
        "import matplotlib.pyplot as mplot  \n",
        "import numpy as npy  \n",
        "data_set = GD.Open(r'land_shallow_topo_2048.tif')  "
      ],
      "metadata": {
        "id": "hS0hQ3Mn5tRl"
      },
      "execution_count": null,
      "outputs": []
    },
    {
      "cell_type": "code",
      "source": [
        "sections = pd.DataFrame(columns= ['pdf', 'width', 'height', 'slist'])\n",
        "for i in range(5003):\n",
        "    flag=1\n",
        "    j=0\n",
        "    max=0\n",
        "    xs,xe,ys,ye=0,0,0,0\n",
        "    word = df.iloc[i]['linelist']\n",
        "    wordb= dfb.iloc[i]['linelist']\n",
        "    lines=[]\n",
        "    xs=word[0]['x0']\n",
        "    ys=word[0]['y1']\n",
        "    for idx in range(len(word)):\n",
        "        if(word[idx]['line']==\"(Medical Transcription Sample Report)\\n\"):\n",
        "            xe=max\n",
        "            ye=word[idx]['y0']\n",
        "            d={'x0':xs,'y0':ys,'x1':xe,'y1':ye}\n",
        "            max=0\n",
        "            lines.append(d)\n",
        "            if(j+1>=len(wordb)):\n",
        "              break\n",
        "            if(wordb[j+1]['line']!=word[idx+1]['line']):\n",
        "              break\n",
        "            j=j+1\n",
        "            flag=0\n",
        "            continue\n",
        "        if(flag):\n",
        "            x1=word[idx]['x1']\n",
        "            temp=x1\n",
        "            if(max<temp):\n",
        "              max=temp\n",
        "            j=j+1\n",
        "            continue\n",
        "        if(j<len(wordb) and word[idx]['line']==wordb[j]['line']):\n",
        "            xs=word[idx]['x0']\n",
        "            ys=word[idx]['y1']\n",
        "            j=j+1\n",
        "        x1=word[idx]['x1']\n",
        "        temp=x1\n",
        "        if(max<temp):\n",
        "            max=temp\n",
        "        if(j<len(wordb) and idx<len(word)-1 and word[idx+1]['line']==wordb[j]['line']):\n",
        "            xe=max\n",
        "            ye=word[idx]['y0']\n",
        "            d={'x0':xs,'y0':ys,'x1':xe,'y1':ye}\n",
        "            max=0\n",
        "            lines.append(d)\n",
        "            continue\n",
        "        if(j==len(wordb) and idx==len(word)-1):\n",
        "            xe=max\n",
        "            ye=word[idx]['y0']\n",
        "            d={'x0':xs,'y0':ys,'x1':xe,'y1':ye}\n",
        "            max=0\n",
        "            lines.append(d)\n",
        "    if(flag==0):\n",
        "        sections=sections.append({'pdf': df.iloc[i]['pdf'], 'width': df.iloc[i]['width'], 'height': df.iloc[i]['height'], 'linelist': lines}, ignore_index=True)\n"
      ],
      "metadata": {
        "id": "alGtwBnB9ePc"
      },
      "execution_count": null,
      "outputs": []
    },
    {
      "cell_type": "code",
      "source": [
        "sections.to_pickle('/content/drive/MyDrive/sections.pkl')"
      ],
      "metadata": {
        "id": "lfNFvgWH93yJ"
      },
      "execution_count": null,
      "outputs": []
    },
    {
      "cell_type": "code",
      "source": [
        "sections = pd.read_pickle('/content/drive/MyDrive/sections.pkl')"
      ],
      "metadata": {
        "id": "guHyuHO2dq0M"
      },
      "execution_count": null,
      "outputs": []
    },
    {
      "cell_type": "code",
      "source": [
        "import cv2\n",
        "test_img = cv2.imread(r'drive/MyDrive/mtsamples_pdf/mtsamples_pdf/4545.tiff')"
      ],
      "metadata": {
        "id": "fN7FUkJLd2g1"
      },
      "execution_count": null,
      "outputs": []
    },
    {
      "cell_type": "code",
      "source": [
        "print(sections)"
      ],
      "metadata": {
        "colab": {
          "base_uri": "https://localhost:8080/"
        },
        "id": "UtNfw12ud9p9",
        "outputId": "946a063e-a454-4478-c856-fd95673c8c90"
      },
      "execution_count": null,
      "outputs": [
        {
          "output_type": "stream",
          "name": "stdout",
          "text": [
            "Empty DataFrame\n",
            "Columns: [pdf, width, height, slist]\n",
            "Index: []\n"
          ]
        }
      ]
    },
    {
      "cell_type": "code",
      "source": [
        "train1 = pd.DataFrame(columns= ['pdf', 'width', 'height', 'linelist'])\n",
        "train2 = pd.DataFrame(columns= ['pdf', 'width', 'height', 'linelist'])\n",
        "train3 = pd.DataFrame(columns= ['pdf', 'width', 'height', 'linelist'])\n",
        "test1 = pd.DataFrame(columns= ['pdf', 'width', 'height', 'linelist'])\n",
        "test2 = pd.DataFrame(columns= ['pdf', 'width', 'height', 'linelist'])\n",
        "test3 = pd.DataFrame(columns= ['pdf', 'width', 'height', 'linelist'])\n",
        "val1 = pd.DataFrame(columns= ['pdf', 'width', 'height', 'linelist'])\n",
        "val2 = pd.DataFrame(columns= ['pdf', 'width', 'height', 'linelist'])\n",
        "val3 = pd.DataFrame(columns= ['pdf', 'width', 'height', 'linelist'])\n",
        "for i in range(4000):\n",
        "    word = sections.iloc[i]\n",
        "    while(i<2000):\n",
        "        train1.append(word)\n",
        "    while(i<3000 and i>=2000):\n",
        "        train2.append(word)\n",
        "    while(i<3500 and i>=3000):\n",
        "        train3.append(word)\n",
        "    while(i<3800 and i>=3500):\n",
        "        test1.append(word)\n",
        "    while(i<4000 and i>=3800):\n",
        "        test2.append(word)\n",
        "    while(i<4100 and i>=4000):\n",
        "        test3.append(word)\n",
        "    while(i<4200 and i>=4100):\n",
        "        val1.append(word)\n",
        "    while(i<4250 and i>=4200):\n",
        "        val2.append(word)\n",
        "    while(i<4300 and i>=4250):\n",
        "        val3.append(word)"
      ],
      "metadata": {
        "id": "PlPyvjw1et3P"
      },
      "execution_count": null,
      "outputs": []
    },
    {
      "cell_type": "code",
      "source": [
        "train1.to_pickle('C:/Users/AI03592/Downloads/Labels/train1.pkl')\n",
        "train2.to_pickle('C:/Users/AI03592/Downloads/Labels/train2.pkl')\n",
        "train3.to_pickle('C:/Users/AI03592/Downloads/Labels/train3.pkl')\n",
        "test1.to_pickle('C:/Users/AI03592/Downloads/Labels/test1.pkl')\n",
        "test2.to_pickle('C:/Users/AI03592/Downloads/Labels/test2.pkl')\n",
        "test3.to_pickle('C:/Users/AI03592/Downloads/Labels/test3.pkl')\n",
        "val1.to_pickle('C:/Users/AI03592/Downloads/Labels/val1.pkl')\n",
        "val2.to_pickle('C:/Users/AI03592/Downloads/Labels/val2.pkl')\n",
        "val3.to_pickle('C:/Users/AI03592/Downloads/Labels/val3.pkl')"
      ],
      "metadata": {
        "id": "7oCS7atKDnSQ"
      },
      "execution_count": null,
      "outputs": []
    },
    {
      "cell_type": "code",
      "source": [
        "loc='drive/MyDrive/'\n"
      ],
      "metadata": {
        "id": "jj6A8aFFDyn0"
      },
      "execution_count": null,
      "outputs": []
    }
  ]
}