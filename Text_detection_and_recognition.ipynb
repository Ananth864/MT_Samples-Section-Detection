{
  "nbformat": 4,
  "nbformat_minor": 0,
  "metadata": {
    "colab": {
      "name": "Text detection and recognition.ipynb",
      "provenance": []
    },
    "kernelspec": {
      "name": "python3",
      "display_name": "Python 3"
    },
    "language_info": {
      "name": "python"
    },
    "gpuClass": "standard"
  },
  "cells": [
    {
      "cell_type": "code",
      "execution_count": null,
      "metadata": {
        "colab": {
          "base_uri": "https://localhost:8080/"
        },
        "id": "HSB9h2frvQzy",
        "outputId": "63432129-a65f-4a24-8684-af0bb85b3b8a"
      },
      "outputs": [
        {
          "output_type": "stream",
          "name": "stdout",
          "text": [
            "Looking in indexes: https://pypi.org/simple, https://us-python.pkg.dev/colab-wheels/public/simple/\n",
            "Requirement already satisfied: pip in /usr/local/lib/python3.7/dist-packages (21.1.3)\n",
            "Collecting pip\n",
            "  Downloading pip-22.1.2-py3-none-any.whl (2.1 MB)\n",
            "\u001b[K     |████████████████████████████████| 2.1 MB 5.2 MB/s \n",
            "\u001b[?25hInstalling collected packages: pip\n",
            "  Attempting uninstall: pip\n",
            "    Found existing installation: pip 21.1.3\n",
            "    Uninstalling pip-21.1.3:\n",
            "      Successfully uninstalled pip-21.1.3\n",
            "Successfully installed pip-22.1.2\n",
            "Looking in indexes: https://mirror.baidu.com/pypi/simple, https://us-python.pkg.dev/colab-wheels/public/simple/\n",
            "Collecting paddlepaddle\n",
            "  Downloading https://mirror.baidu.com/pypi/packages/9d/a4/0da466d67fbfd52d7dba987a41ae0d71bd80a7f6492d1dab9c585d6eb5bf/paddlepaddle-2.3.0-cp37-cp37m-manylinux1_x86_64.whl (112.3 MB)\n",
            "\u001b[2K     \u001b[90m━━━━━━━━━━━━━━━━━━━━━━━━━━━━━━━━━━━━━━━\u001b[0m \u001b[32m112.3/112.3 MB\u001b[0m \u001b[31m5.3 MB/s\u001b[0m eta \u001b[36m0:00:00\u001b[0m\n",
            "\u001b[?25hRequirement already satisfied: requests>=2.20.0 in /usr/local/lib/python3.7/dist-packages (from paddlepaddle) (2.23.0)\n",
            "Requirement already satisfied: protobuf>=3.1.0 in /usr/local/lib/python3.7/dist-packages (from paddlepaddle) (3.17.3)\n",
            "Requirement already satisfied: astor in /usr/local/lib/python3.7/dist-packages (from paddlepaddle) (0.8.1)\n",
            "Requirement already satisfied: six in /usr/local/lib/python3.7/dist-packages (from paddlepaddle) (1.15.0)\n",
            "Requirement already satisfied: Pillow in /usr/local/lib/python3.7/dist-packages (from paddlepaddle) (7.1.2)\n",
            "Requirement already satisfied: numpy>=1.13 in /usr/local/lib/python3.7/dist-packages (from paddlepaddle) (1.21.6)\n",
            "Requirement already satisfied: decorator in /usr/local/lib/python3.7/dist-packages (from paddlepaddle) (4.4.2)\n",
            "Collecting paddle-bfloat==0.1.2\n",
            "  Downloading https://mirror.baidu.com/pypi/packages/71/b2/f601d2d515be9206e69baf17cc7b8ef5a1c3384874b4e15da16b9c9cfc2f/paddle_bfloat-0.1.2-cp37-cp37m-manylinux_2_5_x86_64.manylinux1_x86_64.manylinux_2_12_x86_64.manylinux2010_x86_64.whl (373 kB)\n",
            "\u001b[2K     \u001b[90m━━━━━━━━━━━━━━━━━━━━━━━━━━━━━━━━━━━━━━\u001b[0m \u001b[32m373.7/373.7 kB\u001b[0m \u001b[31m17.9 MB/s\u001b[0m eta \u001b[36m0:00:00\u001b[0m\n",
            "\u001b[?25hRequirement already satisfied: opt-einsum==3.3.0 in /usr/local/lib/python3.7/dist-packages (from paddlepaddle) (3.3.0)\n",
            "Requirement already satisfied: certifi>=2017.4.17 in /usr/local/lib/python3.7/dist-packages (from requests>=2.20.0->paddlepaddle) (2022.6.15)\n",
            "Requirement already satisfied: chardet<4,>=3.0.2 in /usr/local/lib/python3.7/dist-packages (from requests>=2.20.0->paddlepaddle) (3.0.4)\n",
            "Requirement already satisfied: urllib3!=1.25.0,!=1.25.1,<1.26,>=1.21.1 in /usr/local/lib/python3.7/dist-packages (from requests>=2.20.0->paddlepaddle) (1.24.3)\n",
            "Requirement already satisfied: idna<3,>=2.5 in /usr/local/lib/python3.7/dist-packages (from requests>=2.20.0->paddlepaddle) (2.10)\n",
            "Installing collected packages: paddle-bfloat, paddlepaddle\n",
            "Successfully installed paddle-bfloat-0.1.2 paddlepaddle-2.3.0\n",
            "\u001b[33mWARNING: Running pip as the 'root' user can result in broken permissions and conflicting behaviour with the system package manager. It is recommended to use a virtual environment instead: https://pip.pypa.io/warnings/venv\u001b[0m\u001b[33m\n",
            "\u001b[0m"
          ]
        }
      ],
      "source": [
        "!pip3 install --upgrade pip\n",
        "!python3 -m pip install paddlepaddle -i https://mirror.baidu.com/pypi/simple"
      ]
    },
    {
      "cell_type": "code",
      "source": [
        "!git clone https://github.com/PaddlePaddle/PaddleOCR"
      ],
      "metadata": {
        "colab": {
          "base_uri": "https://localhost:8080/"
        },
        "id": "jkX6fqYjvgZc",
        "outputId": "26d40605-3b68-44c9-bc44-db14a0a344ce"
      },
      "execution_count": null,
      "outputs": [
        {
          "output_type": "stream",
          "name": "stdout",
          "text": [
            "Cloning into 'PaddleOCR'...\n",
            "remote: Enumerating objects: 38094, done.\u001b[K\n",
            "remote: Counting objects: 100% (160/160), done.\u001b[K\n",
            "remote: Compressing objects: 100% (97/97), done.\u001b[K\n",
            "remote: Total 38094 (delta 76), reused 129 (delta 63), pack-reused 37934\u001b[K\n",
            "Receiving objects: 100% (38094/38094), 320.31 MiB | 31.22 MiB/s, done.\n",
            "Resolving deltas: 100% (26554/26554), done.\n"
          ]
        }
      ]
    },
    {
      "cell_type": "code",
      "source": [
        "!pip install importlib-metadata\n",
        "!pip3 install -r /content/PaddleOCR/requirements.txt"
      ],
      "metadata": {
        "colab": {
          "base_uri": "https://localhost:8080/"
        },
        "id": "4-Y7TJUCD_aR",
        "outputId": "95a8380e-397b-45ed-f250-a8e29944e59e"
      },
      "execution_count": null,
      "outputs": [
        {
          "output_type": "stream",
          "name": "stdout",
          "text": [
            "Looking in indexes: https://pypi.org/simple, https://us-python.pkg.dev/colab-wheels/public/simple/\n",
            "Requirement already satisfied: importlib-metadata in /usr/local/lib/python3.7/dist-packages (4.11.4)\n",
            "Requirement already satisfied: typing-extensions>=3.6.4 in /usr/local/lib/python3.7/dist-packages (from importlib-metadata) (4.1.1)\n",
            "Requirement already satisfied: zipp>=0.5 in /usr/local/lib/python3.7/dist-packages (from importlib-metadata) (3.8.0)\n",
            "\u001b[33mWARNING: Running pip as the 'root' user can result in broken permissions and conflicting behaviour with the system package manager. It is recommended to use a virtual environment instead: https://pip.pypa.io/warnings/venv\u001b[0m\u001b[33m\n",
            "\u001b[0mLooking in indexes: https://pypi.org/simple, https://us-python.pkg.dev/colab-wheels/public/simple/\n",
            "Requirement already satisfied: shapely in /usr/local/lib/python3.7/dist-packages (from -r /content/PaddleOCR/requirements.txt (line 1)) (1.8.2)\n",
            "Requirement already satisfied: scikit-image in /usr/local/lib/python3.7/dist-packages (from -r /content/PaddleOCR/requirements.txt (line 2)) (0.18.3)\n",
            "Collecting imgaug==0.4.0\n",
            "  Downloading imgaug-0.4.0-py2.py3-none-any.whl (948 kB)\n",
            "\u001b[2K     \u001b[90m━━━━━━━━━━━━━━━━━━━━━━━━━━━━━━━━━━━━━━\u001b[0m \u001b[32m948.0/948.0 kB\u001b[0m \u001b[31m16.4 MB/s\u001b[0m eta \u001b[36m0:00:00\u001b[0m\n",
            "\u001b[?25hCollecting pyclipper\n",
            "  Downloading pyclipper-1.3.0.post3-cp37-cp37m-manylinux_2_5_x86_64.manylinux1_x86_64.whl (604 kB)\n",
            "\u001b[2K     \u001b[90m━━━━━━━━━━━━━━━━━━━━━━━━━━━━━━━━━━━━━━\u001b[0m \u001b[32m604.2/604.2 kB\u001b[0m \u001b[31m26.9 MB/s\u001b[0m eta \u001b[36m0:00:00\u001b[0m\n",
            "\u001b[?25hRequirement already satisfied: lmdb in /usr/local/lib/python3.7/dist-packages (from -r /content/PaddleOCR/requirements.txt (line 5)) (0.99)\n",
            "Requirement already satisfied: tqdm in /usr/local/lib/python3.7/dist-packages (from -r /content/PaddleOCR/requirements.txt (line 6)) (4.64.0)\n",
            "Requirement already satisfied: numpy in /usr/local/lib/python3.7/dist-packages (from -r /content/PaddleOCR/requirements.txt (line 7)) (1.21.6)\n",
            "Collecting visualdl\n",
            "  Downloading visualdl-2.3.0-py3-none-any.whl (2.8 MB)\n",
            "\u001b[2K     \u001b[90m━━━━━━━━━━━━━━━━━━━━━━━━━━━━━━━━━━━━━━━━\u001b[0m \u001b[32m2.8/2.8 MB\u001b[0m \u001b[31m50.9 MB/s\u001b[0m eta \u001b[36m0:00:00\u001b[0m\n",
            "\u001b[?25hCollecting python-Levenshtein\n",
            "  Downloading python-Levenshtein-0.12.2.tar.gz (50 kB)\n",
            "\u001b[2K     \u001b[90m━━━━━━━━━━━━━━━━━━━━━━━━━━━━━━━━━━━━━━━━\u001b[0m \u001b[32m50.5/50.5 kB\u001b[0m \u001b[31m6.8 MB/s\u001b[0m eta \u001b[36m0:00:00\u001b[0m\n",
            "\u001b[?25h  Preparing metadata (setup.py) ... \u001b[?25l\u001b[?25hdone\n",
            "Collecting opencv-contrib-python==4.4.0.46\n",
            "  Downloading opencv_contrib_python-4.4.0.46-cp37-cp37m-manylinux2014_x86_64.whl (55.7 MB)\n",
            "\u001b[2K     \u001b[90m━━━━━━━━━━━━━━━━━━━━━━━━━━━━━━━━━━━━━━━━\u001b[0m \u001b[32m55.7/55.7 MB\u001b[0m \u001b[31m10.7 MB/s\u001b[0m eta \u001b[36m0:00:00\u001b[0m\n",
            "\u001b[?25hRequirement already satisfied: cython in /usr/local/lib/python3.7/dist-packages (from -r /content/PaddleOCR/requirements.txt (line 11)) (0.29.30)\n",
            "Requirement already satisfied: lxml in /usr/local/lib/python3.7/dist-packages (from -r /content/PaddleOCR/requirements.txt (line 12)) (4.2.6)\n",
            "Collecting premailer\n",
            "  Downloading premailer-3.10.0-py2.py3-none-any.whl (19 kB)\n",
            "Requirement already satisfied: openpyxl in /usr/local/lib/python3.7/dist-packages (from -r /content/PaddleOCR/requirements.txt (line 14)) (3.0.10)\n",
            "Collecting attrdict\n",
            "  Downloading attrdict-2.0.1-py2.py3-none-any.whl (9.9 kB)\n",
            "Requirement already satisfied: matplotlib in /usr/local/lib/python3.7/dist-packages (from imgaug==0.4.0->-r /content/PaddleOCR/requirements.txt (line 3)) (3.2.2)\n",
            "Requirement already satisfied: opencv-python in /usr/local/lib/python3.7/dist-packages (from imgaug==0.4.0->-r /content/PaddleOCR/requirements.txt (line 3)) (4.1.2.30)\n",
            "Requirement already satisfied: scipy in /usr/local/lib/python3.7/dist-packages (from imgaug==0.4.0->-r /content/PaddleOCR/requirements.txt (line 3)) (1.4.1)\n",
            "Requirement already satisfied: six in /usr/local/lib/python3.7/dist-packages (from imgaug==0.4.0->-r /content/PaddleOCR/requirements.txt (line 3)) (1.15.0)\n",
            "Requirement already satisfied: imageio in /usr/local/lib/python3.7/dist-packages (from imgaug==0.4.0->-r /content/PaddleOCR/requirements.txt (line 3)) (2.4.1)\n",
            "Requirement already satisfied: Pillow in /usr/local/lib/python3.7/dist-packages (from imgaug==0.4.0->-r /content/PaddleOCR/requirements.txt (line 3)) (7.1.2)\n",
            "Requirement already satisfied: tifffile>=2019.7.26 in /usr/local/lib/python3.7/dist-packages (from scikit-image->-r /content/PaddleOCR/requirements.txt (line 2)) (2021.11.2)\n",
            "Requirement already satisfied: PyWavelets>=1.1.1 in /usr/local/lib/python3.7/dist-packages (from scikit-image->-r /content/PaddleOCR/requirements.txt (line 2)) (1.3.0)\n",
            "Requirement already satisfied: networkx>=2.0 in /usr/local/lib/python3.7/dist-packages (from scikit-image->-r /content/PaddleOCR/requirements.txt (line 2)) (2.6.3)\n",
            "Requirement already satisfied: flask>=1.1.1 in /usr/local/lib/python3.7/dist-packages (from visualdl->-r /content/PaddleOCR/requirements.txt (line 8)) (1.1.4)\n",
            "Collecting Flask-Babel>=1.0.0\n",
            "  Downloading Flask_Babel-2.0.0-py3-none-any.whl (9.3 kB)\n",
            "Requirement already satisfied: requests in /usr/local/lib/python3.7/dist-packages (from visualdl->-r /content/PaddleOCR/requirements.txt (line 8)) (2.23.0)\n",
            "Requirement already satisfied: protobuf>=3.11.0 in /usr/local/lib/python3.7/dist-packages (from visualdl->-r /content/PaddleOCR/requirements.txt (line 8)) (3.17.3)\n",
            "Collecting bce-python-sdk\n",
            "  Downloading bce_python_sdk-0.8.73-py3-none-any.whl (204 kB)\n",
            "\u001b[2K     \u001b[90m━━━━━━━━━━━━━━━━━━━━━━━━━━━━━━━━━━━━━━\u001b[0m \u001b[32m204.5/204.5 kB\u001b[0m \u001b[31m19.7 MB/s\u001b[0m eta \u001b[36m0:00:00\u001b[0m\n",
            "\u001b[?25hRequirement already satisfied: pandas in /usr/local/lib/python3.7/dist-packages (from visualdl->-r /content/PaddleOCR/requirements.txt (line 8)) (1.3.5)\n",
            "Requirement already satisfied: setuptools in /usr/local/lib/python3.7/dist-packages (from python-Levenshtein->-r /content/PaddleOCR/requirements.txt (line 9)) (57.4.0)\n",
            "Requirement already satisfied: cachetools in /usr/local/lib/python3.7/dist-packages (from premailer->-r /content/PaddleOCR/requirements.txt (line 13)) (4.2.4)\n",
            "Collecting cssutils\n",
            "  Downloading cssutils-2.4.2-py3-none-any.whl (404 kB)\n",
            "\u001b[2K     \u001b[90m━━━━━━━━━━━━━━━━━━━━━━━━━━━━━━━━━━━━━━\u001b[0m \u001b[32m404.8/404.8 kB\u001b[0m \u001b[31m24.5 MB/s\u001b[0m eta \u001b[36m0:00:00\u001b[0m\n",
            "\u001b[?25hCollecting cssselect\n",
            "  Downloading cssselect-1.1.0-py2.py3-none-any.whl (16 kB)\n",
            "Requirement already satisfied: et-xmlfile in /usr/local/lib/python3.7/dist-packages (from openpyxl->-r /content/PaddleOCR/requirements.txt (line 14)) (1.1.0)\n",
            "Requirement already satisfied: itsdangerous<2.0,>=0.24 in /usr/local/lib/python3.7/dist-packages (from flask>=1.1.1->visualdl->-r /content/PaddleOCR/requirements.txt (line 8)) (1.1.0)\n",
            "Requirement already satisfied: Werkzeug<2.0,>=0.15 in /usr/local/lib/python3.7/dist-packages (from flask>=1.1.1->visualdl->-r /content/PaddleOCR/requirements.txt (line 8)) (1.0.1)\n",
            "Requirement already satisfied: click<8.0,>=5.1 in /usr/local/lib/python3.7/dist-packages (from flask>=1.1.1->visualdl->-r /content/PaddleOCR/requirements.txt (line 8)) (7.1.2)\n",
            "Requirement already satisfied: Jinja2<3.0,>=2.10.1 in /usr/local/lib/python3.7/dist-packages (from flask>=1.1.1->visualdl->-r /content/PaddleOCR/requirements.txt (line 8)) (2.11.3)\n",
            "Requirement already satisfied: pytz in /usr/local/lib/python3.7/dist-packages (from Flask-Babel>=1.0.0->visualdl->-r /content/PaddleOCR/requirements.txt (line 8)) (2022.1)\n",
            "Requirement already satisfied: Babel>=2.3 in /usr/local/lib/python3.7/dist-packages (from Flask-Babel>=1.0.0->visualdl->-r /content/PaddleOCR/requirements.txt (line 8)) (2.10.2)\n",
            "Requirement already satisfied: pyparsing!=2.0.4,!=2.1.2,!=2.1.6,>=2.0.1 in /usr/local/lib/python3.7/dist-packages (from matplotlib->imgaug==0.4.0->-r /content/PaddleOCR/requirements.txt (line 3)) (3.0.9)\n",
            "Requirement already satisfied: python-dateutil>=2.1 in /usr/local/lib/python3.7/dist-packages (from matplotlib->imgaug==0.4.0->-r /content/PaddleOCR/requirements.txt (line 3)) (2.8.2)\n",
            "Requirement already satisfied: kiwisolver>=1.0.1 in /usr/local/lib/python3.7/dist-packages (from matplotlib->imgaug==0.4.0->-r /content/PaddleOCR/requirements.txt (line 3)) (1.4.3)\n",
            "Requirement already satisfied: cycler>=0.10 in /usr/local/lib/python3.7/dist-packages (from matplotlib->imgaug==0.4.0->-r /content/PaddleOCR/requirements.txt (line 3)) (0.11.0)\n",
            "Requirement already satisfied: future>=0.6.0 in /usr/local/lib/python3.7/dist-packages (from bce-python-sdk->visualdl->-r /content/PaddleOCR/requirements.txt (line 8)) (0.16.0)\n",
            "Collecting pycryptodome>=3.8.0\n",
            "  Downloading pycryptodome-3.15.0-cp35-abi3-manylinux2010_x86_64.whl (2.3 MB)\n",
            "\u001b[2K     \u001b[90m━━━━━━━━━━━━━━━━━━━━━━━━━━━━━━━━━━━━━━━━\u001b[0m \u001b[32m2.3/2.3 MB\u001b[0m \u001b[31m60.0 MB/s\u001b[0m eta \u001b[36m0:00:00\u001b[0m\n",
            "\u001b[?25hRequirement already satisfied: importlib-metadata in /usr/local/lib/python3.7/dist-packages (from cssutils->premailer->-r /content/PaddleOCR/requirements.txt (line 13)) (4.11.4)\n",
            "Requirement already satisfied: certifi>=2017.4.17 in /usr/local/lib/python3.7/dist-packages (from requests->visualdl->-r /content/PaddleOCR/requirements.txt (line 8)) (2022.6.15)\n",
            "Requirement already satisfied: urllib3!=1.25.0,!=1.25.1,<1.26,>=1.21.1 in /usr/local/lib/python3.7/dist-packages (from requests->visualdl->-r /content/PaddleOCR/requirements.txt (line 8)) (1.24.3)\n",
            "Requirement already satisfied: idna<3,>=2.5 in /usr/local/lib/python3.7/dist-packages (from requests->visualdl->-r /content/PaddleOCR/requirements.txt (line 8)) (2.10)\n",
            "Requirement already satisfied: chardet<4,>=3.0.2 in /usr/local/lib/python3.7/dist-packages (from requests->visualdl->-r /content/PaddleOCR/requirements.txt (line 8)) (3.0.4)\n",
            "Requirement already satisfied: MarkupSafe>=0.23 in /usr/local/lib/python3.7/dist-packages (from Jinja2<3.0,>=2.10.1->flask>=1.1.1->visualdl->-r /content/PaddleOCR/requirements.txt (line 8)) (2.0.1)\n",
            "Requirement already satisfied: typing-extensions in /usr/local/lib/python3.7/dist-packages (from kiwisolver>=1.0.1->matplotlib->imgaug==0.4.0->-r /content/PaddleOCR/requirements.txt (line 3)) (4.1.1)\n",
            "Requirement already satisfied: zipp>=0.5 in /usr/local/lib/python3.7/dist-packages (from importlib-metadata->cssutils->premailer->-r /content/PaddleOCR/requirements.txt (line 13)) (3.8.0)\n",
            "Building wheels for collected packages: python-Levenshtein\n",
            "  Building wheel for python-Levenshtein (setup.py) ... \u001b[?25l\u001b[?25hdone\n",
            "  Created wheel for python-Levenshtein: filename=python_Levenshtein-0.12.2-cp37-cp37m-linux_x86_64.whl size=149860 sha256=293cbaa953fbf06ce6cde7aad15ccb1a578506a9d6fc3797bea09f34dc588c08\n",
            "  Stored in directory: /root/.cache/pip/wheels/05/5f/ca/7c4367734892581bb5ff896f15027a932c551080b2abd3e00d\n",
            "Successfully built python-Levenshtein\n",
            "Installing collected packages: pyclipper, python-Levenshtein, pycryptodome, opencv-contrib-python, cssselect, attrdict, cssutils, bce-python-sdk, premailer, Flask-Babel, visualdl, imgaug\n",
            "  Attempting uninstall: opencv-contrib-python\n",
            "    Found existing installation: opencv-contrib-python 4.1.2.30\n",
            "    Uninstalling opencv-contrib-python-4.1.2.30:\n",
            "      Successfully uninstalled opencv-contrib-python-4.1.2.30\n",
            "  Attempting uninstall: imgaug\n",
            "    Found existing installation: imgaug 0.2.9\n",
            "    Uninstalling imgaug-0.2.9:\n",
            "      Successfully uninstalled imgaug-0.2.9\n",
            "\u001b[31mERROR: pip's dependency resolver does not currently take into account all the packages that are installed. This behaviour is the source of the following dependency conflicts.\n",
            "albumentations 0.1.12 requires imgaug<0.2.7,>=0.2.5, but you have imgaug 0.4.0 which is incompatible.\u001b[0m\u001b[31m\n",
            "\u001b[0mSuccessfully installed Flask-Babel-2.0.0 attrdict-2.0.1 bce-python-sdk-0.8.73 cssselect-1.1.0 cssutils-2.4.2 imgaug-0.4.0 opencv-contrib-python-4.4.0.46 premailer-3.10.0 pyclipper-1.3.0.post3 pycryptodome-3.15.0 python-Levenshtein-0.12.2 visualdl-2.3.0\n",
            "\u001b[33mWARNING: Running pip as the 'root' user can result in broken permissions and conflicting behaviour with the system package manager. It is recommended to use a virtual environment instead: https://pip.pypa.io/warnings/venv\u001b[0m\u001b[33m\n",
            "\u001b[0m"
          ]
        }
      ]
    },
    {
      "cell_type": "code",
      "source": [
        "# download DB text detection inference model\n",
        "!wget  https://paddleocr.bj.bcebos.com/PP-OCRv3/english/en_PP-OCRv3_det_slim_infer.tar\n",
        "!tar xf en_PP-OCRv3_det_slim_infer.tar\n"
      ],
      "metadata": {
        "colab": {
          "base_uri": "https://localhost:8080/"
        },
        "id": "ZFp2Xny7vjvC",
        "outputId": "83833fab-339a-4461-b7c0-b59d337ba79c"
      },
      "execution_count": null,
      "outputs": [
        {
          "output_type": "stream",
          "name": "stdout",
          "text": [
            "--2022-07-03 17:46:04--  https://paddleocr.bj.bcebos.com/PP-OCRv3/english/en_PP-OCRv3_det_slim_infer.tar\n",
            "Resolving paddleocr.bj.bcebos.com (paddleocr.bj.bcebos.com)... 103.235.46.61, 2409:8c04:1001:1002:0:ff:b001:368a\n",
            "Connecting to paddleocr.bj.bcebos.com (paddleocr.bj.bcebos.com)|103.235.46.61|:443... connected.\n",
            "HTTP request sent, awaiting response... 200 OK\n",
            "Length: 2726400 (2.6M) [application/x-tar]\n",
            "Saving to: ‘en_PP-OCRv3_det_slim_infer.tar’\n",
            "\n",
            "en_PP-OCRv3_det_sli 100%[===================>]   2.60M   527KB/s    in 9.2s    \n",
            "\n",
            "2022-07-03 17:46:15 (288 KB/s) - ‘en_PP-OCRv3_det_slim_infer.tar’ saved [2726400/2726400]\n",
            "\n"
          ]
        }
      ]
    },
    {
      "cell_type": "code",
      "source": [
        "from PIL import Image\n",
        "im = Image.open(r'/content/drive/MyDrive/1.tiff')\n",
        "im.save('test.jpeg')"
      ],
      "metadata": {
        "id": "Mo66cQg8FIAf"
      },
      "execution_count": null,
      "outputs": []
    },
    {
      "cell_type": "code",
      "source": [
        "import os\n",
        "os.getcwd()"
      ],
      "metadata": {
        "colab": {
          "base_uri": "https://localhost:8080/",
          "height": 35
        },
        "id": "9ODna9uHF-rf",
        "outputId": "d2e0c41e-ffbc-4dd5-a4df-2638faf1c4c4"
      },
      "execution_count": null,
      "outputs": [
        {
          "output_type": "execute_result",
          "data": {
            "text/plain": [
              "'/content/PaddleOCR'"
            ],
            "application/vnd.google.colaboratory.intrinsic+json": {
              "type": "string"
            }
          },
          "metadata": {},
          "execution_count": 13
        }
      ]
    },
    {
      "cell_type": "code",
      "source": [
        "%cd PaddleOCR\n",
        "# run inference\n",
        "!python3 tools/infer/predict_det.py --image_dir=\"/content/test.jpeg\" --det_model_dir=\"/content/en_PP-OCRv3_det_slim_infer\"  --use_gpu=False"
      ],
      "metadata": {
        "colab": {
          "base_uri": "https://localhost:8080/"
        },
        "id": "NH9NcpbbwdR1",
        "outputId": "4b9aa9fa-4554-452c-b635-64ae5dec9887"
      },
      "execution_count": null,
      "outputs": [
        {
          "output_type": "stream",
          "name": "stdout",
          "text": [
            "/content/PaddleOCR\n",
            "/usr/local/lib/python3.7/dist-packages/yaml/constructor.py:126: DeprecationWarning: Using or importing the ABCs from 'collections' instead of from 'collections.abc' is deprecated since Python 3.3,and in 3.9 it will stop working\n",
            "  if not isinstance(key, collections.Hashable):\n",
            "[2022/07/03 17:46:32] ppocr INFO: test.jpeg\t[[[44.0, 899.0], [344.0, 899.0], [344.0, 909.0], [44.0, 909.0]], [[44.0, 883.0], [751.0, 883.0], [751.0, 898.0], [44.0, 898.0]], [[43.0, 869.0], [756.0, 869.0], [756.0, 882.0], [43.0, 882.0]], [[44.0, 855.0], [739.0, 855.0], [739.0, 869.0], [44.0, 869.0]], [[44.0, 841.0], [751.0, 841.0], [751.0, 854.0], [44.0, 854.0]], [[43.0, 827.0], [704.0, 827.0], [704.0, 841.0], [43.0, 841.0]], [[43.0, 811.0], [741.0, 811.0], [741.0, 825.0], [43.0, 825.0]], [[44.0, 797.0], [741.0, 797.0], [741.0, 811.0], [44.0, 811.0]], [[43.0, 770.0], [127.0, 770.0], [127.0, 783.0], [43.0, 783.0]], [[43.0, 755.0], [207.0, 755.0], [207.0, 769.0], [43.0, 769.0]], [[43.0, 741.0], [417.0, 741.0], [417.0, 754.0], [43.0, 754.0]], [[43.0, 726.0], [133.0, 726.0], [133.0, 740.0], [43.0, 740.0]], [[43.0, 698.0], [305.0, 698.0], [305.0, 711.0], [43.0, 711.0]], [[43.0, 683.0], [336.0, 683.0], [336.0, 697.0], [43.0, 697.0]], [[43.0, 669.0], [572.0, 669.0], [572.0, 682.0], [43.0, 682.0]], [[42.0, 654.0], [735.0, 654.0], [735.0, 668.0], [42.0, 668.0]], [[41.0, 642.0], [77.0, 639.0], [77.0, 651.0], [42.0, 653.0]], [[42.0, 625.0], [734.0, 626.0], [734.0, 641.0], [42.0, 640.0]], [[44.0, 612.0], [701.0, 612.0], [701.0, 626.0], [44.0, 626.0]], [[44.0, 599.0], [307.0, 599.0], [307.0, 609.0], [44.0, 609.0]], [[43.0, 582.0], [730.0, 583.0], [730.0, 598.0], [43.0, 597.0]], [[44.0, 569.0], [662.0, 569.0], [662.0, 583.0], [44.0, 583.0]], [[44.0, 555.0], [288.0, 555.0], [288.0, 569.0], [44.0, 569.0]], [[43.0, 542.0], [303.0, 542.0], [303.0, 555.0], [43.0, 555.0]], [[41.0, 525.0], [698.0, 526.0], [698.0, 541.0], [41.0, 540.0]], [[44.0, 511.0], [680.0, 511.0], [680.0, 526.0], [44.0, 526.0]], [[44.0, 498.0], [212.0, 498.0], [212.0, 511.0], [44.0, 511.0]], [[43.0, 469.0], [308.0, 469.0], [308.0, 482.0], [43.0, 482.0]], [[44.0, 440.0], [294.0, 441.0], [294.0, 455.0], [44.0, 454.0]], [[43.0, 410.0], [467.0, 411.0], [467.0, 426.0], [43.0, 425.0]], [[44.0, 384.0], [694.0, 384.0], [694.0, 398.0], [44.0, 398.0]], [[44.0, 355.0], [458.0, 355.0], [458.0, 369.0], [44.0, 369.0]], [[43.0, 328.0], [256.0, 328.0], [256.0, 342.0], [43.0, 342.0]], [[43.0, 310.0], [738.0, 311.0], [737.0, 326.0], [43.0, 325.0]], [[44.0, 284.0], [160.0, 284.0], [160.0, 298.0], [44.0, 298.0]], [[44.0, 270.0], [748.0, 270.0], [748.0, 283.0], [44.0, 283.0]], [[43.0, 255.0], [718.0, 255.0], [718.0, 270.0], [43.0, 270.0]], [[43.0, 242.0], [751.0, 242.0], [751.0, 256.0], [43.0, 256.0]], [[42.0, 226.0], [755.0, 227.0], [755.0, 242.0], [42.0, 241.0]], [[44.0, 214.0], [754.0, 214.0], [754.0, 227.0], [44.0, 227.0]], [[43.0, 199.0], [748.0, 199.0], [748.0, 212.0], [43.0, 212.0]], [[42.0, 184.0], [740.0, 183.0], [740.0, 198.0], [42.0, 199.0]], [[43.0, 169.0], [726.0, 170.0], [726.0, 184.0], [43.0, 183.0]], [[43.0, 140.0], [258.0, 140.0], [258.0, 153.0], [43.0, 153.0]], [[43.0, 122.0], [523.0, 123.0], [523.0, 141.0], [43.0, 140.0]], [[45.0, 84.0], [341.0, 84.0], [341.0, 99.0], [45.0, 99.0]], [[45.0, 52.0], [189.0, 52.0], [189.0, 67.0], [45.0, 67.0]], [[45.0, 33.0], [171.0, 33.0], [171.0, 48.0], [45.0, 48.0]]]\n",
            "\n",
            "[2022/07/03 17:46:32] ppocr INFO: The predict time of /content/test.jpeg: 0.849456787109375\n",
            "[2022/07/03 17:46:32] ppocr INFO: The visualized image saved in ./inference_results/det_res_test.jpeg\n"
          ]
        }
      ]
    },
    {
      "cell_type": "code",
      "source": [
        "!unzip /content/drive/MyDrive/150_epochs_crnn_mv3.zip"
      ],
      "metadata": {
        "colab": {
          "base_uri": "https://localhost:8080/"
        },
        "id": "jkw_qgANG1Nv",
        "outputId": "ac13ab75-28ab-43cf-9bba-770169fdacce"
      },
      "execution_count": null,
      "outputs": [
        {
          "output_type": "stream",
          "name": "stdout",
          "text": [
            "Archive:  /content/drive/MyDrive/150_epochs_crnn_mv3.zip\n",
            "   creating: rec/mv3_none_bilstm_ctc/\n",
            "  inflating: rec/mv3_none_bilstm_ctc/iter_epoch_20.pdparams  \n",
            "  inflating: rec/mv3_none_bilstm_ctc/best_accuracy.pdopt  \n",
            "  inflating: rec/mv3_none_bilstm_ctc/iter_epoch_120.pdparams  \n",
            "  inflating: rec/mv3_none_bilstm_ctc/config.yml  \n",
            "  inflating: rec/mv3_none_bilstm_ctc/train.log  \n",
            "  inflating: rec/mv3_none_bilstm_ctc/iter_epoch_40.pdparams  \n",
            "  inflating: rec/mv3_none_bilstm_ctc/iter_epoch_20.pdopt  \n",
            "  inflating: rec/mv3_none_bilstm_ctc/iter_epoch_20.states  \n",
            "  inflating: rec/mv3_none_bilstm_ctc/best_accuracy.pdparams  \n",
            "  inflating: rec/mv3_none_bilstm_ctc/iter_epoch_10.pdopt  \n",
            "  inflating: rec/mv3_none_bilstm_ctc/iter_epoch_90.states  \n",
            "  inflating: rec/mv3_none_bilstm_ctc/iter_epoch_90.pdparams  \n",
            "  inflating: rec/mv3_none_bilstm_ctc/iter_epoch_130.pdparams  \n",
            "  inflating: rec/mv3_none_bilstm_ctc/iter_epoch_130.pdopt  \n",
            "  inflating: rec/mv3_none_bilstm_ctc/iter_epoch_110.pdparams  \n",
            "  inflating: rec/mv3_none_bilstm_ctc/iter_epoch_100.pdopt  \n",
            "  inflating: rec/mv3_none_bilstm_ctc/best_accuracy.states  \n",
            "  inflating: rec/mv3_none_bilstm_ctc/iter_epoch_140.states  \n",
            "  inflating: rec/mv3_none_bilstm_ctc/iter_epoch_30.pdparams  \n",
            "  inflating: rec/mv3_none_bilstm_ctc/iter_epoch_130.states  \n",
            "  inflating: rec/mv3_none_bilstm_ctc/latest.states  \n",
            "  inflating: rec/mv3_none_bilstm_ctc/iter_epoch_150.pdopt  \n",
            "  inflating: rec/mv3_none_bilstm_ctc/iter_epoch_70.states  \n",
            "  inflating: rec/mv3_none_bilstm_ctc/iter_epoch_150.states  \n",
            "  inflating: rec/mv3_none_bilstm_ctc/iter_epoch_140.pdopt  \n",
            "  inflating: rec/mv3_none_bilstm_ctc/iter_epoch_120.states  \n",
            "  inflating: rec/mv3_none_bilstm_ctc/iter_epoch_100.states  \n",
            "  inflating: rec/mv3_none_bilstm_ctc/iter_epoch_70.pdopt  \n",
            "  inflating: rec/mv3_none_bilstm_ctc/iter_epoch_110.states  \n",
            "  inflating: rec/mv3_none_bilstm_ctc/iter_epoch_40.states  \n",
            "  inflating: rec/mv3_none_bilstm_ctc/latest.pdopt  \n",
            "  inflating: rec/mv3_none_bilstm_ctc/iter_epoch_50.pdparams  \n",
            "  inflating: rec/mv3_none_bilstm_ctc/iter_epoch_120.pdopt  \n",
            "  inflating: rec/mv3_none_bilstm_ctc/iter_epoch_50.pdopt  \n",
            "  inflating: rec/mv3_none_bilstm_ctc/iter_epoch_80.pdopt  \n",
            "  inflating: rec/mv3_none_bilstm_ctc/iter_epoch_70.pdparams  \n",
            "  inflating: rec/mv3_none_bilstm_ctc/iter_epoch_60.pdparams  \n",
            "  inflating: rec/mv3_none_bilstm_ctc/iter_epoch_10.states  \n",
            "  inflating: rec/mv3_none_bilstm_ctc/iter_epoch_80.states  \n",
            "  inflating: rec/mv3_none_bilstm_ctc/iter_epoch_90.pdopt  \n",
            "  inflating: rec/mv3_none_bilstm_ctc/iter_epoch_80.pdparams  \n",
            "  inflating: rec/mv3_none_bilstm_ctc/iter_epoch_30.pdopt  \n",
            "  inflating: rec/mv3_none_bilstm_ctc/iter_epoch_60.states  \n",
            "  inflating: rec/mv3_none_bilstm_ctc/iter_epoch_110.pdopt  \n",
            "  inflating: rec/mv3_none_bilstm_ctc/iter_epoch_140.pdparams  \n",
            "  inflating: rec/mv3_none_bilstm_ctc/iter_epoch_30.states  \n",
            "  inflating: rec/mv3_none_bilstm_ctc/iter_epoch_100.pdparams  \n",
            "  inflating: rec/mv3_none_bilstm_ctc/iter_epoch_60.pdopt  \n",
            "  inflating: rec/mv3_none_bilstm_ctc/latest.pdparams  \n",
            "  inflating: rec/mv3_none_bilstm_ctc/iter_epoch_40.pdopt  \n",
            "  inflating: rec/mv3_none_bilstm_ctc/iter_epoch_10.pdparams  \n",
            "  inflating: rec/mv3_none_bilstm_ctc/iter_epoch_150.pdparams  \n",
            "  inflating: rec/mv3_none_bilstm_ctc/iter_epoch_50.states  \n"
          ]
        }
      ]
    },
    {
      "cell_type": "code",
      "source": [
        ""
      ],
      "metadata": {
        "id": "FV-9dO6NVcPw"
      },
      "execution_count": null,
      "outputs": []
    },
    {
      "cell_type": "code",
      "source": [
        "!python3 tools/export_model.py -c rec/mv3_none_bilstm_ctc/config.yml -o Global.pretrained_model=/content/PaddleOCR/rec/mv3_none_bilstm_ctc/best_accuracy  Global.save_inference_dir=./inference/CRNN_mv3/\n"
      ],
      "metadata": {
        "colab": {
          "base_uri": "https://localhost:8080/"
        },
        "id": "yXiFzZBkHKQX",
        "outputId": "8bc79f7d-63a5-4f65-8917-4f8fdf88c3e7"
      },
      "execution_count": null,
      "outputs": [
        {
          "output_type": "stream",
          "name": "stdout",
          "text": [
            "/usr/local/lib/python3.7/dist-packages/scipy/fft/__init__.py:97: DeprecationWarning: The module numpy.dual is deprecated.  Instead of using dual, use the functions directly from numpy or scipy.\n",
            "  from numpy.dual import register_func\n",
            "/usr/local/lib/python3.7/dist-packages/scipy/special/orthogonal.py:81: DeprecationWarning: `np.int` is a deprecated alias for the builtin `int`. To silence this warning, use `int` by itself. Doing this will not modify any behavior and is safe. When replacing `np.int`, you may wish to use e.g. `np.int64` or `np.int32` to specify the precision. If you wish to review your current use, check the release note link for additional information.\n",
            "Deprecated in NumPy 1.20; for more details and guidance: https://numpy.org/devdocs/release/1.20.0-notes.html#deprecations\n",
            "  from numpy import (exp, inf, pi, sqrt, floor, sin, cos, around, int,\n",
            "/usr/local/lib/python3.7/dist-packages/scipy/sparse/sputils.py:17: DeprecationWarning: `np.typeDict` is a deprecated alias for `np.sctypeDict`.\n",
            "  supported_dtypes = [np.typeDict[x] for x in supported_dtypes]\n",
            "/usr/local/lib/python3.7/dist-packages/yaml/constructor.py:126: DeprecationWarning: Using or importing the ABCs from 'collections' instead of from 'collections.abc' is deprecated since Python 3.3,and in 3.9 it will stop working\n",
            "  if not isinstance(key, collections.Hashable):\n",
            "[2022/07/03 17:47:15] ppocr INFO: load pretrain successful from /content/PaddleOCR/rec/mv3_none_bilstm_ctc/best_accuracy\n",
            "[2022/07/03 17:47:18] ppocr INFO: inference model is saved to ./inference/CRNN_mv3/inference\n"
          ]
        }
      ]
    },
    {
      "cell_type": "code",
      "source": [
        "!python3 tools/infer/predict_rec.py --image_dir=\"./doc/imgs_words/en/word_1.png\" --rec_model_dir=\"./inference/CRNN_mv3/\" --rec_image_shape=\"3, 32, 100\" --rec_char_dict_path=\"./ppocr/utils/en_dict.txt\" --use_gpu=False\n"
      ],
      "metadata": {
        "colab": {
          "base_uri": "https://localhost:8080/"
        },
        "id": "wHfQCoOvH8e-",
        "outputId": "4175b226-1536-4d63-9e1e-6301d0671881"
      },
      "execution_count": null,
      "outputs": [
        {
          "output_type": "stream",
          "name": "stdout",
          "text": [
            "/usr/local/lib/python3.7/dist-packages/scipy/fft/__init__.py:97: DeprecationWarning: The module numpy.dual is deprecated.  Instead of using dual, use the functions directly from numpy or scipy.\n",
            "  from numpy.dual import register_func\n",
            "/usr/local/lib/python3.7/dist-packages/scipy/special/orthogonal.py:81: DeprecationWarning: `np.int` is a deprecated alias for the builtin `int`. To silence this warning, use `int` by itself. Doing this will not modify any behavior and is safe. When replacing `np.int`, you may wish to use e.g. `np.int64` or `np.int32` to specify the precision. If you wish to review your current use, check the release note link for additional information.\n",
            "Deprecated in NumPy 1.20; for more details and guidance: https://numpy.org/devdocs/release/1.20.0-notes.html#deprecations\n",
            "  from numpy import (exp, inf, pi, sqrt, floor, sin, cos, around, int,\n",
            "/usr/local/lib/python3.7/dist-packages/scipy/sparse/sputils.py:17: DeprecationWarning: `np.typeDict` is a deprecated alias for `np.sctypeDict`.\n",
            "  supported_dtypes = [np.typeDict[x] for x in supported_dtypes]\n",
            "/usr/local/lib/python3.7/dist-packages/yaml/constructor.py:126: DeprecationWarning: Using or importing the ABCs from 'collections' instead of from 'collections.abc' is deprecated since Python 3.3,and in 3.9 it will stop working\n",
            "  if not isinstance(key, collections.Hashable):\n",
            "[2022/07/03 17:47:52] ppocr INFO: In PP-OCRv3, rec_image_shape parameter defaults to '3, 48, 320', if you are using recognition model with PP-OCRv2 or an older version, please set --rec_image_shape='3,32,320\n",
            "[2022/07/03 17:47:52] ppocr INFO: Predicts of ./doc/imgs_words/en/word_1.png:('jOIN T.', 0.8140187859535217)\n"
          ]
        }
      ]
    },
    {
      "cell_type": "code",
      "source": [
        "%cd PaddleOCR/\n",
        "#detection + recognition\n",
        "!python3 tools/infer/predict_system.py --image_dir=\"/content/test.jpeg\" --det_model_dir=\"/content/en_PP-OCRv3_det_slim_infer\" --rec_model_dir=\"./inference/CRNN_mv3\" --rec_image_shape=\"3, 32, 100\" --use_angle_cls=false --rec_char_dict_path=\"./ppocr/utils/en_dict.txt\" --use_gpu=False"
      ],
      "metadata": {
        "colab": {
          "base_uri": "https://localhost:8080/"
        },
        "id": "9HaL0LUxKlkH",
        "outputId": "349fe4ba-f09f-48e0-a07b-d07aea7227c2"
      },
      "execution_count": null,
      "outputs": [
        {
          "output_type": "stream",
          "name": "stdout",
          "text": [
            "[Errno 2] No such file or directory: 'PaddleOCR/'\n",
            "/content/PaddleOCR\n",
            "/usr/local/lib/python3.7/dist-packages/scipy/fft/__init__.py:97: DeprecationWarning: The module numpy.dual is deprecated.  Instead of using dual, use the functions directly from numpy or scipy.\n",
            "  from numpy.dual import register_func\n",
            "/usr/local/lib/python3.7/dist-packages/scipy/special/orthogonal.py:81: DeprecationWarning: `np.int` is a deprecated alias for the builtin `int`. To silence this warning, use `int` by itself. Doing this will not modify any behavior and is safe. When replacing `np.int`, you may wish to use e.g. `np.int64` or `np.int32` to specify the precision. If you wish to review your current use, check the release note link for additional information.\n",
            "Deprecated in NumPy 1.20; for more details and guidance: https://numpy.org/devdocs/release/1.20.0-notes.html#deprecations\n",
            "  from numpy import (exp, inf, pi, sqrt, floor, sin, cos, around, int,\n",
            "/usr/local/lib/python3.7/dist-packages/scipy/sparse/sputils.py:17: DeprecationWarning: `np.typeDict` is a deprecated alias for `np.sctypeDict`.\n",
            "  supported_dtypes = [np.typeDict[x] for x in supported_dtypes]\n",
            "/usr/local/lib/python3.7/dist-packages/yaml/constructor.py:126: DeprecationWarning: Using or importing the ABCs from 'collections' instead of from 'collections.abc' is deprecated since Python 3.3,and in 3.9 it will stop working\n",
            "  if not isinstance(key, collections.Hashable):\n",
            "[2022/07/03 17:48:02] ppocr INFO: In PP-OCRv3, rec_image_shape parameter defaults to '3, 48, 320', if you are using recognition model with PP-OCRv2 or an older version, please set --rec_image_shape='3,32,320\n",
            "[2022/07/03 17:48:03] ppocr DEBUG: dt_boxes num : 48, elapse : 0.8661692142486572\n",
            "[2022/07/03 17:48:10] ppocr DEBUG: rec_res num  : 48, elapse : 6.276912689208984\n",
            "[2022/07/03 17:48:10] ppocr DEBUG: 0  Predict time of /content/test.jpeg: 7.175s\n",
            "[2022/07/03 17:48:10] ppocr DEBUG: Medical Specialtv., 0.954\n",
            "[2022/07/03 17:48:10] ppocr DEBUG: aAllergy 1. l nUNOlog:, 0.826\n",
            "[2022/07/03 17:48:10] ppocr DEBUG: sample Nae .  Allergy valuation Corsult, 0.930\n",
            "[2022/07/03 17:48:10] ppocr DEBUG: Description2 Acute allergiec reaetion. etiology uncertaing however suspicous: for keflex., 0.950\n",
            "[2022/07/03 17:48:10] ppocr DEBUG: GMledical Traunscription: Sarple Report., 0.897\n",
            "[2022/07/03 17:48:10] ppocr DEBUG: lSTOR Y:. A 3yearold male presents today selfreficrred at the recornrrendation of EmerpgenCy RoomplysicianS and his neplrologiSt to., 0.929\n",
            "[2022/07/03 17:48:10] ppocr DEBUG: pursue further allergy evaluaton ad reatrnent: Please reler to clarr for listory and plysical as well as the rmedical reoords regarding his allergie , 0.964\n",
            "[2022/07/03 17:48:10] ppocr DEBUG: eactio: reatment at: AIBC Medical Certer for furher details aund studies. Io suurary: tle paent lad an acute event of perioral Selliog euology., 0.934\n",
            "[2022/07/03 17:48:10] ppocr DEBUG: uceriain, oocurrig o 05 0/ 2008 requirng transler from ABC Mcdical Ccler to XYZ Medical Cenler due to a lstory of retal failure requiring., 0.917\n",
            "[2022/07/03 17:48:10] ppocr DEBUG: ddialysis and he was aditted and treated and felt that his allergy reaction was to KefleX: Vhiclh was: being used to treat a slkin oellulitis dialysis slut., 0.950\n",
            "[2022/07/03 17:48:10] ppocr DEBUG: ciofection,: lo Sumrary the patient Slates he lhas: some problems: yith tolerating grass: allergies: eyiomertal and inlhalant allerges occasiorally: lbut., 0.919\n",
            "[2022/07/03 17:48:10] ppocr DEBUG: Pas never lad anaplylactic or aogoedema reacuiors: l le currenlly is: not talking any medicaoon for allerges. Te is talking atenolol for: blood., 0.940\n",
            "[2022/07/03 17:48:10] ppocr DEBUG: pressure cortrol. No further problerS have been noted Upon lis discharge and treatmert. Vhich included corticosteroid therapy and antihistarine., 0.962\n",
            "[2022/07/03 17:48:10] ppocr DEBUG: therapy and monitoring., 0.974\n",
            "[2022/07/03 17:48:10] ppocr DEBUG: PAST MEDICA. lSTOR Y: llistory of urticaria history of renal failure with hypertension possible souree of renal failure. history of dalysis., 0.941\n",
            "[2022/07/03 17:48:10] ppocr DEBUG: imes: 2. years and a lhustory of hypertetslon., 0.913\n",
            "[2022/07/03 17:48:10] ppocr DEBUG: PPAST SURGIlCAL lSTOR Y: Perath irseruion times 3 and peritoteal dialysis., 0.930\n",
            "[2022/07/03 17:48:10] ppocr DEBUG: 1AMIIL : llSOR Y: Strong for heart disease carcinoma. and a history of food allergies. and There iS also a history of hypertersion., 0.935\n",
            "[2022/07/03 17:48:10] ppocr DEBUG: URRENT MEDlCAT1ONS: Atenolol sodium bicarbonate Lovaza and Dialyvite., 0.949\n",
            "[2022/07/03 17:48:10] ppocr DEBUG: AALLIRGIIES: Heparin causang thronboytopenia., 0.945\n",
            "[2022/07/03 17:48:10] ppocr DEBUG: OCLALL: llS lORY: Denes tobacco or alcohol use, 0.949\n",
            "[2022/07/03 17:48:10] ppocr DEBUG: PHYSICAL EXANIINAIION: :, 0.904\n",
            "[2022/07/03 17:48:10] ppocr DEBUG: VITAL SlGNS: AGe 34. blood pressure 128 7 8. pulse 70. temperature is 97 8. Weighit is 207 pounds. and beight is 5 feet 7 incbes., 0.943\n",
            "[2022/07/03 17:48:10] ppocr DEBUG: .GIENERAL, The patient is healtly appearing. alert and orenled to person, place and ume responds appropriately: in no acute distress., 0.963\n",
            "[2022/07/03 17:48:10] ppocr DEBUG: 1lllAD: Nonocephalic No tasseS or lesionS: noted., 0.873\n",
            "[2022/07/03 17:48:10] ppocr DEBUG: FACE: No facial tenderness or aSytetry ooted., 0.947\n",
            "[2022/07/03 17:48:10] ppocr DEBUG: EYES: Pupls are equal. rouund and reactve to liglt and accommodatio bilaterally xuraOcular roveremtSs are iritact bilaterally., 0.934\n",
            "[2022/07/03 17:48:10] ppocr DEBUG: EARS: The tymparic merrbraunes are intact bilaterally with a good liglt rellex T0e extenal audiory canals are clear with no lesions or msses., 0.951\n",
            "[2022/07/03 17:48:10] ppocr DEBUG: notedl VVelber aund: Rire tests: are itliN Dorol lmitS., 0.855\n",
            "[2022/07/03 17:48:10] ppocr DEBUG: NOSE The asal cayities are patent bilaterally. The raSalseptum is ridline. Tlere are no nasal dSsclageS. No rasSes or lesiorSs oted., 0.941\n",
            "[2022/07/03 17:48:10] ppocr DEBUG:  TROA T: The oral mucosa appears: beatly. Deutal lygiene is maintained well. No oroplarygealosses or lesionS ooteD No postnasal drip., 0.947\n",
            "[2022/07/03 17:48:10] ppocr DEBUG: 7noted., 0.835\n",
            "[2022/07/03 17:48:10] ppocr DEBUG:  NECK. The neck is supple withno adenopathy or masses palpated. The trachea is ridline The tlyroid gland is ofrormal size with no nodules., 0.981\n",
            "[2022/07/03 17:48:10] ppocr DEBUG: 1NEUROLOGIC: Facial nerve is irntact bilaterally. The rermining. cranial nerves are intact without focal deficit., 0.963\n",
            "[2022/07/03 17:48:10] ppocr DEBUG: LUNGiS Clear to ausculation bilaterally No Weeze noted., 0.958\n",
            "[2022/07/03 17:48:10] ppocr DEBUG:  EART Regular rate andl rlytlm. No nurur: ooted., 0.910\n",
            "[2022/07/03 17:48:10] ppocr DEBUG: IIMIPRSSION., 0.899\n",
            "[2022/07/03 17:48:10] ppocr DEBUG:  l ACute allergio reacuion, etiology uncertain, hoWevyer SuSpicious for kefle., 0.925\n",
            "[2022/07/03 17:48:10] ppocr DEBUG: 2. Retal eailure requring dialysiS., 0.954\n",
            "[2022/07/03 17:48:10] ppocr DEBUG: . yperteosion., 0.973\n",
            "[2022/07/03 17:48:10] ppocr DEBUG: RRIOMMNDAT10NS, RAST allergy testing lor botl food and enVironnertal allerges: Was perfomed. ad We wil get the results back to., 0.922\n",
            "[2022/07/03 17:48:10] ppocr DEBUG:  e patient: wih furtlher recorendaUorSs to follo Iftbere ts ay SpecifiC 1ood or inlalart alergen that iSs found to be qute ligh oln the Sensitvity:, 0.925\n",
            "[2022/07/03 17:48:10] ppocr DEBUG: sscale. We would probably recomend the patient to aVoid th ofendlg agemt to hold off o ay furtler reactionS At this poant: 1 ould., 0.947\n",
            "[2022/07/03 17:48:10] ppocr DEBUG: rcootmend Ihe paeNt Stoppung ay furer use of CephaloSpor auibloticsS: Vhich nay be tbe cause oflis allergic reaction. ad 1 wouill oosider., 0.915\n",
            "[2022/07/03 17:48:10] ppocr DEBUG: thiS an allergy. Being on atenolol the patient has a more dificult time treating acute anaplylais: but l do thiok thils isS medically necessay at this., 0.940\n",
            "[2022/07/03 17:48:10] ppocr DEBUG: e and hopefully ye caD find Specific causes for his alergic reactios. An pPen WasS also prescribedl in the evet ofacute aNgioedea or allergiC., 0.920\n",
            "[2022/07/03 17:48:10] ppocr DEBUG: reaction or sensaion of impending allergc reaction and he is aware he Deeds to proceed directy to the erergecy roo lor: furdher evaluation aod, 0.965\n",
            "[2022/07/03 17:48:10] ppocr DEBUG: reatumert recoendlatoS: after adrmlristration of art lpiPe., 0.886\n",
            "[2022/07/03 17:48:10] ppocr DEBUG: The visualized image saved in ./inference_results/test.jpeg\n",
            "[2022/07/03 17:48:10] ppocr INFO: The predict total time is 7.530863285064697\n"
          ]
        }
      ]
    },
    {
      "cell_type": "code",
      "source": [
        "count =2"
      ],
      "metadata": {
        "id": "me2tlxIhQHT6"
      },
      "execution_count": null,
      "outputs": []
    },
    {
      "cell_type": "code",
      "source": [
        "%cd /content\n",
        "from PIL import Image\n",
        "im = Image.open(r'/content/drive/MyDrive/noisy_images/6.tiff')\n",
        "im.save('test'+str(count)+'.jpeg')\n",
        "count = count+1"
      ],
      "metadata": {
        "colab": {
          "base_uri": "https://localhost:8080/"
        },
        "id": "VEWCebygPHLW",
        "outputId": "48582e31-2c17-46dd-c99e-5c08c3362dd5"
      },
      "execution_count": null,
      "outputs": [
        {
          "output_type": "stream",
          "name": "stdout",
          "text": [
            "/content\n"
          ]
        }
      ]
    },
    {
      "cell_type": "code",
      "source": [
        "%cd PaddleOCR/\n",
        "#detection + recognition\n",
        "!python3 tools/infer/predict_system.py --image_dir=\"/content/test.jpeg\" --det_model_dir=\"/content/en_PP-OCRv3_det_slim_infer\" --rec_model_dir=\"./inference/CRNN_mv3\" --rec_image_shape=\"3, 32, 100\" --use_angle_cls=false --rec_char_dict_path=\"./ppocr/utils/en_dict.txt\" --use_gpu=False"
      ],
      "metadata": {
        "id": "oOprmzPVO_of"
      },
      "execution_count": null,
      "outputs": []
    },
    {
      "cell_type": "code",
      "source": [
        "#detection + recognition\n",
        "!python3 tools/infer/predict_system.py --image_dir=\"/content/test.jpeg\" --det_model_dir=\"/content/en_PP-OCRv3_det_slim_infer\" --rec_model_dir=\"./inference/CRNN_mv3\" --use_angle_cls=false --rec_char_dict_path=\"./ppocr/utils/en_dict.txt\""
      ],
      "metadata": {
        "colab": {
          "base_uri": "https://localhost:8080/"
        },
        "id": "WHMql_-ICkUx",
        "outputId": "20bdcbd0-7a8c-4d6e-b413-9038eaa08458"
      },
      "execution_count": null,
      "outputs": [
        {
          "output_type": "stream",
          "name": "stdout",
          "text": [
            "/usr/local/lib/python3.7/dist-packages/scipy/fft/__init__.py:97: DeprecationWarning: The module numpy.dual is deprecated.  Instead of using dual, use the functions directly from numpy or scipy.\n",
            "  from numpy.dual import register_func\n",
            "/usr/local/lib/python3.7/dist-packages/scipy/special/orthogonal.py:81: DeprecationWarning: `np.int` is a deprecated alias for the builtin `int`. To silence this warning, use `int` by itself. Doing this will not modify any behavior and is safe. When replacing `np.int`, you may wish to use e.g. `np.int64` or `np.int32` to specify the precision. If you wish to review your current use, check the release note link for additional information.\n",
            "Deprecated in NumPy 1.20; for more details and guidance: https://numpy.org/devdocs/release/1.20.0-notes.html#deprecations\n",
            "  from numpy import (exp, inf, pi, sqrt, floor, sin, cos, around, int,\n",
            "/usr/local/lib/python3.7/dist-packages/scipy/sparse/sputils.py:17: DeprecationWarning: `np.typeDict` is a deprecated alias for `np.sctypeDict`.\n",
            "  supported_dtypes = [np.typeDict[x] for x in supported_dtypes]\n",
            "/usr/local/lib/python3.7/dist-packages/yaml/constructor.py:126: DeprecationWarning: Using or importing the ABCs from 'collections' instead of from 'collections.abc' is deprecated since Python 3.3,and in 3.9 it will stop working\n",
            "  if not isinstance(key, collections.Hashable):\n",
            "E0703 13:40:59.035353   774 analysis_config.cc:95] Please compile with gpu to EnableGpu()\n",
            "E0703 13:40:59.199252   774 analysis_config.cc:95] Please compile with gpu to EnableGpu()\n",
            "[2022/07/03 13:40:59] ppocr INFO: In PP-OCRv3, rec_image_shape parameter defaults to '3, 48, 320', if you are using recognition model with PP-OCRv2 or an older version, please set --rec_image_shape='3,32,320\n",
            "[2022/07/03 13:41:00] ppocr DEBUG: dt_boxes num : 48, elapse : 0.9460594654083252\n",
            "[2022/07/03 13:41:14] ppocr DEBUG: rec_res num  : 48, elapse : 13.823114156723022\n",
            "[2022/07/03 13:41:14] ppocr DEBUG: 0  Predict time of /content/test.jpeg: 14.790s\n",
            "[2022/07/03 13:41:14] ppocr DEBUG:  dca. l So. cia lt., 0.726\n",
            "[2022/07/03 13:41:14] ppocr DEBUG: 0 R: INmLNION:, 0.686\n",
            "[2022/07/03 13:41:14] ppocr DEBUG: S2o. N.  2 ll) Ealerti200st., 0.663\n",
            "[2022/07/03 13:41:14] ppocr DEBUG: oescitio. 2. Autealteic eationetioalocunceai. oee scsoieiugKeex., 0.850\n",
            "[2022/07/03 13:41:14] ppocr DEBUG: 0 N :le dica l oscriotio: saole e0y , 0.787\n",
            "[2022/07/03 13:41:14] ppocr DEBUG:  sX X  N: . eal die  l e. oests t zd q sclcecro d a t: teE codaotio oeoecyoo. olos sicrs ad ris neohologgist to , 0.757\n",
            "[2022/07/03 13:41:14] ppocr DEBUG: .urse fther allergaluatir a teotret: lease rel o t o clt: Fr lst nccd olsica l rs 0eltc os te edial ecos egadi. ls alle., 0.808\n",
            "[2022/07/03 13:41:14] ppocr DEBUG: mea ction o trca tmmemt at N: CN N:ledical Certe to fftdlcr deta ils aod scdlesS c sL tary. tlg a t lad: a toute eSemt: o foerial slimoo. toloy., 0.790\n",
            "[2022/07/03 13:41:14] ppocr DEBUG: rertao ourrrigD : D 0 0 0 /Z0 ur ter io: CCN: Ncd ical eter t o NNYZT N edial Eeme: dheg t oa lstor ofreal failure.  tuirioo., 0.776\n",
            "[2022/07/03 13:41:14] ppocr DEBUG: adia h ss adt e. os aditted ad treateed  d elt ta t l isallergactioN s t o K el cl as. leg. f sed t o teat a slkinn oellulitis: diahysis slurit  , 0.835\n",
            "[2022/07/03 13:41:14] ppocr DEBUG: afectioo n. s tmtr the atiemf st atcs le las some rboleosS Mith t olerutito as allerices coMera acd iialtMf allemies oasoall lbut., 0.823\n",
            "[2022/07/03 13:41:14] ppocr DEBUG: aS nelad 2aolyactic oamoioedea rcactios e currectly is: not: takingaryredlicationn r alergiess  e isg taikig atcolol f olod  , 0.846\n",
            "[2022/07/03 13:41:14] ppocr DEBUG: essue ctot: /S :  gtl coohc les t  og leenotcd. E s Ls ddiscloc od. teat: in icl  i ncl tied coccostco id teco.9. d a tnise., 0.772\n",
            "[2022/07/03 13:41:14] ppocr DEBUG: aoyarxd otor., 0.799\n",
            "[2022/07/03 13:41:14] ppocr DEBUG:  t S  sD N L: L ct i. cl E ilco  g lconssble soce. oeal ioe tisoo dafs, 0.763\n",
            "[2022/07/03 13:41:14] ppocr DEBUG: Mis Vars andl a lstoryofhcrttion., 0.818\n",
            "[2022/07/03 13:41:14] ppocr DEBUG: C2E(  S 1NE: m:0( 24. / : ENE /0 N: pet ietion tis 9 4ai otoa diais., 0.673\n",
            "[2022/07/03 13:41:14] ppocr DEBUG:  Mt Il: ISS EXEF)I: V  /o oceat dsese. cacioa ad  liscor ofOod alileroes od: tee. is also a storyofteteionn . , 0.762\n",
            "[2022/07/03 13:41:14] ppocr DEBUG: RNNAONN 5 ololsoi sloat. tmoaa aIvte., 0.766\n",
            "[2022/07/03 13:41:14] ppocr DEBUG: o E I: Tc  E I S s: e io caco oiodto., 0.682\n",
            "[2022/07/03 13:41:14] ppocr DEBUG: /00 A  SNNX: N:Ves. tolaoo4aloo/no nf., 0.649\n",
            "[2022/07/03 13:41:14] ppocr DEBUG: pS A: N: EM:  XA: N X0N XAN 7: 70/., 0.558\n",
            "[2022/07/03 13:41:14] ppocr DEBUG: N: S om s. Ae .. lood oesse. I4 28 8. ou se  teeat eis 07Z 8. eis 20 ds ad ceigl t s  eet 2 le, 0.801\n",
            "[2022/07/03 13:41:14] ppocr DEBUG: .,E:A L: a X oat iet is lealttyaooeois  let ood ooel  cd t o ocrsonc locc ocd ti esord. aooialely. imc oo acule distress., 0.827\n",
            "[2022/07/03 13:41:14] ppocr DEBUG: 2 A 9. NN0alio. NIoassgs m lg. coted, 0.744\n",
            "[2022/07/03 13:41:14] ppocr DEBUG:  CE: N O cial teoderness o aoet ry oted . , 0.844\n",
            "[2022/07/03 13:41:14] ppocr DEBUG: ES Ipu ois ae eDtal: o cd zodi oeaciti e to lgl t ad. accorda ti llateraly raoculao roeets ae itac t lilutea lhy, 0.841\n",
            "[2022/07/03 13:41:14] ppocr DEBUG: .A2S Tte. cyoa rers ae tact: lilateaoll y il a. cood lol  re llX  N e terool aultocaals e clear Xit: oo lesiorrrasses, 0.807\n",
            "[2022/07/03 13:41:14] ppocr DEBUG: .2: /EN/N: E Ig  ss .  E    Els :, 0.574\n",
            "[2022/07/03 13:41:14] ppocr DEBUG: :0sE  ascl czities ae. aterc lilateally.s es saol seot is ridlle. Tee. ae. o asal dsCges No rasses orn teoios coed  , 0.818\n",
            "[2022/07/03 13:41:14] ppocr DEBUG:  HRE  Or: Teal t o osa aoeas healtly Dtol t yience is raitaned: ell: N o oroolgrgeol asscs. olsions: roted Nsttasal dirio., 0.842\n",
            "[2022/07/03 13:41:14] ppocr DEBUG: 000\\ 2., 0.680\n",
            "[2022/07/03 13:41:14] ppocr DEBUG:  DKk C: a Te. nc c e sole vtt adeoatloasscs. oa lcot c d  e ccle isde. e.  ttoid o: is. oooolZc it diu tes , 0.709\n",
            "[2022/07/03 13:41:14] ppocr DEBUG: N :NE: N/:F:/F 0 1 0 (( ) 0 0  l.s eo is ct: NtealMy.  ye oanil rescot.ct c troot oct dct ., 0.637\n",
            "[2022/07/03 13:41:14] ppocr DEBUG: M  I/NCS:  /eatoucu ctatin liateally No e ooted., 0.771\n",
            "[2022/07/03 13:41:14] ppocr DEBUG: cA XT: UulEt rDa t:eac oyylm: N o ru o e., 0.711\n",
            "[2022/07/03 13:41:14] ppocr DEBUG: 1* ( ( ES O/., 0.555\n",
            "[2022/07/03 13:41:14] ppocr DEBUG: 0.  ACLa lloio gact INatI yn/tait  LoNem ssoiio CEI., 0.754\n",
            "[2022/07/03 13:41:14] ppocr DEBUG: . etal ailueeUiritto diiahsIs., 0.849\n",
            "[2022/07/03 13:41:14] ppocr DEBUG: .. tgso ., 0.667\n",
            "[2022/07/03 13:41:14] ppocr DEBUG: EEE: F XY (/nN 1l X XD 2YXYXYXX X0 Y: s: . RRA: A Ssalley testig D lt L: odl cd eiciooeertal a llegies ase ed a. e viit oet: the esults ack to., 0.738\n",
            "[2022/07/03 13:41:14] ppocr DEBUG: m. atier oitlhn: ter ecedatis  olloXy. t tee is asoeciic: ood oiclalaot alergen tlao t is: o rdl t le t rte leioh ot tes sesititv y., 0.828\n",
            "[2022/07/03 13:41:14] ppocr DEBUG: scale. Ne Noukdi. orolalbly reomoed the attient to aNoid tho on. age: t O hld o fifoL: amMy ftler reactiors.  t tis ooit I: oot llkd ., 0.832\n",
            "[2022/07/03 13:41:14] ppocr DEBUG: rcerd: th ca tiemt st ooing ayt : us ofceollosoorito 4tiltics: NVicl n oN le t le ca o f i leric rcactizm. ad: l y o t t  l Oside., 0.822\n",
            "[2022/07/03 13:41:14] ppocr DEBUG: is. aur aleQ,:. Dig Dn ateMoil: the oatioS: ls  a mre difiic Ult tig tea tioog iacL te aaolyaXis. lLt: lI dlo tnk tls is dcally essuNyat this  , 0.801\n",
            "[2022/07/03 13:41:14] ppocr DEBUG: ce Dcd l ullyca f secif cGUes r rs: lrio raotio : oip 9: alSo scriledl in th e ert oFactutg aniegdera or alletoio:, 0.796\n",
            "[2022/07/03 13:41:14] ppocr DEBUG: reactio: or sesai: ofietdig allegc teactim ad he is a are he ceedls to ooced diectly t o the egeyrUO FOr: frther ealuation tard ., 0.872\n",
            "[2022/07/03 13:41:14] ppocr DEBUG: czVNcoX: ooNcNodiztnXVNNs.  nt I NSS f  c., 0.619\n",
            "[2022/07/03 13:41:14] ppocr DEBUG: The visualized image saved in ./inference_results/test.jpeg\n",
            "[2022/07/03 13:41:14] ppocr INFO: The predict total time is 14.994171142578125\n"
          ]
        }
      ]
    },
    {
      "cell_type": "code",
      "source": [
        "!python3 tools/export_model.py -c /content/PaddleOCR/rec/mv3_none_bilstm_ctc/config.yml -o Global.pretrained_model=/content/PaddleOCR/rec/mv3_none_bilstm_ctc/iter_epoch_40  Global.save_inference_dir=./inference/CRNN_mv3_iter_40/\n"
      ],
      "metadata": {
        "colab": {
          "base_uri": "https://localhost:8080/"
        },
        "id": "UGZBvI6gRoq8",
        "outputId": "d4861429-276d-4f08-8aa7-c408b38aad3d"
      },
      "execution_count": null,
      "outputs": [
        {
          "output_type": "stream",
          "name": "stdout",
          "text": [
            "/usr/local/lib/python3.7/dist-packages/scipy/fft/__init__.py:97: DeprecationWarning: The module numpy.dual is deprecated.  Instead of using dual, use the functions directly from numpy or scipy.\n",
            "  from numpy.dual import register_func\n",
            "/usr/local/lib/python3.7/dist-packages/scipy/special/orthogonal.py:81: DeprecationWarning: `np.int` is a deprecated alias for the builtin `int`. To silence this warning, use `int` by itself. Doing this will not modify any behavior and is safe. When replacing `np.int`, you may wish to use e.g. `np.int64` or `np.int32` to specify the precision. If you wish to review your current use, check the release note link for additional information.\n",
            "Deprecated in NumPy 1.20; for more details and guidance: https://numpy.org/devdocs/release/1.20.0-notes.html#deprecations\n",
            "  from numpy import (exp, inf, pi, sqrt, floor, sin, cos, around, int,\n",
            "/usr/local/lib/python3.7/dist-packages/scipy/sparse/sputils.py:17: DeprecationWarning: `np.typeDict` is a deprecated alias for `np.sctypeDict`.\n",
            "  supported_dtypes = [np.typeDict[x] for x in supported_dtypes]\n",
            "/usr/local/lib/python3.7/dist-packages/yaml/constructor.py:126: DeprecationWarning: Using or importing the ABCs from 'collections' instead of from 'collections.abc' is deprecated since Python 3.3,and in 3.9 it will stop working\n",
            "  if not isinstance(key, collections.Hashable):\n",
            "[2022/07/03 13:53:53] ppocr INFO: load pretrain successful from /content/PaddleOCR/rec/mv3_none_bilstm_ctc/iter_epoch_40\n",
            "[2022/07/03 13:53:56] ppocr INFO: inference model is saved to ./inference/CRNN_mv3_iter_40/inference\n"
          ]
        }
      ]
    },
    {
      "cell_type": "code",
      "source": [
        "!python3 tools/infer/predict_rec.py --image_dir=\"./doc/imgs_words/en/word_1.png\" --rec_model_dir=\"./inference/CRNN_mv3_iter_40/\"  --rec_char_dict_path=\"./ppocr/utils/en_dict.txt\""
      ],
      "metadata": {
        "colab": {
          "base_uri": "https://localhost:8080/"
        },
        "id": "-N0hIsbkVu9a",
        "outputId": "d49b9b53-f026-48fb-c34c-1ef24016d778"
      },
      "execution_count": null,
      "outputs": [
        {
          "output_type": "stream",
          "name": "stdout",
          "text": [
            "/usr/local/lib/python3.7/dist-packages/scipy/fft/__init__.py:97: DeprecationWarning: The module numpy.dual is deprecated.  Instead of using dual, use the functions directly from numpy or scipy.\n",
            "  from numpy.dual import register_func\n",
            "/usr/local/lib/python3.7/dist-packages/scipy/special/orthogonal.py:81: DeprecationWarning: `np.int` is a deprecated alias for the builtin `int`. To silence this warning, use `int` by itself. Doing this will not modify any behavior and is safe. When replacing `np.int`, you may wish to use e.g. `np.int64` or `np.int32` to specify the precision. If you wish to review your current use, check the release note link for additional information.\n",
            "Deprecated in NumPy 1.20; for more details and guidance: https://numpy.org/devdocs/release/1.20.0-notes.html#deprecations\n",
            "  from numpy import (exp, inf, pi, sqrt, floor, sin, cos, around, int,\n",
            "/usr/local/lib/python3.7/dist-packages/scipy/sparse/sputils.py:17: DeprecationWarning: `np.typeDict` is a deprecated alias for `np.sctypeDict`.\n",
            "  supported_dtypes = [np.typeDict[x] for x in supported_dtypes]\n",
            "/usr/local/lib/python3.7/dist-packages/yaml/constructor.py:126: DeprecationWarning: Using or importing the ABCs from 'collections' instead of from 'collections.abc' is deprecated since Python 3.3,and in 3.9 it will stop working\n",
            "  if not isinstance(key, collections.Hashable):\n",
            "E0703 13:54:54.585942   985 analysis_config.cc:95] Please compile with gpu to EnableGpu()\n",
            "[2022/07/03 13:54:54] ppocr INFO: In PP-OCRv3, rec_image_shape parameter defaults to '3, 48, 320', if you are using recognition model with PP-OCRv2 or an older version, please set --rec_image_shape='3,32,320\n",
            "[2022/07/03 13:54:54] ppocr INFO: Predicts of ./doc/imgs_words/en/word_1.png:(' oNV.', 0.6164045929908752)\n"
          ]
        }
      ]
    },
    {
      "cell_type": "code",
      "source": [
        "!python3 tools/infer/predict_system.py --image_dir=\"/content/test.jpeg\" --det_model_dir=\"/content/en_PP-OCRv3_det_slim_infer\" --rec_model_dir=\"./inference/CRNN_mv3_iter_40\" --use_angle_cls=false --rec_char_dict_path=\"./ppocr/utils/en_dict.txt\""
      ],
      "metadata": {
        "colab": {
          "base_uri": "https://localhost:8080/"
        },
        "id": "_vt0eRAnWlgp",
        "outputId": "f99d1fe1-3e13-4fce-d210-e1947fd2f03f"
      },
      "execution_count": null,
      "outputs": [
        {
          "output_type": "stream",
          "name": "stdout",
          "text": [
            "/usr/local/lib/python3.7/dist-packages/scipy/fft/__init__.py:97: DeprecationWarning: The module numpy.dual is deprecated.  Instead of using dual, use the functions directly from numpy or scipy.\n",
            "  from numpy.dual import register_func\n",
            "/usr/local/lib/python3.7/dist-packages/scipy/special/orthogonal.py:81: DeprecationWarning: `np.int` is a deprecated alias for the builtin `int`. To silence this warning, use `int` by itself. Doing this will not modify any behavior and is safe. When replacing `np.int`, you may wish to use e.g. `np.int64` or `np.int32` to specify the precision. If you wish to review your current use, check the release note link for additional information.\n",
            "Deprecated in NumPy 1.20; for more details and guidance: https://numpy.org/devdocs/release/1.20.0-notes.html#deprecations\n",
            "  from numpy import (exp, inf, pi, sqrt, floor, sin, cos, around, int,\n",
            "/usr/local/lib/python3.7/dist-packages/scipy/sparse/sputils.py:17: DeprecationWarning: `np.typeDict` is a deprecated alias for `np.sctypeDict`.\n",
            "  supported_dtypes = [np.typeDict[x] for x in supported_dtypes]\n",
            "/usr/local/lib/python3.7/dist-packages/yaml/constructor.py:126: DeprecationWarning: Using or importing the ABCs from 'collections' instead of from 'collections.abc' is deprecated since Python 3.3,and in 3.9 it will stop working\n",
            "  if not isinstance(key, collections.Hashable):\n",
            "E0703 13:58:25.896922  1031 analysis_config.cc:95] Please compile with gpu to EnableGpu()\n",
            "E0703 13:58:26.059938  1031 analysis_config.cc:95] Please compile with gpu to EnableGpu()\n",
            "[2022/07/03 13:58:26] ppocr INFO: In PP-OCRv3, rec_image_shape parameter defaults to '3, 48, 320', if you are using recognition model with PP-OCRv2 or an older version, please set --rec_image_shape='3,32,320\n",
            "[2022/07/03 13:58:27] ppocr DEBUG: dt_boxes num : 48, elapse : 1.1762940883636475\n",
            "[2022/07/03 13:58:41] ppocr DEBUG: rec_res num  : 48, elapse : 14.06382155418396\n",
            "[2022/07/03 13:58:41] ppocr DEBUG: 0  Predict time of /content/test.jpeg: 15.261s\n",
            "[2022/07/03 13:58:41] ppocr DEBUG: diasoi4., 0.656\n",
            "[2022/07/03 13:58:41] ppocr DEBUG: 10 NOO:, 0.644\n",
            "[2022/07/03 13:58:41] ppocr DEBUG: 4oN..  og.ttI:, 0.617\n",
            "[2022/07/03 13:58:41] ppocr DEBUG: escioio. i. cteaeieatioetiologceaihoeessoiiogKe , 0.847\n",
            "[2022/07/03 13:58:41] ppocr DEBUG: Cedical Tasitio saeo , 0.820\n",
            "[2022/07/03 13:58:41] ppocr DEBUG: STN:  a ie os taat t r odtio oooolsia is olologist to., 0.745\n",
            "[2022/07/03 13:58:41] ppocr DEBUG: ousoe ftheallrgoalatioad treatret  easo efir toolt ortt olsicalt s eltos teedica osegodig t salleg., 0.745\n",
            "[2022/07/03 13:58:41] ppocr DEBUG: ractioo tratert at  Nedical Cetcr dcr etailsad todes sary: tlg att ada aoot emt ofoerira slio tolo., 0.739\n",
            "[2022/07/03 13:58:41] ppocr DEBUG: rceta ooog D00 0200Geu ter o A cdicalCteto NYZedical ee de oa stor ofreal failtririg., 0.725\n",
            "[2022/07/03 13:58:41] ppocr DEBUG: diatssadoeos. odice  ad teatd o: ett tr t sallgatio s to lo   as ogsed to treat a s lioellulitis: dias so , 0.761\n",
            "[2022/07/03 13:58:41] ppocr DEBUG: ctio  erN tloatiet tatos leas Ssomorobles th tolertiasalieric ooal adalr allesooasoal ., 0.760\n",
            "[2022/07/03 13:58:41] ppocr DEBUG: ras: rerlad 4aaoactic oragioederarcactios t crrcrtlyis rot taligaredicatio r alegese ig taligatceolol fr lblood., 0.796\n",
            "[2022/07/03 13:58:41] ppocr DEBUG: essecot N ototctrot oosdscl  tet i icl  icl ied ocsttod tt n., 0.697\n",
            "[2022/07/03 13:58:41] ppocr DEBUG: aoa oo., 0.867\n",
            "[2022/07/03 13:58:41] ppocr DEBUG:  Sil E iltl ioisoalsi., 0.704\n",
            "[2022/07/03 13:58:41] ppocr DEBUG: mi an a looffto., 0.741\n",
            "[2022/07/03 13:58:41] ppocr DEBUG: AS9s  AR0204  0 ISR a istio tis 4 aroadiasi , 0.627\n",
            "[2022/07/03 13:58:41] ppocr DEBUG: AII: OR: Storreat disesaoioad tstor offood aleoesd treeis  alsoa stoy oftNteso., 0.710\n",
            "[2022/07/03 13:58:41] ppocr DEBUG: aNSootsoiloat. ta Daii , 0.718\n",
            "[2022/07/03 13:58:41] ppocr DEBUG: S iiri., 0.682\n",
            "[2022/07/03 13:58:41] ppocr DEBUG: s4SOXS. taooatoooo., 0.546\n",
            "[2022/07/03 13:58:41] ppocr DEBUG: NSA. A NN:A., 0.578\n",
            "[2022/07/03 13:58:41] ppocr DEBUG: MTA S NSe .. ooesse 28 09se. Z teis 9 7 8.egis20Z ods.d rigls  e le., 0.669\n",
            "[2022/07/03 13:58:41] ppocr DEBUG: NRA:  otiet is ealt aoie od etcd toosolmco ood tiesoods. aooooiatolioacte distess., 0.784\n",
            "[2022/07/03 13:58:41] ppocr DEBUG: SA: Noalo Noasssos oed , 0.738\n",
            "[2022/07/03 13:58:41] ppocr DEBUG: PaCENo cial tederessoasetrroted  , 0.777\n",
            "[2022/07/03 13:58:41] ppocr DEBUG: S p oiseeal od d eaciti to lgl t ard aocooatio nlaeral aoclarroets areitao ilotalh., 0.780\n",
            "[2022/07/03 13:58:41] ppocr DEBUG: ARS taio saeita ilaellii ood liolt otl  mtcol atocaals oeclear  itn  o lesoorsss, 0.734\n",
            "[2022/07/03 13:58:41] ppocr DEBUG: NoSascaits ae oater ilateath  asalseis idl eere oaaldscarges Noasses or tesios oed , 0.799\n",
            "[2022/07/03 13:58:41] ppocr DEBUG: TROA Taosaoeasatlotl ierco is airtoared o: No oroolrealassosorlsios rod Nostasal dirio., 0.777\n",
            "[2022/07/03 13:58:41] ppocr DEBUG: cro., 0.648\n",
            "[2022/07/03 13:58:41] ppocr DEBUG: K t  oid isli., 0.669\n",
            "[2022/07/03 13:58:41] ppocr DEBUG:   R00- -1 00000s oal teo t sgot  rota dt., 0.565\n",
            "[2022/07/03 13:58:41] ppocr DEBUG: 1Ls  atootatioliaeallooerot., 0.726\n",
            "[2022/07/03 13:58:41] ppocr DEBUG: oARIXRReratoa m Noo , 0.688\n",
            "[2022/07/03 13:58:41] ppocr DEBUG: MNAIRsOON., 0.549\n",
            "[2022/07/03 13:58:41] ppocr DEBUG: oaloioaIotiototait  ossoiiI , 0.766\n",
            "[2022/07/03 13:58:41] ppocr DEBUG: .  RRetal ailueDriodials., 0.722\n",
            "[2022/07/03 13:58:41] ppocr DEBUG: p. Ioto., 0.681\n",
            "[2022/07/03 13:58:41] ppocr DEBUG: RMV: NNDAIION: s RASIaletesigooh od d eiiocetal  aegsasrod a oitoet theeslcs maclo., 0.730\n",
            "[2022/07/03 13:58:41] ppocr DEBUG: theoatie oith: ilterreooedatios  oloi fteesasoeoitic.  odoirlalart aleren tat is od toote iol oo tesesilito., 0.761\n",
            "[2022/07/03 13:58:41] ppocr DEBUG: sale e oUliorolablyroend tle tt to aod tlo ofcagt tlold otiooay fitrreactior  ths ooit  otdld ., 0.755\n",
            "[2022/07/03 13:58:41] ppocr DEBUG: ced thoatiet Stoooigairtdcofcollosoailbiotics icile tlecatsofts  aleroic rca ctio  a   ol oe., 0.735\n",
            "[2022/07/03 13:58:41] ppocr DEBUG: tsrae: igon atenolol the oatt l sa  oredifiicUlt tigtatioog aoteamaoylis lt l do thol tlts s doallyrssyat tls , 0.729\n",
            "[2022/07/03 13:58:41] ppocr DEBUG: megad lilllecao d ifIo caesrrs aloi raotipasalooscrled im thet ofacttgaiederaleroic., 0.730\n",
            "[2022/07/03 13:58:41] ppocr DEBUG: eactioor scsaio ofiedimgaletgc eactio ad heis aareeoeds to ooced diretly to therergeyroo r ftherealatio tard., 0.830\n",
            "[2022/07/03 13:58:41] ppocr DEBUG: The visualized image saved in ./inference_results/test.jpeg\n",
            "[2022/07/03 13:58:41] ppocr INFO: The predict total time is 15.436718225479126\n"
          ]
        }
      ]
    },
    {
      "cell_type": "code",
      "source": [
        "!unzip /content/drive/MyDrive/checking.zip"
      ],
      "metadata": {
        "colab": {
          "base_uri": "https://localhost:8080/"
        },
        "id": "DYqTxQ0fWvN-",
        "outputId": "ca50a8f4-8869-4df5-b711-d770cbe3f30c"
      },
      "execution_count": null,
      "outputs": [
        {
          "output_type": "stream",
          "name": "stdout",
          "text": [
            "Archive:  /content/drive/MyDrive/checking.zip\n",
            "  inflating: checking/rec_check.txt  \n",
            "  inflating: checking/check/1542_5_cropped.jpg  \n",
            "  inflating: checking/check/724_24_cropped.jpg  \n",
            "  inflating: checking/check/4070_43_cropped.jpg  \n",
            "  inflating: checking/check/1411_5_cropped.jpg  \n",
            "  inflating: checking/check/4400_21_cropped.jpg  \n",
            "  inflating: checking/check/1542_9_cropped.jpg  \n",
            "  inflating: checking/check/4400_34_cropped.jpg  \n",
            "  inflating: checking/check/1411_12_cropped.jpg  \n",
            "  inflating: checking/check/954_7_cropped.jpg  \n",
            "  inflating: checking/check/724_10_cropped.jpg  \n",
            "  inflating: checking/check/724_40_cropped.jpg  \n",
            "  inflating: checking/check/4070_30_cropped.jpg  \n",
            "  inflating: checking/check/724_30_cropped.jpg  \n",
            "  inflating: checking/check/4070_34_cropped.jpg  \n",
            "  inflating: checking/check/724_20_cropped.jpg  \n",
            "  inflating: checking/check/1949_12_cropped.jpg  \n",
            "  inflating: checking/check/724_29_cropped.jpg  \n",
            "  inflating: checking/check/4400_37_cropped.jpg  \n",
            "  inflating: checking/check/1542_17_cropped.jpg  \n",
            "  inflating: checking/check/954_41_cropped.jpg  \n",
            "  inflating: checking/check/954_11_cropped.jpg  \n",
            "  inflating: checking/check/1542_8_cropped.jpg  \n",
            "  inflating: checking/check/1411_18_cropped.jpg  \n",
            "  inflating: checking/check/4070_19_cropped.jpg  \n",
            "  inflating: checking/check/1949_10_cropped.jpg  \n",
            "  inflating: checking/check/1411_20_cropped.jpg  \n",
            "  inflating: checking/check/954_47_cropped.jpg  \n",
            "  inflating: checking/check/4400_24_cropped.jpg  \n",
            "  inflating: checking/check/1949_4_cropped.jpg  \n",
            "  inflating: checking/check/1411_1_cropped.jpg  \n",
            "  inflating: checking/check/4942_27_cropped.jpg  \n",
            "  inflating: checking/check/4070_37_cropped.jpg  \n",
            "  inflating: checking/check/954_16_cropped.jpg  \n",
            "  inflating: checking/check/4942_18_cropped.jpg  \n",
            "  inflating: checking/check/724_38_cropped.jpg  \n",
            "  inflating: checking/check/954_48_cropped.jpg  \n",
            "  inflating: checking/check/954_24_cropped.jpg  \n",
            "  inflating: checking/check/954_17_cropped.jpg  \n",
            "  inflating: checking/check/724_3_cropped.jpg  \n",
            "  inflating: checking/check/954_3_cropped.jpg  \n",
            "  inflating: checking/check/4400_39_cropped.jpg  \n",
            "  inflating: checking/check/954_28_cropped.jpg  \n",
            "  inflating: checking/check/4070_4_cropped.jpg  \n",
            "  inflating: checking/check/1542_13_cropped.jpg  \n",
            "  inflating: checking/check/1542_15_cropped.jpg  \n",
            "  inflating: checking/check/4070_15_cropped.jpg  \n",
            "  inflating: checking/check/724_34_cropped.jpg  \n",
            "  inflating: checking/check/724_11_cropped.jpg  \n",
            "  inflating: checking/check/4400_45_cropped.jpg  \n",
            "  inflating: checking/check/4400_43_cropped.jpg  \n",
            "  inflating: checking/check/954_38_cropped.jpg  \n",
            "  inflating: checking/check/954_5_cropped.jpg  \n",
            "  inflating: checking/check/954_40_cropped.jpg  \n",
            "  inflating: checking/check/4942_35_cropped.jpg  \n",
            "  inflating: checking/check/1411_3_cropped.jpg  \n",
            "  inflating: checking/check/4942_13_cropped.jpg  \n",
            "  inflating: checking/check/724_4_cropped.jpg  \n",
            "  inflating: checking/check/4942_24_cropped.jpg  \n",
            "  inflating: checking/check/1542_16_cropped.jpg  \n",
            "  inflating: checking/check/1411_11_cropped.jpg  \n",
            "  inflating: checking/check/954_26_cropped.jpg  \n",
            "  inflating: checking/check/1949_17_cropped.jpg  \n",
            "  inflating: checking/check/954_8_cropped.jpg  \n",
            "  inflating: checking/check/4400_25_cropped.jpg  \n",
            "  inflating: checking/check/1411_16_cropped.jpg  \n",
            "  inflating: checking/check/4070_8_cropped.jpg  \n",
            "  inflating: checking/check/4400_12_cropped.jpg  \n",
            "  inflating: checking/check/1411_13_cropped.jpg  \n",
            "  inflating: checking/check/4070_39_cropped.jpg  \n",
            "  inflating: checking/check/954_19_cropped.jpg  \n",
            "  inflating: checking/check/4400_32_cropped.jpg  \n",
            "  inflating: checking/check/4400_11_cropped.jpg  \n",
            "  inflating: checking/check/1411_7_cropped.jpg  \n",
            "  inflating: checking/check/1949_16_cropped.jpg  \n",
            "  inflating: checking/check/4400_40_cropped.jpg  \n",
            "  inflating: checking/check/954_22_cropped.jpg  \n",
            "  inflating: checking/check/724_6_cropped.jpg  \n",
            "  inflating: checking/check/4942_3_cropped.jpg  \n",
            "  inflating: checking/check/1411_8_cropped.jpg  \n",
            "  inflating: checking/check/724_9_cropped.jpg  \n",
            "  inflating: checking/check/4942_19_cropped.jpg  \n",
            "  inflating: checking/check/4070_18_cropped.jpg  \n",
            "  inflating: checking/check/954_29_cropped.jpg  \n",
            "  inflating: checking/check/4400_22_cropped.jpg  \n",
            "  inflating: checking/check/954_39_cropped.jpg  \n",
            "  inflating: checking/check/1949_1_cropped.jpg  \n",
            "  inflating: checking/check/954_20_cropped.jpg  \n",
            "  inflating: checking/check/954_12_cropped.jpg  \n",
            "  inflating: checking/check/4942_16_cropped.jpg  \n",
            "  inflating: checking/check/4400_42_cropped.jpg  \n",
            "  inflating: checking/check/4070_2_cropped.jpg  \n",
            "  inflating: checking/check/4942_22_cropped.jpg  \n",
            "  inflating: checking/check/724_37_cropped.jpg  \n",
            "  inflating: checking/check/724_27_cropped.jpg  \n",
            "  inflating: checking/check/954_6_cropped.jpg  \n",
            "  inflating: checking/check/4070_9_cropped.jpg  \n",
            "  inflating: checking/check/724_22_cropped.jpg  \n",
            "  inflating: checking/check/1542_2_cropped.jpg  \n",
            "  inflating: checking/check/1949_0_cropped.jpg  \n",
            "  inflating: checking/check/4942_12_cropped.jpg  \n",
            "  inflating: checking/check/4070_23_cropped.jpg  \n",
            "  inflating: checking/check/4070_25_cropped.jpg  \n",
            "  inflating: checking/check/954_44_cropped.jpg  \n",
            "  inflating: checking/check/724_17_cropped.jpg  \n",
            "  inflating: checking/check/954_37_cropped.jpg  \n",
            "  inflating: checking/check/954_13_cropped.jpg  \n",
            "  inflating: checking/check/4400_35_cropped.jpg  \n",
            "  inflating: checking/check/954_15_cropped.jpg  \n",
            "  inflating: checking/check/954_36_cropped.jpg  \n",
            "  inflating: checking/check/1542_11_cropped.jpg  \n",
            "  inflating: checking/check/4942_29_cropped.jpg  \n",
            "  inflating: checking/check/1542_0_cropped.jpg  \n",
            "  inflating: checking/check/4070_52_cropped.jpg  \n",
            "  inflating: checking/check/1949_3_cropped.jpg  \n",
            "  inflating: checking/check/4070_38_cropped.jpg  \n",
            "  inflating: checking/check/4942_30_cropped.jpg  \n",
            "  inflating: checking/check/1542_18_cropped.jpg  \n",
            "  inflating: checking/check/954_9_cropped.jpg  \n",
            "  inflating: checking/check/1949_15_cropped.jpg  \n",
            "  inflating: checking/check/724_31_cropped.jpg  \n",
            "  inflating: checking/check/954_33_cropped.jpg  \n",
            "  inflating: checking/check/954_34_cropped.jpg  \n",
            "  inflating: checking/check/4400_36_cropped.jpg  \n",
            "  inflating: checking/check/4070_24_cropped.jpg  \n",
            "  inflating: checking/check/724_12_cropped.jpg  \n",
            "  inflating: checking/check/1411_9_cropped.jpg  \n",
            "  inflating: checking/check/1542_3_cropped.jpg  \n",
            "  inflating: checking/check/4070_40_cropped.jpg  \n",
            "  inflating: checking/check/954_10_cropped.jpg  \n",
            "  inflating: checking/check/4400_28_cropped.jpg  \n",
            "  inflating: checking/check/724_21_cropped.jpg  \n",
            "  inflating: checking/check/4070_33_cropped.jpg  \n",
            "  inflating: checking/check/4942_25_cropped.jpg  \n",
            "  inflating: checking/check/4942_28_cropped.jpg  \n",
            "  inflating: checking/check/724_14_cropped.jpg  \n",
            "  inflating: checking/check/724_33_cropped.jpg  \n",
            "  inflating: checking/check/1411_17_cropped.jpg  \n",
            "  inflating: checking/check/4400_31_cropped.jpg  \n",
            "  inflating: checking/check/4070_5_cropped.jpg  \n",
            "  inflating: checking/check/4070_44_cropped.jpg  \n",
            "  inflating: checking/check/724_25_cropped.jpg  \n",
            "  inflating: checking/check/4400_13_cropped.jpg  \n",
            "  inflating: checking/check/1411_15_cropped.jpg  \n",
            "  inflating: checking/check/1949_2_cropped.jpg  \n",
            "  inflating: checking/check/4942_31_cropped.jpg  \n",
            "  inflating: checking/check/1411_6_cropped.jpg  \n",
            "  inflating: checking/check/4070_1_cropped.jpg  \n",
            "  inflating: checking/check/4400_18_cropped.jpg  \n",
            "  inflating: checking/check/4070_10_cropped.jpg  \n",
            "  inflating: checking/check/1411_23_cropped.jpg  \n",
            "  inflating: checking/check/1411_14_cropped.jpg  \n",
            "  inflating: checking/check/724_7_cropped.jpg  \n",
            "  inflating: checking/check/1949_14_cropped.jpg  \n",
            "  inflating: checking/check/1949_6_cropped.jpg  \n",
            "  inflating: checking/check/4070_29_cropped.jpg  \n",
            "  inflating: checking/check/4400_20_cropped.jpg  \n",
            "  inflating: checking/check/954_1_cropped.jpg  \n",
            "  inflating: checking/check/4942_1_cropped.jpg  \n",
            "  inflating: checking/check/4400_15_cropped.jpg  \n",
            "  inflating: checking/check/954_30_cropped.jpg  \n",
            "  inflating: checking/check/954_21_cropped.jpg  \n",
            "  inflating: checking/check/954_42_cropped.jpg  \n",
            "  inflating: checking/check/1949_11_cropped.jpg  \n",
            "  inflating: checking/check/1949_19_cropped.jpg  \n",
            "  inflating: checking/check/4942_34_cropped.jpg  \n",
            "  inflating: checking/check/954_14_cropped.jpg  \n",
            "  inflating: checking/check/1411_0_cropped.jpg  \n",
            "  inflating: checking/check/1411_22_cropped.jpg  \n",
            "  inflating: checking/check/1949_5_cropped.jpg  \n",
            "  inflating: checking/check/4070_11_cropped.jpg  \n",
            "  inflating: checking/check/1542_10_cropped.jpg  \n",
            "  inflating: checking/check/724_32_cropped.jpg  \n",
            "  inflating: checking/check/4070_6_cropped.jpg  \n",
            "  inflating: checking/check/4070_28_cropped.jpg  \n",
            "  inflating: checking/check/954_43_cropped.jpg  \n",
            "  inflating: checking/check/4942_7_cropped.jpg  \n",
            "  inflating: checking/check/724_28_cropped.jpg  \n",
            "  inflating: checking/check/1949_13_cropped.jpg  \n",
            "  inflating: checking/check/4070_42_cropped.jpg  \n",
            "  inflating: checking/check/4070_13_cropped.jpg  \n",
            "  inflating: checking/check/4942_4_cropped.jpg  \n",
            "  inflating: checking/check/1542_19_cropped.jpg  \n",
            "  inflating: checking/check/4942_20_cropped.jpg  \n",
            "  inflating: checking/check/4942_23_cropped.jpg  \n",
            "  inflating: checking/check/1949_9_cropped.jpg  \n",
            "  inflating: checking/check/4942_17_cropped.jpg  \n",
            "  inflating: checking/check/4400_33_cropped.jpg  \n",
            "  inflating: checking/check/4070_45_cropped.jpg  \n",
            "  inflating: checking/check/4070_20_cropped.jpg  \n",
            "  inflating: checking/check/724_41_cropped.jpg  \n",
            "  inflating: checking/check/954_32_cropped.jpg  \n",
            "  inflating: checking/check/4070_16_cropped.jpg  \n",
            "  inflating: checking/check/724_43_cropped.jpg  \n",
            "  inflating: checking/check/4070_27_cropped.jpg  \n",
            "  inflating: checking/check/4942_10_cropped.jpg  \n",
            "  inflating: checking/check/4400_14_cropped.jpg  \n",
            "  inflating: checking/check/4942_2_cropped.jpg  \n",
            "  inflating: checking/check/4070_3_cropped.jpg  \n",
            "  inflating: checking/check/4400_30_cropped.jpg  \n",
            "  inflating: checking/check/4942_26_cropped.jpg  \n",
            "  inflating: checking/check/724_23_cropped.jpg  \n",
            "  inflating: checking/check/724_26_cropped.jpg  \n",
            "  inflating: checking/check/4070_32_cropped.jpg  \n",
            "  inflating: checking/check/1542_14_cropped.jpg  \n",
            "  inflating: checking/check/1949_18_cropped.jpg  \n",
            "  inflating: checking/check/4942_0_cropped.jpg  \n",
            "  inflating: checking/check/954_27_cropped.jpg  \n",
            "  inflating: checking/check/4070_46_cropped.jpg  \n",
            "  inflating: checking/check/954_2_cropped.jpg  \n",
            "  inflating: checking/check/4070_12_cropped.jpg  \n",
            "  inflating: checking/check/4070_7_cropped.jpg  \n",
            "  inflating: checking/check/4400_23_cropped.jpg  \n",
            "  inflating: checking/check/1542_4_cropped.jpg  \n",
            "  inflating: checking/check/724_0_cropped.jpg  \n",
            "  inflating: checking/check/724_1_cropped.jpg  \n",
            "  inflating: checking/check/4070_47_cropped.jpg  \n",
            "  inflating: checking/check/4400_17_cropped.jpg  \n",
            "  inflating: checking/check/4942_9_cropped.jpg  \n",
            "  inflating: checking/check/4942_33_cropped.jpg  \n",
            "  inflating: checking/check/4070_14_cropped.jpg  \n",
            "  inflating: checking/check/1411_24_cropped.jpg  \n",
            "  inflating: checking/check/724_5_cropped.jpg  \n",
            "  inflating: checking/check/724_35_cropped.jpg  \n",
            "  inflating: checking/check/4942_8_cropped.jpg  \n",
            "  inflating: checking/check/1542_1_cropped.jpg  \n",
            "  inflating: checking/check/1411_2_cropped.jpg  \n",
            "  inflating: checking/check/724_45_cropped.jpg  \n",
            "  inflating: checking/check/1542_6_cropped.jpg  \n",
            "  inflating: checking/check/1542_7_cropped.jpg  \n",
            "  inflating: checking/check/724_2_cropped.jpg  \n",
            "  inflating: checking/check/724_36_cropped.jpg  \n",
            "  inflating: checking/check/724_42_cropped.jpg  \n",
            "  inflating: checking/check/1411_19_cropped.jpg  \n",
            "  inflating: checking/check/4942_32_cropped.jpg  \n",
            "  inflating: checking/check/4070_22_cropped.jpg  \n",
            "  inflating: checking/check/724_16_cropped.jpg  \n",
            "  inflating: checking/check/4070_49_cropped.jpg  \n",
            "  inflating: checking/check/4400_19_cropped.jpg  \n",
            "  inflating: checking/check/4942_14_cropped.jpg  \n",
            "  inflating: checking/check/4400_26_cropped.jpg  \n",
            "  inflating: checking/check/4400_27_cropped.jpg  \n",
            "  inflating: checking/check/4070_17_cropped.jpg  \n",
            "  inflating: checking/check/4942_5_cropped.jpg  \n",
            "  inflating: checking/check/4400_29_cropped.jpg  \n",
            "  inflating: checking/check/1411_10_cropped.jpg  \n",
            "  inflating: checking/check/4942_6_cropped.jpg  \n",
            "  inflating: checking/check/724_44_cropped.jpg  \n",
            "  inflating: checking/check/4070_26_cropped.jpg  \n",
            "  inflating: checking/check/954_0_cropped.jpg  \n",
            "  inflating: checking/check/954_45_cropped.jpg  \n",
            "  inflating: checking/check/954_18_cropped.jpg  \n",
            "  inflating: checking/check/724_19_cropped.jpg  \n",
            "  inflating: checking/check/4400_38_cropped.jpg  \n",
            "  inflating: checking/check/1542_12_cropped.jpg  \n",
            "  inflating: checking/check/724_46_cropped.jpg  \n",
            "  inflating: checking/check/954_31_cropped.jpg  \n",
            "  inflating: checking/check/4070_50_cropped.jpg  \n",
            "  inflating: checking/check/4400_41_cropped.jpg  \n",
            "  inflating: checking/check/4070_35_cropped.jpg  \n",
            "  inflating: checking/check/954_4_cropped.jpg  \n",
            "  inflating: checking/check/4942_15_cropped.jpg  \n",
            "  inflating: checking/check/4070_48_cropped.jpg  \n",
            "  inflating: checking/check/1411_21_cropped.jpg  \n",
            "  inflating: checking/check/4400_44_cropped.jpg  \n",
            "  inflating: checking/check/4400_16_cropped.jpg  \n",
            "  inflating: checking/check/4070_36_cropped.jpg  \n",
            "  inflating: checking/check/954_25_cropped.jpg  \n",
            "  inflating: checking/check/954_35_cropped.jpg  \n",
            "  inflating: checking/check/954_23_cropped.jpg  \n",
            "  inflating: checking/check/1411_4_cropped.jpg  \n",
            "  inflating: checking/check/1949_7_cropped.jpg  \n",
            "  inflating: checking/check/954_49_cropped.jpg  \n",
            "  inflating: checking/check/1949_8_cropped.jpg  \n",
            "  inflating: checking/check/4070_31_cropped.jpg  \n",
            "  inflating: checking/check/954_46_cropped.jpg  \n",
            "  inflating: checking/check/4070_41_cropped.jpg  \n",
            "  inflating: checking/check/724_39_cropped.jpg  \n",
            "  inflating: checking/check/2658_0_cropped.jpg  \n",
            "  inflating: checking/check/724_13_cropped.jpg  \n",
            "  inflating: checking/check/2012_10_cropped.jpg  \n",
            "  inflating: checking/check/4400_3_cropped.jpg  \n",
            "  inflating: checking/check/4942_11_cropped.jpg  \n",
            "  inflating: checking/check/2658_12_cropped.jpg  \n",
            "  inflating: checking/check/2012_19_cropped.jpg  \n",
            "  inflating: checking/check/4070_21_cropped.jpg  \n",
            "  inflating: checking/check/724_8_cropped.jpg  \n",
            "  inflating: checking/check/4942_21_cropped.jpg  \n",
            "  inflating: checking/check/2658_31_cropped.jpg  \n",
            "  inflating: checking/check/4070_0_cropped.jpg  \n",
            "  inflating: checking/check/2012_43_cropped.jpg  \n",
            "  inflating: checking/check/724_18_cropped.jpg  \n",
            "  inflating: checking/check/2012_20_cropped.jpg  \n",
            "  inflating: checking/check/2012_48_cropped.jpg  \n",
            "  inflating: checking/check/2012_30_cropped.jpg  \n",
            "  inflating: checking/check/2658_5_cropped.jpg  \n",
            "  inflating: checking/check/2658_27_cropped.jpg  \n",
            "  inflating: checking/check/2658_37_cropped.jpg  \n",
            "  inflating: checking/check/2012_46_cropped.jpg  \n",
            "  inflating: checking/check/2012_27_cropped.jpg  \n",
            "  inflating: checking/check/2012_29_cropped.jpg  \n",
            "  inflating: checking/check/2658_32_cropped.jpg  \n",
            "  inflating: checking/check/4070_51_cropped.jpg  \n",
            "  inflating: checking/check/4400_6_cropped.jpg  \n",
            "  inflating: checking/check/2012_5_cropped.jpg  \n",
            "  inflating: checking/check/2658_36_cropped.jpg  \n",
            "  inflating: checking/check/2012_1_cropped.jpg  \n",
            "  inflating: checking/check/2012_39_cropped.jpg  \n",
            "  inflating: checking/check/2012_33_cropped.jpg  \n",
            "  inflating: checking/check/2012_41_cropped.jpg  \n",
            "  inflating: checking/check/4400_1_cropped.jpg  \n",
            "  inflating: checking/check/2658_17_cropped.jpg  \n",
            "  inflating: checking/check/2012_25_cropped.jpg  \n",
            "  inflating: checking/check/2012_37_cropped.jpg  \n",
            "  inflating: checking/check/4400_5_cropped.jpg  \n",
            "  inflating: checking/check/2012_16_cropped.jpg  \n",
            "  inflating: checking/check/2012_36_cropped.jpg  \n",
            "  inflating: checking/check/2012_22_cropped.jpg  \n",
            "  inflating: checking/check/2658_16_cropped.jpg  \n",
            "  inflating: checking/check/2012_4_cropped.jpg  \n",
            "  inflating: checking/check/724_15_cropped.jpg  \n",
            "  inflating: checking/check/2658_1_cropped.jpg  \n",
            "  inflating: checking/check/2658_15_cropped.jpg  \n",
            "  inflating: checking/check/2012_24_cropped.jpg  \n",
            "  inflating: checking/check/2658_6_cropped.jpg  \n",
            "  inflating: checking/check/2658_35_cropped.jpg  \n",
            "  inflating: checking/check/4400_4_cropped.jpg  \n",
            "  inflating: checking/check/2012_45_cropped.jpg  \n",
            "  inflating: checking/check/2658_30_cropped.jpg  \n",
            "  inflating: checking/check/4400_9_cropped.jpg  \n",
            "  inflating: checking/check/2012_44_cropped.jpg  \n",
            "  inflating: checking/check/2658_33_cropped.jpg  \n",
            "  inflating: checking/check/4400_8_cropped.jpg  \n",
            "  inflating: checking/check/2012_6_cropped.jpg  \n",
            "  inflating: checking/check/2012_34_cropped.jpg  \n",
            "  inflating: checking/check/2012_3_cropped.jpg  \n",
            "  inflating: checking/check/2658_29_cropped.jpg  \n",
            "  inflating: checking/check/2658_34_cropped.jpg  \n",
            "  inflating: checking/check/2012_7_cropped.jpg  \n",
            "  inflating: checking/check/2658_7_cropped.jpg  \n",
            "  inflating: checking/check/2012_47_cropped.jpg  \n",
            "  inflating: checking/check/4400_2_cropped.jpg  \n",
            "  inflating: checking/check/2012_23_cropped.jpg  \n",
            "  inflating: checking/check/2012_38_cropped.jpg  \n",
            "  inflating: checking/check/2012_35_cropped.jpg  \n",
            "  inflating: checking/check/2658_18_cropped.jpg  \n",
            "  inflating: checking/check/2012_9_cropped.jpg  \n",
            "  inflating: checking/check/2658_9_cropped.jpg  \n",
            "  inflating: checking/check/2012_26_cropped.jpg  \n",
            "  inflating: checking/check/2658_20_cropped.jpg  \n",
            "  inflating: checking/check/2658_4_cropped.jpg  \n",
            "  inflating: checking/check/2012_2_cropped.jpg  \n",
            "  inflating: checking/check/2658_25_cropped.jpg  \n",
            "  inflating: checking/check/2658_22_cropped.jpg  \n",
            "  inflating: checking/check/2012_18_cropped.jpg  \n",
            "  inflating: checking/check/2658_23_cropped.jpg  \n",
            "  inflating: checking/check/2658_28_cropped.jpg  \n",
            "  inflating: checking/check/2658_10_cropped.jpg  \n",
            "  inflating: checking/check/2658_2_cropped.jpg  \n",
            "  inflating: checking/check/2012_15_cropped.jpg  \n",
            "  inflating: checking/check/2012_12_cropped.jpg  \n",
            "  inflating: checking/check/2012_31_cropped.jpg  \n",
            "  inflating: checking/check/2012_13_cropped.jpg  \n",
            "  inflating: checking/check/2012_40_cropped.jpg  \n",
            "  inflating: checking/check/2658_14_cropped.jpg  \n",
            "  inflating: checking/check/4400_10_cropped.jpg  \n",
            "  inflating: checking/check/2012_28_cropped.jpg  \n",
            "  inflating: checking/check/2012_42_cropped.jpg  \n",
            "  inflating: checking/check/2658_21_cropped.jpg  \n",
            "  inflating: checking/check/2658_8_cropped.jpg  \n",
            "  inflating: checking/check/2012_14_cropped.jpg  \n",
            "  inflating: checking/check/2012_32_cropped.jpg  \n",
            "  inflating: checking/check/2012_21_cropped.jpg  \n",
            "  inflating: checking/check/4400_0_cropped.jpg  \n",
            "  inflating: checking/check/2658_11_cropped.jpg  \n",
            "  inflating: checking/check/2658_19_cropped.jpg  \n",
            "  inflating: checking/check/2012_11_cropped.jpg  \n",
            "  inflating: checking/check/2012_17_cropped.jpg  \n",
            "  inflating: checking/check/2658_3_cropped.jpg  \n",
            "  inflating: checking/check/2658_13_cropped.jpg  \n",
            "  inflating: checking/check/4400_7_cropped.jpg  \n",
            "  inflating: checking/check/2012_0_cropped.jpg  \n",
            "  inflating: checking/check/2012_8_cropped.jpg  \n",
            "  inflating: checking/check/2658_26_cropped.jpg  \n",
            "  inflating: checking/check/2658_24_cropped.jpg  \n"
          ]
        }
      ]
    },
    {
      "cell_type": "code",
      "source": [
        "!python3 tools/infer/predict_rec.py --image_dir=\"/content/PaddleOCR/checking/check/1411_1_cropped.jpg\" --rec_model_dir=\"./inference/CRNN_mv3_iter_40/\"  --rec_char_dict_path=\"./ppocr/utils/en_dict.txt\""
      ],
      "metadata": {
        "colab": {
          "base_uri": "https://localhost:8080/"
        },
        "id": "q397B3sCXEHe",
        "outputId": "56e3c65e-da9d-4da9-e7f1-43228a2ecd1d"
      },
      "execution_count": null,
      "outputs": [
        {
          "output_type": "stream",
          "name": "stdout",
          "text": [
            "/usr/local/lib/python3.7/dist-packages/scipy/fft/__init__.py:97: DeprecationWarning: The module numpy.dual is deprecated.  Instead of using dual, use the functions directly from numpy or scipy.\n",
            "  from numpy.dual import register_func\n",
            "/usr/local/lib/python3.7/dist-packages/scipy/special/orthogonal.py:81: DeprecationWarning: `np.int` is a deprecated alias for the builtin `int`. To silence this warning, use `int` by itself. Doing this will not modify any behavior and is safe. When replacing `np.int`, you may wish to use e.g. `np.int64` or `np.int32` to specify the precision. If you wish to review your current use, check the release note link for additional information.\n",
            "Deprecated in NumPy 1.20; for more details and guidance: https://numpy.org/devdocs/release/1.20.0-notes.html#deprecations\n",
            "  from numpy import (exp, inf, pi, sqrt, floor, sin, cos, around, int,\n",
            "/usr/local/lib/python3.7/dist-packages/scipy/sparse/sputils.py:17: DeprecationWarning: `np.typeDict` is a deprecated alias for `np.sctypeDict`.\n",
            "  supported_dtypes = [np.typeDict[x] for x in supported_dtypes]\n",
            "/usr/local/lib/python3.7/dist-packages/yaml/constructor.py:126: DeprecationWarning: Using or importing the ABCs from 'collections' instead of from 'collections.abc' is deprecated since Python 3.3,and in 3.9 it will stop working\n",
            "  if not isinstance(key, collections.Hashable):\n",
            "E0703 14:04:36.107365  1192 analysis_config.cc:95] Please compile with gpu to EnableGpu()\n",
            "[2022/07/03 14:04:36] ppocr INFO: In PP-OCRv3, rec_image_shape parameter defaults to '3, 48, 320', if you are using recognition model with PP-OCRv2 or an older version, please set --rec_image_shape='3,32,320\n",
            "[2022/07/03 14:04:36] ppocr INFO: Predicts of /content/PaddleOCR/checking/check/1411_1_cropped.jpg:('.gg.', 0.6073890924453735)\n"
          ]
        }
      ]
    },
    {
      "cell_type": "code",
      "source": [
        "%cd PaddleOCR/\n",
        "#detection + recognition\n",
        "!python3 tools/infer/predict_system.py --image_dir=\"/content/test0.jpeg\" --det_model_dir=\"/content/en_PP-OCRv3_det_slim_infer\" --rec_model_dir=\"./inference/CRNN_mv3\" --rec_image_shape=\"3, 32, 100\" --use_angle_cls=false --rec_char_dict_path=\"./ppocr/utils/en_dict.txt\" --use_gpu=False"
      ],
      "metadata": {
        "colab": {
          "base_uri": "https://localhost:8080/"
        },
        "id": "hNgWQpTJXlba",
        "outputId": "684db706-a186-4f6a-8d11-e02d8191b20b"
      },
      "execution_count": null,
      "outputs": [
        {
          "output_type": "stream",
          "name": "stdout",
          "text": [
            "[Errno 2] No such file or directory: 'PaddleOCR/'\n",
            "/content/PaddleOCR\n",
            "/usr/local/lib/python3.7/dist-packages/scipy/fft/__init__.py:97: DeprecationWarning: The module numpy.dual is deprecated.  Instead of using dual, use the functions directly from numpy or scipy.\n",
            "  from numpy.dual import register_func\n",
            "/usr/local/lib/python3.7/dist-packages/scipy/special/orthogonal.py:81: DeprecationWarning: `np.int` is a deprecated alias for the builtin `int`. To silence this warning, use `int` by itself. Doing this will not modify any behavior and is safe. When replacing `np.int`, you may wish to use e.g. `np.int64` or `np.int32` to specify the precision. If you wish to review your current use, check the release note link for additional information.\n",
            "Deprecated in NumPy 1.20; for more details and guidance: https://numpy.org/devdocs/release/1.20.0-notes.html#deprecations\n",
            "  from numpy import (exp, inf, pi, sqrt, floor, sin, cos, around, int,\n",
            "/usr/local/lib/python3.7/dist-packages/scipy/sparse/sputils.py:17: DeprecationWarning: `np.typeDict` is a deprecated alias for `np.sctypeDict`.\n",
            "  supported_dtypes = [np.typeDict[x] for x in supported_dtypes]\n",
            "/usr/local/lib/python3.7/dist-packages/yaml/constructor.py:126: DeprecationWarning: Using or importing the ABCs from 'collections' instead of from 'collections.abc' is deprecated since Python 3.3,and in 3.9 it will stop working\n",
            "  if not isinstance(key, collections.Hashable):\n",
            "[2022/07/03 18:16:34] ppocr INFO: In PP-OCRv3, rec_image_shape parameter defaults to '3, 48, 320', if you are using recognition model with PP-OCRv2 or an older version, please set --rec_image_shape='3,32,320\n",
            "[2022/07/03 18:16:35] ppocr DEBUG: dt_boxes num : 24, elapse : 0.8186039924621582\n",
            "[2022/07/03 18:16:37] ppocr DEBUG: rec_res num  : 24, elapse : 2.613966703414917\n",
            "[2022/07/03 18:16:37] ppocr DEBUG: 0  Predict time of /content/test0.jpeg: 3.454s\n",
            "[2022/07/03 18:16:37] ppocr DEBUG: .ledical Specially., 0.931\n",
            "[2022/07/03 18:16:37] ppocr DEBUG: aAllerpy L IMININOlOG., 0.836\n",
            "[2022/07/03 18:16:37] ppocr DEBUG: ample NameZ A Allergic Rhinitis:, 0.924\n",
            "[2022/07/03 18:16:37] ppocr DEBUG: . Descriptionc2A. A Z3syearold White feimale preseuatS: With gopplaint of allergie, 0.938\n",
            "[2022/07/03 18:16:37] ppocr DEBUG:  Vledical 7raSgiiption Sample RRepor , 0.912\n",
            "[2022/07/03 18:16:37] ppocr DEBUG:  UBJECTFIVIE: This 23. yearold white femal presenls Xih eomplaint pf allergies She used to lhave allergies whe she lived ina Seattle but: she., 0.935\n",
            "[2022/07/03 18:16:37] ppocr DEBUG: tlhnlks: they are worse here 1n the past: slhe lhaS: tried Claritin: and Zyrteq. Both worked fior short time but tbhema seeed to lose effectiveness. She., 0.925\n",
            "[2022/07/03 18:16:37] ppocr DEBUG: 1as uSedl Allegra also. She uSed that last surrer aod she began usiog it again tyo WekS ago It does not appear to be Borking Very Well Sbe has:, 0.938\n",
            "[2022/07/03 18:16:37] ppocr DEBUG: used oer the couriter sprayS: byt no priescriptioin nasal SprayS: She does haVe asthma but dpest not require daily medicatipn for this and does oot., 0.948\n",
            "[2022/07/03 18:16:37] ppocr DEBUG:  hink i: is: flaring up., 0.917\n",
            "[2022/07/03 18:16:37] ppocr DEBUG: MEDCATlONS: her only medication curirently is O)tho TiCyclen ant thie Allega., 0.924\n",
            "[2022/07/03 18:16:37] ppocr DEBUG: ALRGlS She has no knon nedicine allergies., 0.953\n",
            "[2022/07/03 18:16:37] ppocr DEBUG: BJGIIV E:, 0.835\n",
            "[2022/07/03 18:16:37] ppocr DEBUG: Mitals9 Meighit was 1 30 pounds and blood pressure l2aF78., 0.917\n",
            "[2022/07/03 18:16:37] ppocr DEBUG:  N T: ller throat was mildly erytleratous Vitlhout eUdate Nasal ruicoa Was erythenatous and SVollen:. Only clear drainage Was see., 0.916\n",
            "[2022/07/03 18:16:37] ppocr DEBUG: 1 TVS., 0.934\n",
            "[2022/07/03 18:16:37] ppocr DEBUG:  yere Clear  ., 0.952\n",
            "[2022/07/03 18:16:37] ppocr DEBUG: . Neck Supple without adenppatly., 0.946\n",
            "[2022/07/03 18:16:37] ppocr DEBUG: LungS: lear., 0.934\n",
            "[2022/07/03 18:16:37] ppocr DEBUG: ASSSSMENT: Allergic rhinitis., 0.941\n",
            "[2022/07/03 18:16:37] ppocr DEBUG: ppL AN., 0.886\n",
            "[2022/07/03 18:16:37] ppocr DEBUG:  1. Sbe ill try Zyrtec itStead ofAllegra again Another option wilf be to uSeloratadioe. She does oot think slhe lhas prescription coVerage so that., 0.955\n",
            "[2022/07/03 18:16:37] ppocr DEBUG: mmiglt le Cleitper., 0.900\n",
            "[2022/07/03 18:16:37] ppocr DEBUG: .2. Samples ofANasoneXx tWo Sprays in eacl nostrilgIven for three weelkS. A prescription was Vritter aS well., 0.923\n",
            "[2022/07/03 18:16:38] ppocr DEBUG: The visualized image saved in ./inference_results/test0.jpeg\n",
            "[2022/07/03 18:16:38] ppocr INFO: The predict total time is 3.67566180229187\n"
          ]
        }
      ]
    },
    {
      "cell_type": "code",
      "source": [
        "%cd PaddleOCR/\n",
        "#detection + recognition\n",
        "!python3 tools/infer/predict_system.py --image_dir=\"/content/test1.jpeg\" --det_model_dir=\"/content/en_PP-OCRv3_det_slim_infer\" --rec_model_dir=\"./inference/CRNN_mv3\" --rec_image_shape=\"3, 32, 100\" --use_angle_cls=false --rec_char_dict_path=\"./ppocr/utils/en_dict.txt\" --use_gpu=False"
      ],
      "metadata": {
        "colab": {
          "base_uri": "https://localhost:8080/"
        },
        "id": "014krcOXRZbR",
        "outputId": "38064ba3-90fd-45ca-910c-48f9b1ff6968"
      },
      "execution_count": null,
      "outputs": [
        {
          "output_type": "stream",
          "name": "stdout",
          "text": [
            "[Errno 2] No such file or directory: 'PaddleOCR/'\n",
            "/content/PaddleOCR\n",
            "/usr/local/lib/python3.7/dist-packages/scipy/fft/__init__.py:97: DeprecationWarning: The module numpy.dual is deprecated.  Instead of using dual, use the functions directly from numpy or scipy.\n",
            "  from numpy.dual import register_func\n",
            "/usr/local/lib/python3.7/dist-packages/scipy/special/orthogonal.py:81: DeprecationWarning: `np.int` is a deprecated alias for the builtin `int`. To silence this warning, use `int` by itself. Doing this will not modify any behavior and is safe. When replacing `np.int`, you may wish to use e.g. `np.int64` or `np.int32` to specify the precision. If you wish to review your current use, check the release note link for additional information.\n",
            "Deprecated in NumPy 1.20; for more details and guidance: https://numpy.org/devdocs/release/1.20.0-notes.html#deprecations\n",
            "  from numpy import (exp, inf, pi, sqrt, floor, sin, cos, around, int,\n",
            "/usr/local/lib/python3.7/dist-packages/scipy/sparse/sputils.py:17: DeprecationWarning: `np.typeDict` is a deprecated alias for `np.sctypeDict`.\n",
            "  supported_dtypes = [np.typeDict[x] for x in supported_dtypes]\n",
            "/usr/local/lib/python3.7/dist-packages/yaml/constructor.py:126: DeprecationWarning: Using or importing the ABCs from 'collections' instead of from 'collections.abc' is deprecated since Python 3.3,and in 3.9 it will stop working\n",
            "  if not isinstance(key, collections.Hashable):\n",
            "[2022/07/03 18:16:40] ppocr INFO: In PP-OCRv3, rec_image_shape parameter defaults to '3, 48, 320', if you are using recognition model with PP-OCRv2 or an older version, please set --rec_image_shape='3,32,320\n",
            "[2022/07/03 18:16:41] ppocr DEBUG: dt_boxes num : 48, elapse : 0.8347196578979492\n",
            "[2022/07/03 18:16:48] ppocr DEBUG: rec_res num  : 48, elapse : 6.247331857681274\n",
            "[2022/07/03 18:16:48] ppocr DEBUG: 0  Predict time of /content/test1.jpeg: 7.116s\n",
            "[2022/07/03 18:16:48] ppocr DEBUG: Medical Specialtv., 0.954\n",
            "[2022/07/03 18:16:48] ppocr DEBUG: aAllergy 1. l nUNOlog:, 0.826\n",
            "[2022/07/03 18:16:48] ppocr DEBUG: sample Nae .  Allergy valuation Corsult, 0.930\n",
            "[2022/07/03 18:16:48] ppocr DEBUG: Description2 Acute allergiec reaetion. etiology uncertaing however suspicous: for keflex., 0.950\n",
            "[2022/07/03 18:16:48] ppocr DEBUG: GMledical Traunscription: Sarple Report., 0.897\n",
            "[2022/07/03 18:16:48] ppocr DEBUG: lSTOR Y:. A 3yearold male presents today selfreficrred at the recornrrendation of EmerpgenCy RoomplysicianS and his neplrologiSt to., 0.929\n",
            "[2022/07/03 18:16:48] ppocr DEBUG: pursue further allergy evaluaton ad reatrnent: Please reler to clarr for listory and plysical as well as the rmedical reoords regarding his allergie , 0.964\n",
            "[2022/07/03 18:16:48] ppocr DEBUG: eactio: reatment at: AIBC Medical Certer for furher details aund studies. Io suurary: tle paent lad an acute event of perioral Selliog euology., 0.934\n",
            "[2022/07/03 18:16:48] ppocr DEBUG: uceriain, oocurrig o 05 0/ 2008 requirng transler from ABC Mcdical Ccler to XYZ Medical Cenler due to a lstory of retal failure requiring., 0.917\n",
            "[2022/07/03 18:16:48] ppocr DEBUG: ddialysis and he was aditted and treated and felt that his allergy reaction was to KefleX: Vhiclh was: being used to treat a slkin oellulitis dialysis slut., 0.950\n",
            "[2022/07/03 18:16:48] ppocr DEBUG: ciofection,: lo Sumrary the patient Slates he lhas: some problems: yith tolerating grass: allergies: eyiomertal and inlhalant allerges occasiorally: lbut., 0.919\n",
            "[2022/07/03 18:16:48] ppocr DEBUG: Pas never lad anaplylactic or aogoedema reacuiors: l le currenlly is: not talking any medicaoon for allerges. Te is talking atenolol for: blood., 0.940\n",
            "[2022/07/03 18:16:48] ppocr DEBUG: pressure cortrol. No further problerS have been noted Upon lis discharge and treatmert. Vhich included corticosteroid therapy and antihistarine., 0.962\n",
            "[2022/07/03 18:16:48] ppocr DEBUG: therapy and monitoring., 0.974\n",
            "[2022/07/03 18:16:48] ppocr DEBUG: PAST MEDICA. lSTOR Y: llistory of urticaria history of renal failure with hypertension possible souree of renal failure. history of dalysis., 0.941\n",
            "[2022/07/03 18:16:48] ppocr DEBUG: imes: 2. years and a lhustory of hypertetslon., 0.913\n",
            "[2022/07/03 18:16:48] ppocr DEBUG: PPAST SURGIlCAL lSTOR Y: Perath irseruion times 3 and peritoteal dialysis., 0.930\n",
            "[2022/07/03 18:16:48] ppocr DEBUG: 1AMIIL : llSOR Y: Strong for heart disease carcinoma. and a history of food allergies. and There iS also a history of hypertersion., 0.935\n",
            "[2022/07/03 18:16:48] ppocr DEBUG: URRENT MEDlCAT1ONS: Atenolol sodium bicarbonate Lovaza and Dialyvite., 0.949\n",
            "[2022/07/03 18:16:48] ppocr DEBUG: AALLIRGIIES: Heparin causang thronboytopenia., 0.945\n",
            "[2022/07/03 18:16:48] ppocr DEBUG: OCLALL: llS lORY: Denes tobacco or alcohol use, 0.949\n",
            "[2022/07/03 18:16:48] ppocr DEBUG: PHYSICAL EXANIINAIION: :, 0.904\n",
            "[2022/07/03 18:16:48] ppocr DEBUG: VITAL SlGNS: AGe 34. blood pressure 128 7 8. pulse 70. temperature is 97 8. Weighit is 207 pounds. and beight is 5 feet 7 incbes., 0.943\n",
            "[2022/07/03 18:16:48] ppocr DEBUG: .GIENERAL, The patient is healtly appearing. alert and orenled to person, place and ume responds appropriately: in no acute distress., 0.963\n",
            "[2022/07/03 18:16:48] ppocr DEBUG: 1lllAD: Nonocephalic No tasseS or lesionS: noted., 0.873\n",
            "[2022/07/03 18:16:48] ppocr DEBUG: FACE: No facial tenderness or aSytetry ooted., 0.947\n",
            "[2022/07/03 18:16:48] ppocr DEBUG: EYES: Pupls are equal. rouund and reactve to liglt and accommodatio bilaterally xuraOcular roveremtSs are iritact bilaterally., 0.934\n",
            "[2022/07/03 18:16:48] ppocr DEBUG: EARS: The tymparic merrbraunes are intact bilaterally with a good liglt rellex T0e extenal audiory canals are clear with no lesions or msses., 0.951\n",
            "[2022/07/03 18:16:48] ppocr DEBUG: notedl VVelber aund: Rire tests: are itliN Dorol lmitS., 0.855\n",
            "[2022/07/03 18:16:48] ppocr DEBUG: NOSE The asal cayities are patent bilaterally. The raSalseptum is ridline. Tlere are no nasal dSsclageS. No rasSes or lesiorSs oted., 0.941\n",
            "[2022/07/03 18:16:48] ppocr DEBUG:  TROA T: The oral mucosa appears: beatly. Deutal lygiene is maintained well. No oroplarygealosses or lesionS ooteD No postnasal drip., 0.947\n",
            "[2022/07/03 18:16:48] ppocr DEBUG: 7noted., 0.835\n",
            "[2022/07/03 18:16:48] ppocr DEBUG:  NECK. The neck is supple withno adenopathy or masses palpated. The trachea is ridline The tlyroid gland is ofrormal size with no nodules., 0.981\n",
            "[2022/07/03 18:16:48] ppocr DEBUG: 1NEUROLOGIC: Facial nerve is irntact bilaterally. The rermining. cranial nerves are intact without focal deficit., 0.963\n",
            "[2022/07/03 18:16:48] ppocr DEBUG: LUNGiS Clear to ausculation bilaterally No Weeze noted., 0.958\n",
            "[2022/07/03 18:16:48] ppocr DEBUG:  EART Regular rate andl rlytlm. No nurur: ooted., 0.910\n",
            "[2022/07/03 18:16:48] ppocr DEBUG: IIMIPRSSION., 0.899\n",
            "[2022/07/03 18:16:48] ppocr DEBUG:  l ACute allergio reacuion, etiology uncertain, hoWevyer SuSpicious for kefle., 0.925\n",
            "[2022/07/03 18:16:48] ppocr DEBUG: 2. Retal eailure requring dialysiS., 0.954\n",
            "[2022/07/03 18:16:48] ppocr DEBUG: . yperteosion., 0.973\n",
            "[2022/07/03 18:16:48] ppocr DEBUG: RRIOMMNDAT10NS, RAST allergy testing lor botl food and enVironnertal allerges: Was perfomed. ad We wil get the results back to., 0.922\n",
            "[2022/07/03 18:16:48] ppocr DEBUG:  e patient: wih furtlher recorendaUorSs to follo Iftbere ts ay SpecifiC 1ood or inlalart alergen that iSs found to be qute ligh oln the Sensitvity:, 0.925\n",
            "[2022/07/03 18:16:48] ppocr DEBUG: sscale. We would probably recomend the patient to aVoid th ofendlg agemt to hold off o ay furtler reactionS At this poant: 1 ould., 0.947\n",
            "[2022/07/03 18:16:48] ppocr DEBUG: rcootmend Ihe paeNt Stoppung ay furer use of CephaloSpor auibloticsS: Vhich nay be tbe cause oflis allergic reaction. ad 1 wouill oosider., 0.915\n",
            "[2022/07/03 18:16:48] ppocr DEBUG: thiS an allergy. Being on atenolol the patient has a more dificult time treating acute anaplylais: but l do thiok thils isS medically necessay at this., 0.940\n",
            "[2022/07/03 18:16:48] ppocr DEBUG: e and hopefully ye caD find Specific causes for his alergic reactios. An pPen WasS also prescribedl in the evet ofacute aNgioedea or allergiC., 0.920\n",
            "[2022/07/03 18:16:48] ppocr DEBUG: reaction or sensaion of impending allergc reaction and he is aware he Deeds to proceed directy to the erergecy roo lor: furdher evaluation aod, 0.965\n",
            "[2022/07/03 18:16:48] ppocr DEBUG: reatumert recoendlatoS: after adrmlristration of art lpiPe., 0.886\n",
            "[2022/07/03 18:16:48] ppocr DEBUG: The visualized image saved in ./inference_results/test1.jpeg\n",
            "[2022/07/03 18:16:48] ppocr INFO: The predict total time is 7.489647626876831\n"
          ]
        }
      ]
    },
    {
      "cell_type": "code",
      "source": [
        "%cd PaddleOCR/\n",
        "#detection + recognition\n",
        "!python3 tools/infer/predict_system.py --image_dir=\"/content/test2.jpeg\" --det_model_dir=\"/content/en_PP-OCRv3_det_slim_infer\" --rec_model_dir=\"./inference/CRNN_mv3\" --rec_image_shape=\"3, 32, 100\" --use_angle_cls=false --rec_char_dict_path=\"./ppocr/utils/en_dict.txt\" --use_gpu=False"
      ],
      "metadata": {
        "colab": {
          "base_uri": "https://localhost:8080/"
        },
        "id": "0ddBt4hZR4LT",
        "outputId": "8b7b3fed-c789-4bad-b31d-c7ad729a7759"
      },
      "execution_count": null,
      "outputs": [
        {
          "output_type": "stream",
          "name": "stdout",
          "text": [
            "[Errno 2] No such file or directory: 'PaddleOCR/'\n",
            "/content/PaddleOCR\n",
            "/usr/local/lib/python3.7/dist-packages/scipy/fft/__init__.py:97: DeprecationWarning: The module numpy.dual is deprecated.  Instead of using dual, use the functions directly from numpy or scipy.\n",
            "  from numpy.dual import register_func\n",
            "/usr/local/lib/python3.7/dist-packages/scipy/special/orthogonal.py:81: DeprecationWarning: `np.int` is a deprecated alias for the builtin `int`. To silence this warning, use `int` by itself. Doing this will not modify any behavior and is safe. When replacing `np.int`, you may wish to use e.g. `np.int64` or `np.int32` to specify the precision. If you wish to review your current use, check the release note link for additional information.\n",
            "Deprecated in NumPy 1.20; for more details and guidance: https://numpy.org/devdocs/release/1.20.0-notes.html#deprecations\n",
            "  from numpy import (exp, inf, pi, sqrt, floor, sin, cos, around, int,\n",
            "/usr/local/lib/python3.7/dist-packages/scipy/sparse/sputils.py:17: DeprecationWarning: `np.typeDict` is a deprecated alias for `np.sctypeDict`.\n",
            "  supported_dtypes = [np.typeDict[x] for x in supported_dtypes]\n",
            "/usr/local/lib/python3.7/dist-packages/yaml/constructor.py:126: DeprecationWarning: Using or importing the ABCs from 'collections' instead of from 'collections.abc' is deprecated since Python 3.3,and in 3.9 it will stop working\n",
            "  if not isinstance(key, collections.Hashable):\n",
            "[2022/07/03 18:17:00] ppocr INFO: In PP-OCRv3, rec_image_shape parameter defaults to '3, 48, 320', if you are using recognition model with PP-OCRv2 or an older version, please set --rec_image_shape='3,32,320\n",
            "[2022/07/03 18:17:00] ppocr DEBUG: dt_boxes num : 37, elapse : 0.8295226097106934\n",
            "[2022/07/03 18:17:05] ppocr DEBUG: rec_res num  : 37, elapse : 4.43247127532959\n",
            "[2022/07/03 18:17:05] ppocr DEBUG: 0  Predict time of /content/test2.jpeg: 5.284s\n",
            "[2022/07/03 18:17:05] ppocr DEBUG: MleDical Specialty t., 0.919\n",
            "[2022/07/03 18:17:05] ppocr DEBUG:  11GrGY: 11NUINDlOG:, 0.741\n",
            "[2022/07/03 18:17:05] ppocr DEBUG: SSaraple Naroe4 A Asthma in a 5yearold., 0.946\n",
            "[2022/07/03 18:17:05] ppocr DEBUG: DDescriptionc4A. lother States he Las: bweo weeziog asdl coglig., 0.869\n",
            "[2022/07/03 18:17:05] ppocr DEBUG: 1Vledical Trauscriptio Saruzle Repor., 0.932\n",
            "[2022/07/03 18:17:05] ppocr DEBUG: Cf1lUIF OOMPLAIN: I: Ths: 5yarold male prerentS: to Clldrerl S: hoSpal ErergenCy Departmer: Bby: te lr VIh. aV usthru. : Mother:, 0.867\n",
            "[2022/07/03 18:17:05] ppocr DEBUG: states he las been wleezing and Cougilrg. Thy saw tleir prirmary redical doctor rie was evaluated at he clioic gyen tine lbreadlirg ureoonet., 0.922\n",
            "[2022/07/03 18:17:05] ppocr DEBUG: ad dlislrged loe. was rot lavg asdra prescribed Prednsoe and au antiboUc 10ytold. tO g to tle FR If le got VCrse lle lhaSs lad., 0.879\n",
            "[2022/07/03 18:17:05] ppocr DEBUG:  sore Voming aod Some abdomal paia: tlis pealk llows on e morrng are Doral at 1 50 buit in ibe morning. tley wee don o l00 ao., 0.895\n",
            "[2022/07/03 18:17:05] ppocr DEBUG: subsequetly dlecased Lo 7 5. oVer tle oursc of lhe day., 0.915\n",
            "[2022/07/03 18:17:05] ppocr DEBUG: PPASTMLDlCAL llSTUR Y: Ashma With his laSt admission in 0712007. Aso clusie of firequen: pneumornia by report, 0.915\n",
            "[2022/07/03 18:17:05] ppocr DEBUG: IMMiUNZATlON5 9 Uptodaie., 0.845\n",
            "[2022/07/03 18:17:05] ppocr DEBUG: ALLlRGIS: Denind., 0.839\n",
            "[2022/07/03 18:17:05] ppocr DEBUG: MEICAIIONS. Advoir Nasonex. Xoperex Ziar. Zihromax: predrisone. nd aibtiterol., 0.905\n",
            "[2022/07/03 18:17:05] ppocr DEBUG: 1AST SURGICAL: HIISORY: Denicd., 0.878\n",
            "[2022/07/03 18:17:05] ppocr DEBUG: OClLAL lllSsiOR Y: Lives at lone. here im tbe  with the moler andl tinre is oo Smoking. in the homme., 0.920\n",
            "[2022/07/03 18:17:05] ppocr DEBUG: 1AMIIL Y: H1S TOR Y: No oote eposes., 0.919\n",
            "[2022/07/03 18:17:05] ppocr DEBUG: REVIY Ol SYSIEMS:: Docutneoied Gn Dhe toplate. Sysierrs reVewed ona te tmplae., 0.862\n",
            "[2022/07/03 18:17:05] ppocr DEBUG: PPIY:SICAL EXAMIINAIION:, 0.875\n",
            "[2022/07/03 18:17:05] ppocr DEBUG: MTTAL. SGNS Temperature 98. 7 . pulse 105. espiration is 28. blod ptessule 112 65. and Veighit of 1 6 5. lg Oygen saturatioo low at 91Vo on., 0.903\n",
            "[2022/07/03 18:17:05] ppocr DEBUG: 10mm auit. , 0.785\n",
            "[2022/07/03 18:17:05] ppocr DEBUG: GEERAL: This is a weliledewloped mole who is ooperatlve alert. active wih oygea lby facemasl, 0.908\n",
            "[2022/07/03 18:17:05] ppocr DEBUG: EENT Iiead is atraurratic arnd norrmoeplaiie Pupiis are equal runx. and reacte to light. Exraoular rotions are intuct and Cogjugate Clear., 0.920\n",
            "[2022/07/03 18:17:05] ppocr DEBUG: TMS: oose andl oroplryr. , 0.909\n",
            "[2022/07/03 18:17:05] ppocr DEBUG: NfCK. Supplo. Tul painless nontender range ofmouon., 0.920\n",
            "[2022/07/03 18:17:05] ppocr DEBUG: EST Iight Wheezng and retracoors heard bilterally., 0.934\n",
            "[2022/07/03 18:17:05] ppocr DEBUG:   EART: Reg lar whout rub or mrrrrurs., 0.874\n",
            "[2022/07/03 18:17:05] ppocr DEBUG: BDOMN: Soft rontender No masSes. No hepaloSplcoogaly , 0.923\n",
            "[2022/07/03 18:17:05] ppocr DEBUG: GELIITALLA: Male genitalia is prcsent oo oa Viual examingtion., 0.920\n",
            "[2022/07/03 18:17:05] ppocr DEBUG: SKIN: No sgiicai brusig lesiorS or rash., 0.912\n",
            "[2022/07/03 18:17:05] ppocr DEBUG: EXTRE1T1ES: Moves all eXrerities without ditificuly: nontender No defomity, 0.942\n",
            "[2022/07/03 18:17:05] ppocr DEBUG:  NUROLOG1C Symmetrin faoe. cooperate ancl a9o approjriate., 0.879\n",
            "[2022/07/03 18:17:05] ppocr DEBUG: IMED1CaL DIS l0N M:. Al1NG, Tle dilereolal ereruauined on ds patet includes reacuVe aruys: dsese. Viral Sydome. and fore ., 0.867\n",
            "[2022/07/03 18:17:05] ppocr DEBUG: boxy poesusa. le is evaluuted an te errgenoy deparuuoet Wyio cootinutous: higlrdose albuterol Decadron by moth: puloe oimnetry: and., 0.888\n",
            "[2022/07/03 18:17:05] ppocr DEBUG: lose obsetvation. CleSt Xray reveals: bronolial dclentg oterwse Do defiote irliftrate She is frler reated io ue cergecy deparrert: Wilh., 0.893\n",
            "[2022/07/03 18:17:05] ppocr DEBUG: Iased on the aboVe. 1le lospitalist was: Cosuited aad aoeplS: thiS: panet. for: adtisioo: to te. hspital witm: Ile WGrkimyg diagraoaiS: ofrSpvator., 0.866\n",
            "[2022/07/03 18:17:05] ppocr DEBUG: diSrrss and asluna., 0.902\n",
            "[2022/07/03 18:17:05] ppocr DEBUG: The visualized image saved in ./inference_results/test2.jpeg\n",
            "[2022/07/03 18:17:05] ppocr INFO: The predict total time is 5.605969667434692\n"
          ]
        }
      ]
    },
    {
      "cell_type": "code",
      "source": [
        "%cd PaddleOCR/\n",
        "#detection + recognition\n",
        "!python3 tools/infer/predict_system.py --image_dir=\"/content/test3.jpeg\" --det_model_dir=\"/content/en_PP-OCRv3_det_slim_infer\" --rec_model_dir=\"./inference/CRNN_mv3\" --rec_image_shape=\"3, 32, 100\" --use_angle_cls=false --rec_char_dict_path=\"./ppocr/utils/en_dict.txt\" --use_gpu=False"
      ],
      "metadata": {
        "colab": {
          "base_uri": "https://localhost:8080/"
        },
        "id": "o3kGCBwYR8Fs",
        "outputId": "87156a00-8df0-4885-f16b-95cf220738e8"
      },
      "execution_count": null,
      "outputs": [
        {
          "output_type": "stream",
          "name": "stdout",
          "text": [
            "[Errno 2] No such file or directory: 'PaddleOCR/'\n",
            "/content/PaddleOCR\n",
            "/usr/local/lib/python3.7/dist-packages/scipy/fft/__init__.py:97: DeprecationWarning: The module numpy.dual is deprecated.  Instead of using dual, use the functions directly from numpy or scipy.\n",
            "  from numpy.dual import register_func\n",
            "/usr/local/lib/python3.7/dist-packages/scipy/special/orthogonal.py:81: DeprecationWarning: `np.int` is a deprecated alias for the builtin `int`. To silence this warning, use `int` by itself. Doing this will not modify any behavior and is safe. When replacing `np.int`, you may wish to use e.g. `np.int64` or `np.int32` to specify the precision. If you wish to review your current use, check the release note link for additional information.\n",
            "Deprecated in NumPy 1.20; for more details and guidance: https://numpy.org/devdocs/release/1.20.0-notes.html#deprecations\n",
            "  from numpy import (exp, inf, pi, sqrt, floor, sin, cos, around, int,\n",
            "/usr/local/lib/python3.7/dist-packages/scipy/sparse/sputils.py:17: DeprecationWarning: `np.typeDict` is a deprecated alias for `np.sctypeDict`.\n",
            "  supported_dtypes = [np.typeDict[x] for x in supported_dtypes]\n",
            "/usr/local/lib/python3.7/dist-packages/yaml/constructor.py:126: DeprecationWarning: Using or importing the ABCs from 'collections' instead of from 'collections.abc' is deprecated since Python 3.3,and in 3.9 it will stop working\n",
            "  if not isinstance(key, collections.Hashable):\n",
            "[2022/07/03 18:17:22] ppocr INFO: In PP-OCRv3, rec_image_shape parameter defaults to '3, 48, 320', if you are using recognition model with PP-OCRv2 or an older version, please set --rec_image_shape='3,32,320\n",
            "[2022/07/03 18:17:23] ppocr DEBUG: dt_boxes num : 50, elapse : 0.8702614307403564\n",
            "[2022/07/03 18:17:29] ppocr DEBUG: rec_res num  : 50, elapse : 6.297157287597656\n",
            "[2022/07/03 18:17:29] ppocr DEBUG: 0  Predict time of /content/test3.jpeg: 7.196s\n",
            "[2022/07/03 18:17:29] ppocr DEBUG: Medical Specialty., 0.961\n",
            "[2022/07/03 18:17:29] ppocr DEBUG: alergy . loumolog., 0.907\n",
            "[2022/07/03 18:17:29] ppocr DEBUG: Serple Name 2 Clronie Siousitis., 0.896\n",
            "[2022/07/03 18:17:29] ppocr DEBUG:  Desciptiona. Patieot bavinag severe simusitis alut two to thuree aaaths ago th facial lcomafort: masal congesboas: eye pals. and., 0.934\n",
            "[2022/07/03 18:17:29] ppocr DEBUG: postasal drIp sy rptoms., 0.881\n",
            "[2022/07/03 18:17:29] ppocr DEBUG: GMedlical Transcription Sample ReporD., 0.902\n",
            "[2022/07/03 18:17:29] ppocr DEBUG: HISTUR Y, 1 had tle plcasure ofmeeting andl evaluatiog obo patient referred today for evaluation and reatment of cloronic sinusitis: As yu are., 0.936\n",
            "[2022/07/03 18:17:29] ppocr DEBUG:  eil aware sle is a pleaaut SOyear olid feale wbo states sne stotted haVing seVere sanuots about two to three months agp with a lacial., 0.927\n",
            "[2022/07/03 18:17:29] ppocr DEBUG: dsoomtrt: nasal oongesoion, eye pain. aodl postmnasal drip Syptom She states sho reaty has sianus problems. but tbs: infecuon has: been rathe., 0.922\n",
            "[2022/07/03 18:17:29] ppocr DEBUG: severe and sbe otes she has oot had much improVement with aatbioticS. she had a CT of her paramasal firoses ideotidlyimng mild mucosal., 0.929\n",
            "[2022/07/03 18:17:29] ppocr DEBUG:  hickening of righat: paranasal siouses wh Ccclsion of the ostiomeatal Compiex oC the rigbt and turbinate lyperrphy waS aio ooed wen l., 0.935\n",
            "[2022/07/03 18:17:29] ppocr DEBUG: eVewed the flirs aad there iy some minial nasal septumdevialioa to the left: She curently S: not talking ary medication for her saues: She also., 0.927\n",
            "[2022/07/03 18:17:29] ppocr DEBUG: phs ooted hat soe is haViog Some problemg h: her balonce and possiole heorinag losS Cr at least ear popping agd fllness. l iler audiogramn toay:, 0.925\n",
            "[2022/07/03 18:17:29] ppocr DEBUG: demonstated mzd bigh ftequency senSorineural bearing loss. oormal yopaoomety and ormal Speecb dliscrimination. She hos tried topical sal., 0.949\n",
            "[2022/07/03 18:17:29] ppocr DEBUG: or costeroid therapy without mruch: improement: She tried: Allega without mucha improVement: and. sbe believes the allegga may have caused., 0.940\n",
            "[2022/07/03 18:17:29] ppocr DEBUG: 1robles with: balarce to worsen, Sbhe aotes: hr dizziness to be much WoS0 if she does quick positioral changes Such as lhead tuming or suddea., 0.929\n",
            "[2022/07/03 18:17:29] ppocr DEBUG: movemeots. o ear tuiline: pressure humming. buziny or roarig noed an her earS: She denies ary previous history of sins surgery or nasal., 0.938\n",
            "[2022/07/03 18:17:29] ppocr DEBUG:  injury Sle belews she has Some degg ee of allergy Syptom., 0.907\n",
            "[2022/07/03 18:17:29] ppocr DEBUG: PA5TI M lDlCAL: HlS t OR Y: Seaonal allerges. possiblio tood alleges. clronc siusitsS. lypertesion and nistory oF weigl t chaage: She iS., 0.912\n",
            "[2022/07/03 18:17:29] ppocr DEBUG: crerly 1 80 pouris., 0.887\n",
            "[2022/07/03 18:17:29] ppocr DEBUG: PAST SURGlCAL L15SIOR Y:: lower exuemy Vein stripping. tomsillectormy and adenoidectoy., 0.912\n",
            "[2022/07/03 18:17:29] ppocr DEBUG: 1FalL : hlS IOzR Y:: Strong for learg dlisease ad aloohnoliso., 0.868\n",
            "[2022/07/03 18:17:29] ppocr DEBUG: URREN: T MEDlCATITIO: 5. . DyaCic., 0.849\n",
            "[2022/07/03 18:17:29] ppocr DEBUG: ALlLERGlfS: fgglaoed products cause hives., 0.943\n",
            "[2022/07/03 18:17:29] ppocr DEBUG: SOClAL: lIS 1R Y9: The patiet used o Sole cigaretes for abot: 2O years: oae half padk a day She curretly does: not, Which: was., 0.908\n",
            "[2022/07/03 18:17:29] ppocr DEBUG: mnrouraged to continue 5he rarely drink5 any alcolholoontainang beverages., 0.922\n",
            "[2022/07/03 18:17:29] ppocr DEBUG: P/IY SICAI. EXAMILNAa IION:, 0.830\n",
            "[2022/07/03 18:17:29] ppocr DEBUG: TTAL S1GNS: Age S0 blod pressure is 1 /6 74. pulse 84: temperature is, 95. 4 Weitybpt is: 1 80 pounds. and heig t is 5 eet 3. oches., 0.875\n",
            "[2022/07/03 18:17:29] ppocr DEBUG: GEANERAL, The patent is heathy appearing. alert and orieoated to Peson. pace and time. responds appropmately, a ro acute dotress., 0.905\n",
            "[2022/07/03 18:17:29] ppocr DEBUG: 1AD: Npephalic ANo masscs or lesiors noted., 0.957\n",
            "[2022/07/03 18:17:29] ppocr DEBUG: F ACE No tacial tcndemess or aSymmety noed., 0.937\n",
            "[2022/07/03 18:17:29] ppocr DEBUG: EY ES: FUpils are equal routel aod eactye to liglt and acoomodauon blateraily Eraocular rroVemera. are intact bilaterally No ySlagS:, 0.909\n",
            "[2022/07/03 18:17:29] ppocr DEBUG: EARS: During l lalipilke exaainotioti: the paciet did not become dizzy uruil snc would be placed bacix ioto sitting n the uprigint posnon. No., 0.922\n",
            "[2022/07/03 18:17:29] ppocr DEBUG: mystagrus was appreciated, hoever: the petient dil subjectiVly repott ozinesS: Whiclh waSs epeated IWioe No evidence of ay orthostatic., 0.907\n",
            "[2022/07/03 18:17:29] ppocr DEBUG: hypotenrion was noted duringy the eam Tympanic membrames were notedl to he intact. No sigpS. of amiddle er etsion or ear canal infiammalion., 0.927\n",
            "[2022/07/03 18:17:29] ppocr DEBUG: ANOSE: The patient appears cogested Turoimate lypertropiy S Dotedl There are Do SgS of amy acut sianusitiS: Septu is midlne. sig aly., 0.910\n",
            "[2022/07/03 18:17:29] ppocr DEBUG: deviated to the left., 0.940\n",
            "[2022/07/03 18:17:29] ppocr DEBUG: Tl lROA T There is clear postasal drp Oral hyeoe is gpod. Io msses or lesioas notcd. Both Vocal eords moVe well to midliue., 0.943\n",
            "[2022/07/03 18:17:29] ppocr DEBUG: :ECK Te necl: is Supple With ro adeoopay or masses palpated. Te tracl ea iS midlline The 1hyotd glard S of oomoal size witn no nodules., 0.908\n",
            "[2022/07/03 18:17:29] ppocr DEBUG:  UNCS Clexr to auscultabon bil ateraly, No Wleeze ootd., 0.911\n",
            "[2022/07/03 18:17:29] ppocr DEBUG: 1EAlU T: Regular rate and hythm No murmur noted., 0.931\n",
            "[2022/07/03 18:17:29] ppocr DEBUG: NEUROLOC: fFacital Derw S imtact bilaterally Tbe remainio3. eanioal nervev are itaact widhout focal deciL., 0.923\n",
            "[2022/07/03 18:17:29] ppocr DEBUG: PROURE: Fiberoptie asopharyogoscopy idlerifyg turioine Hypertroply and nasal sepu devation to ol e leit: more siggilicaot, 0.953\n",
            "[2022/07/03 18:17:29] ppocr DEBUG: pposteriorly., 0.921\n",
            "[2022/07/03 18:17:29] ppocr DEBUG: MPRESSION, 0.906\n",
            "[2022/07/03 18:17:29] ppocr DEBUG: . 1. Probable ircreasimg probles with allergi rbioitis andl chronio sinusitlis. both contributing to Lbe patemt S SympomS., 0.921\n",
            "[2022/07/03 18:17:29] ppocr DEBUG: 2. 5ubjectve dzziness etiology uncertaio lhowevet: comsider Positional Vertigo Versus vestibular nevronitis aS: possiblc car causes: of dzziness., 0.940\n",
            "[2022/07/03 18:17:29] ppocr DEBUG: .atnot nule ot Systemc. oetral or medlicabon or cases at this tme., 0.915\n",
            "[2022/07/03 18:17:29] ppocr DEBUG: . lacrior turbidate hypertopby., 0.890\n",
            "[2022/07/03 18:17:29] ppocr DEBUG: . Nesal Septm deformity., 0.945\n",
            "[2022/07/03 18:17:29] ppocr DEBUG: The visualized image saved in ./inference_results/test3.jpeg\n",
            "[2022/07/03 18:17:29] ppocr INFO: The predict total time is 7.5589234828948975\n"
          ]
        }
      ]
    },
    {
      "cell_type": "code",
      "source": [
        "%cd PaddleOCR/\n",
        "#detection + recognition\n",
        "!python3 tools/infer/predict_system.py --image_dir=\"/content/test4.jpeg\" --det_model_dir=\"/content/en_PP-OCRv3_det_slim_infer\" --rec_model_dir=\"./inference/CRNN_mv3\" --rec_image_shape=\"3, 32, 100\" --use_angle_cls=false --rec_char_dict_path=\"./ppocr/utils/en_dict.txt\" --use_gpu=False"
      ],
      "metadata": {
        "colab": {
          "base_uri": "https://localhost:8080/"
        },
        "id": "JuZSkqOqSA7m",
        "outputId": "2e0c0d82-8fd2-4a4c-d88b-581d85fc7ee0"
      },
      "execution_count": null,
      "outputs": [
        {
          "output_type": "stream",
          "name": "stdout",
          "text": [
            "[Errno 2] No such file or directory: 'PaddleOCR/'\n",
            "/content/PaddleOCR\n",
            "/usr/local/lib/python3.7/dist-packages/scipy/fft/__init__.py:97: DeprecationWarning: The module numpy.dual is deprecated.  Instead of using dual, use the functions directly from numpy or scipy.\n",
            "  from numpy.dual import register_func\n",
            "/usr/local/lib/python3.7/dist-packages/scipy/special/orthogonal.py:81: DeprecationWarning: `np.int` is a deprecated alias for the builtin `int`. To silence this warning, use `int` by itself. Doing this will not modify any behavior and is safe. When replacing `np.int`, you may wish to use e.g. `np.int64` or `np.int32` to specify the precision. If you wish to review your current use, check the release note link for additional information.\n",
            "Deprecated in NumPy 1.20; for more details and guidance: https://numpy.org/devdocs/release/1.20.0-notes.html#deprecations\n",
            "  from numpy import (exp, inf, pi, sqrt, floor, sin, cos, around, int,\n",
            "/usr/local/lib/python3.7/dist-packages/scipy/sparse/sputils.py:17: DeprecationWarning: `np.typeDict` is a deprecated alias for `np.sctypeDict`.\n",
            "  supported_dtypes = [np.typeDict[x] for x in supported_dtypes]\n",
            "/usr/local/lib/python3.7/dist-packages/yaml/constructor.py:126: DeprecationWarning: Using or importing the ABCs from 'collections' instead of from 'collections.abc' is deprecated since Python 3.3,and in 3.9 it will stop working\n",
            "  if not isinstance(key, collections.Hashable):\n",
            "[2022/07/03 18:17:35] ppocr INFO: In PP-OCRv3, rec_image_shape parameter defaults to '3, 48, 320', if you are using recognition model with PP-OCRv2 or an older version, please set --rec_image_shape='3,32,320\n",
            "[2022/07/03 18:17:36] ppocr DEBUG: dt_boxes num : 20, elapse : 0.8375148773193359\n",
            "[2022/07/03 18:17:38] ppocr DEBUG: rec_res num  : 20, elapse : 2.331385374069214\n",
            "[2022/07/03 18:17:38] ppocr DEBUG: 0  Predict time of /content/test4.jpeg: 3.183s\n",
            "[2022/07/03 18:17:38] ppocr DEBUG: Mledical SpeCialty , 0.939\n",
            "[2022/07/03 18:17:38] ppocr DEBUG: 4allergy7. lMmUNOlO., 0.757\n",
            "[2022/07/03 18:17:38] ppocr DEBUG: ample Name.2 Evaluation of Allergie., 0.960\n",
            "[2022/07/03 18:17:38] ppocr DEBUG: DescriptiomA Chronic glossitis Xerostomia probable environmental inahalant allergies probable food allergies: and history of., 0.976\n",
            "[2022/07/03 18:17:38] ppocr DEBUG: aaS tlua., 0.876\n",
            "[2022/07/03 18:17:38] ppocr DEBUG: ledical Transcriptiona saple Repor., 0.970\n",
            "[2022/07/03 18:17:38] ppocr DEBUG: IlS TOR Y:. A 55 yearold feale presentSs selfreferred for the possilbiliy of evaluaton and treaumert of aerges. dimnished taste Xerostomia., 0.944\n",
            "[2022/07/03 18:17:38] ppocr DEBUG: gastroesoplageal refluX: disease, possible food allerges clronic GIl irritabiiy, asthma. and eVironmemtal inlalant allergesS. Please refer to chart: for, 0.928\n",
            "[2022/07/03 18:17:38] ppocr DEBUG:  istory and plyscal and revew of Systems and detailed medical history., 0.966\n",
            "[2022/07/03 18:17:38] ppocr DEBUG: IMIPRESSION , 0.945\n",
            "[2022/07/03 18:17:38] ppocr DEBUG: 1. Clhronic glossitisXerostoraprobable eniromertal inhalant allergiesprobable food allergieslhstory of asthma., 0.956\n",
            "[2022/07/03 18:17:38] ppocr DEBUG: . llistoy offibroyalgia., 0.944\n",
            "[2022/07/03 18:17:38] ppocr DEBUG: . llistory ofpeptic uloer disease. history of gastritis. history ofgastroesoplageal disease., 0.949\n",
            "[2022/07/03 18:17:38] ppocr DEBUG: .4 llistory ofclrooic fatigue., 0.930\n",
            "[2022/07/03 18:17:38] ppocr DEBUG: . istory of hypotlhyroidismm, 0.923\n",
            "[2022/07/03 18:17:38] ppocr DEBUG:  g. history ofdepression , 0.908\n",
            "[2022/07/03 18:17:38] ppocr DEBUG: 7.. istory of dySplagia., 0.904\n",
            "[2022/07/03 18:17:38] ppocr DEBUG: RROMMNDATONS: RAST allergy testing Vas ordered for food allergy evaluauion. The patent had previous allergy testing done less than., 0.956\n",
            "[2022/07/03 18:17:38] ppocr DEBUG: one year ago iby Dr X which was requested Tbe palient will follow up after RAST allergy testing for further treatment recoimendatiors. At Ilis., 0.981\n",
            "[2022/07/03 18:17:38] ppocr DEBUG: poit: nNo clanges in her medication Were prescribed uolil ber followup visit., 0.938\n",
            "[2022/07/03 18:17:39] ppocr DEBUG: The visualized image saved in ./inference_results/test4.jpeg\n",
            "[2022/07/03 18:17:39] ppocr INFO: The predict total time is 3.4575700759887695\n"
          ]
        }
      ]
    },
    {
      "cell_type": "code",
      "source": [
        "%cd PaddleOCR/\n",
        "#detection + recognition\n",
        "!python3 tools/infer/predict_system.py --image_dir=\"/content/test5.jpeg\" --det_model_dir=\"/content/en_PP-OCRv3_det_slim_infer\" --rec_model_dir=\"./inference/CRNN_mv3\" --rec_image_shape=\"3, 32, 100\" --use_angle_cls=false --rec_char_dict_path=\"./ppocr/utils/en_dict.txt\" --use_gpu=False"
      ],
      "metadata": {
        "colab": {
          "base_uri": "https://localhost:8080/"
        },
        "id": "7dGus50gSEET",
        "outputId": "d770f16d-cce4-49a0-cfbe-17a162f0663a"
      },
      "execution_count": null,
      "outputs": [
        {
          "output_type": "stream",
          "name": "stdout",
          "text": [
            "[Errno 2] No such file or directory: 'PaddleOCR/'\n",
            "/content/PaddleOCR\n",
            "/usr/local/lib/python3.7/dist-packages/scipy/fft/__init__.py:97: DeprecationWarning: The module numpy.dual is deprecated.  Instead of using dual, use the functions directly from numpy or scipy.\n",
            "  from numpy.dual import register_func\n",
            "/usr/local/lib/python3.7/dist-packages/scipy/special/orthogonal.py:81: DeprecationWarning: `np.int` is a deprecated alias for the builtin `int`. To silence this warning, use `int` by itself. Doing this will not modify any behavior and is safe. When replacing `np.int`, you may wish to use e.g. `np.int64` or `np.int32` to specify the precision. If you wish to review your current use, check the release note link for additional information.\n",
            "Deprecated in NumPy 1.20; for more details and guidance: https://numpy.org/devdocs/release/1.20.0-notes.html#deprecations\n",
            "  from numpy import (exp, inf, pi, sqrt, floor, sin, cos, around, int,\n",
            "/usr/local/lib/python3.7/dist-packages/scipy/sparse/sputils.py:17: DeprecationWarning: `np.typeDict` is a deprecated alias for `np.sctypeDict`.\n",
            "  supported_dtypes = [np.typeDict[x] for x in supported_dtypes]\n",
            "/usr/local/lib/python3.7/dist-packages/yaml/constructor.py:126: DeprecationWarning: Using or importing the ABCs from 'collections' instead of from 'collections.abc' is deprecated since Python 3.3,and in 3.9 it will stop working\n",
            "  if not isinstance(key, collections.Hashable):\n",
            "[2022/07/03 18:17:49] ppocr INFO: In PP-OCRv3, rec_image_shape parameter defaults to '3, 48, 320', if you are using recognition model with PP-OCRv2 or an older version, please set --rec_image_shape='3,32,320\n",
            "[2022/07/03 18:17:50] ppocr DEBUG: dt_boxes num : 52, elapse : 0.8399121761322021\n",
            "[2022/07/03 18:17:57] ppocr DEBUG: rec_res num  : 52, elapse : 6.398374557495117\n",
            "[2022/07/03 18:17:57] ppocr DEBUG: 0  Predict time of /content/test5.jpeg: 7.265s\n",
            "[2022/07/03 18:17:57] ppocr DEBUG: Mledical Specialty., 0.968\n",
            "[2022/07/03 18:17:57] ppocr DEBUG: Allerg: . lmmmuolOg., 0.882\n",
            "[2022/07/03 18:17:57] ppocr DEBUG: Sample Namne.A followup on Astha., 0.922\n",
            "[2022/07/03 18:17:57] ppocr DEBUG: Description. 4A A femaie for a complete plysical aad folloWup ona astlu: witlh alergie rtilnitis., 0.944\n",
            "[2022/07/03 18:17:57] ppocr DEBUG: vedtcal TraascetIption 5ample Report, 0.934\n",
            "[2022/07/03 18:17:57] ppocr DEBUG: sUB11C11 V7 Thie. iS a. 4 2  yearold white feuale Wlo oes in iCday for a complete plysicaul and fllow Up on aSUle. She say5. her asdhra., 0.878\n",
            "[2022/07/03 18:17:57] ppocr DEBUG: 1es been Worse over tbe last three ondhSs. She las: beea usiaog her indhaler daily. Her alleges. seemm to be a litie bit worse aS ell lher lusband las., 0.923\n",
            "[2022/07/03 18:17:57] ppocr DEBUG: been hauigy comm aad this pee. to aggravate thing. She has not been taling Allega daily but: when she does take it: it Seem to help somewhat., 0.946\n",
            "[2022/07/03 18:17:57] ppocr DEBUG: Sbe has not been Laliag her: flnaSe whiclh haS helped ler in the past: She alsOo ootes: dhat in the past sbe Was o AdVar but she got, soo Vaginal., 0.914\n",
            "[2022/07/03 18:17:57] ppocr DEBUG: imtation with that., 0.891\n",
            "[2022/07/03 18:17:57] ppocr DEBUG:  he had been ooticing increasing Syaptoms ofirnitabiliy Anl PMS around her mensoval cycle. Sle has been nre impatient around that tine, 0.954\n",
            "[2022/07/03 18:17:57] ppocr DEBUG: sayS otherwise her mood iv noral during dhe rest of tbe moth: lt usually is WorSe he week before her Cy cle ad improVes: the day: ber mStrual., 0.925\n",
            "[2022/07/03 18:17:57] ppocr DEBUG: ycle starts, Meoses have bee regular but sooewhat slorter than: lg: de past Ocasionaly she will get some sSpoing afler her cycles: She denies., 0.920\n",
            "[2022/07/03 18:17:57] ppocr DEBUG: any hot: flashes or right Sweats ith this. ln revewing the chart it is moted that she did hae 5. : blood vith whas appeared o be a urinary tact., 0.945\n",
            "[2022/07/03 18:17:57] ppocr DEBUG: imlection previously l er urine has not beeo recleclked Sh reoertly had lab Vork amd cholestenol drawm tor a de insuranoe application andl ., 0.926\n",
            "[2022/07/03 18:17:57] ppocr DEBUG:  going to send me those results whea avatlable., 0.972\n",
            "[2022/07/03 18:17:57] ppocr DEBUG: IVIW O SYSIIMIS: AS above No fevers: ao headaches, sao shoriness of boreath cureatly No hest pain or tightness: No abdominalpaia., 0.920\n",
            "[2022/07/03 18:17:57] ppocr DEBUG: ao beartoum. no consipationi, diarrlea Or dysuria. OccaSonal Stress iocontineno: No muSCle ory joinat pam: No conoeS about her skin No., 0.911\n",
            "[2022/07/03 18:17:57] ppocr DEBUG: polyplhagia polydisia or: polyria., 0.943\n",
            "[2022/07/03 18:17:57] ppocr DEBUG: PAST MDKCAL: llS TOR Y: Siguifcant for asl amn. allergio rhiritis anl oerVal dySplusia., 0.928\n",
            "[2022/07/03 18:17:57] ppocr DEBUG: CIAl. l5 1OlR Y Sle is rmarriod She is a Dormoler., 0.858\n",
            "[2022/07/03 18:17:57] ppocr DEBUG: MIED1CA T10N 5, Proentit and AIegra., 0.874\n",
            "[2022/07/03 18:17:57] ppocr DEBUG: ALLERGlS: Sulla., 0.921\n",
            "[2022/07/03 18:17:57] ppocr DEBUG: OBJECTTV E, 0.773\n",
            "[2022/07/03 18:17:57] ppocr DEBUG: Xital slgans Her weight is 151 poutds. Blood pressure is 1 10gO. Puilse is 72. Teoperature is 97 1 degeesa Respiraaons are 20., 0.916\n",
            "[2022/07/03 18:17:57] ppocr DEBUG: General. Ths: is a welildeveoped. wellnourished 42yearold wbite female alet and oriented in mo acuae disesS Affect if appropriote and is., 0.928\n",
            "[2022/07/03 18:17:57] ppocr DEBUG: 1pleasant., 0.887\n",
            "[2022/07/03 18:17:57] ppocr DEBUG: 1EEN T: orooephalic. araumaoc. Typanic membraDes are clear: CogjuncuiVae are clear Pupilo are equal round and reactive to light. Nares., 0.944\n",
            "[2022/07/03 18:17:57] ppocr DEBUG: wthout turbinate edema: Oropharyx iS noneryUhematous., 0.940\n",
            "[2022/07/03 18:17:57] ppocr DEBUG: Neck Supple withur: bymplhadenopathy. thyroegaly: rarotd bruit or: / VD., 0.872\n",
            "[2022/07/03 18:17:57] ppocr DEBUG: Chesc: Clear to ausculaoona bilaiterally., 0.919\n",
            "[2022/07/03 18:17:57] ppocr DEBUG:  aliovascular Regular ratto and rlythma withoul rurmur., 0.890\n",
            "[2022/07/03 18:17:57] ppocr DEBUG: Abdome: Sof. nonteode. ondistended. NormoactVe bowel sourds. No masses or organomegaly to palpation., 0.926\n",
            "[2022/07/03 18:17:57] ppocr DEBUG: Eremities Mthout cyanosis r edeta., 0.925\n",
            "[2022/07/03 18:17:57] ppocr DEBUG: .Sltr Witlhour abnormalities., 0.825\n",
            "[2022/07/03 18:17:57] ppocr DEBUG: BreastS: Noral Symetrical brasts Wihout: dipliog or reracuon:. No Dpple dschorge: N o asoes or lesiotrs lo palpation. No aillary maSses o., 0.924\n",
            "[2022/07/03 18:17:57] ppocr DEBUG: 1ymphadeoopathy., 0.897\n",
            "[2022/07/03 18:17:57] ppocr DEBUG: Genitourirary: Normal emeal geitalia. The walls of the Vagital Vaul are visualzcd with normal pink rugae with oo lesioms noted CerX: is., 0.942\n",
            "[2022/07/03 18:17:57] ppocr DEBUG:  iSuaiized widhout lesion: Sbe ha5 a moderate amouet of tniclk whiteyellow Vagial diSclnrge n Lhe Vaginal VaUl/. No oervical moton tedemess., 0.926\n",
            "[2022/07/03 18:17:57] ppocr DEBUG:  No adneul tedermess or fUllNess., 0.889\n",
            "[2022/07/03 18:17:57] ppocr DEBUG: ASSE5SMIENT/PLAN:, 0.871\n",
            "[2022/07/03 18:17:57] ppocr DEBUG:  1. ASthmo. Sees: o bo Worse dlata in tbe past: Slhe i. juat using her Poventil inlhaler but is usiog it daily Me wil add floverl 2)4. mcg IWo pufS., 0.896\n",
            "[2022/07/03 18:17:57] ppocr DEBUG: 1po b Ld May meed to increase the dose She did ger some vagiral irritation with Advar ia tle past but sbe s willing to rety that if it is Decesary., 0.946\n",
            "[2022/07/03 18:17:57] ppocr DEBUG: May also reed to consider Singulair: She ias to Call me ifShe s not itnproVing. lfher shortness ofbreath worsems sbey iS to cail me or gyp into tbe., 0.939\n",
            "[2022/07/03 18:17:57] ppocr DEBUG: eemergency depatmem. Ae Vill plan on foloing up for reevaluatioo in oNo moml., 0.929\n",
            "[2022/07/03 18:17:57] ppocr DEBUG: 2. Allergic rlaiaitiS. We will plan on oestarting. Allega and 1lonase daly for tbe time beimg., 0.941\n",
            "[2022/07/03 18:17:57] ppocr DEBUG: . Prergestrual dyphoro disorder She may nave somc perirreopausal SyptoS: Me will Start ber on fluoxetine 20 g one tablet p o q. ., 0.938\n",
            "[2022/07/03 18:17:57] ppocr DEBUG: . a. Hemturia. Likely this is Secondary to urnary tract infection but we wil repcat a UA to dccument clearirg. Sbe does have some fequegt., 0.932\n",
            "[2022/07/03 18:17:57] ppocr DEBUG: dySuria but s: ot lhaVing it Currertly., 0.922\n",
            "[2022/07/03 18:17:57] ppocr DEBUG: . Cervical dysSpiasia. Pap smeaur s talen:. Me wil notify the patient ofresalls. 1f nomal Ve will go tack to yearly Pap srea: Se is scheduled for , 0.926\n",
            "[2022/07/03 18:17:57] ppocr DEBUG: screemog mammograra and instructed on monthaly self breast exam tecboiqueo PRecommemd she get: 1 200 mg of calciaumand 4O0 U of Vitammin 1: a., 0.897\n",
            "[2022/07/03 18:17:57] ppocr DEBUG: ay., 0.796\n",
            "[2022/07/03 18:17:57] ppocr DEBUG: The visualized image saved in ./inference_results/test5.jpeg\n",
            "[2022/07/03 18:17:57] ppocr INFO: The predict total time is 7.639991521835327\n"
          ]
        }
      ]
    },
    {
      "cell_type": "code",
      "source": [
        "%cd PaddleOCR/\n",
        "#detection + recognition\n",
        "!python3 tools/infer/predict_system.py --image_dir=\"/content/test6.jpeg\" --det_model_dir=\"/content/en_PP-OCRv3_det_slim_infer\" --rec_model_dir=\"./inference/CRNN_mv3\" --rec_image_shape=\"3, 32, 100\" --use_angle_cls=false --rec_char_dict_path=\"./ppocr/utils/en_dict.txt\" --use_gpu=False"
      ],
      "metadata": {
        "colab": {
          "base_uri": "https://localhost:8080/"
        },
        "id": "C4IdbakqSIIq",
        "outputId": "0404e8e8-d04c-4461-d60c-a85fac651cf7"
      },
      "execution_count": null,
      "outputs": [
        {
          "output_type": "stream",
          "name": "stdout",
          "text": [
            "[Errno 2] No such file or directory: 'PaddleOCR/'\n",
            "/content/PaddleOCR\n",
            "/usr/local/lib/python3.7/dist-packages/scipy/fft/__init__.py:97: DeprecationWarning: The module numpy.dual is deprecated.  Instead of using dual, use the functions directly from numpy or scipy.\n",
            "  from numpy.dual import register_func\n",
            "/usr/local/lib/python3.7/dist-packages/scipy/special/orthogonal.py:81: DeprecationWarning: `np.int` is a deprecated alias for the builtin `int`. To silence this warning, use `int` by itself. Doing this will not modify any behavior and is safe. When replacing `np.int`, you may wish to use e.g. `np.int64` or `np.int32` to specify the precision. If you wish to review your current use, check the release note link for additional information.\n",
            "Deprecated in NumPy 1.20; for more details and guidance: https://numpy.org/devdocs/release/1.20.0-notes.html#deprecations\n",
            "  from numpy import (exp, inf, pi, sqrt, floor, sin, cos, around, int,\n",
            "/usr/local/lib/python3.7/dist-packages/scipy/sparse/sputils.py:17: DeprecationWarning: `np.typeDict` is a deprecated alias for `np.sctypeDict`.\n",
            "  supported_dtypes = [np.typeDict[x] for x in supported_dtypes]\n",
            "/usr/local/lib/python3.7/dist-packages/yaml/constructor.py:126: DeprecationWarning: Using or importing the ABCs from 'collections' instead of from 'collections.abc' is deprecated since Python 3.3,and in 3.9 it will stop working\n",
            "  if not isinstance(key, collections.Hashable):\n",
            "[2022/07/03 18:18:03] ppocr INFO: In PP-OCRv3, rec_image_shape parameter defaults to '3, 48, 320', if you are using recognition model with PP-OCRv2 or an older version, please set --rec_image_shape='3,32,320\n",
            "[2022/07/03 18:18:04] ppocr DEBUG: dt_boxes num : 22, elapse : 0.812258243560791\n",
            "[2022/07/03 18:18:07] ppocr DEBUG: rec_res num  : 22, elapse : 2.928260326385498\n",
            "[2022/07/03 18:18:07] ppocr DEBUG: 0  Predict time of /content/test6.jpeg: 3.751s\n",
            "[2022/07/03 18:18:07] ppocr DEBUG: Mledical Specialty., 0.953\n",
            "[2022/07/03 18:18:07] ppocr DEBUG: allergy/L lmmuoolog., 0.861\n",
            "[2022/07/03 18:18:07] ppocr DEBUG: saple NaeA lawaSalki DiSease DiSClharge Suar, 0.935\n",
            "[2022/07/03 18:18:07] ppocr DEBUG: DDescriptiom2 This is a 14monthold baby boy Caucasian who came in with presumptive diagnosis of Kawasalk with: fever for more., 0.970\n",
            "[2022/07/03 18:18:07] ppocr DEBUG: than 5 day s: aod conjuctivitiS, mild arthritis Wth edema rashgy resolvig aod With elevated oeutrophils and thrombocy tosiS elevated., 0.929\n",
            "[2022/07/03 18:18:07] ppocr DEBUG: CRP and S, 0.920\n",
            "[2022/07/03 18:18:07] ppocr DEBUG: AMledical Transcription Sample Report., 0.920\n",
            "[2022/07/03 18:18:07] ppocr DEBUG: AD Mll TT1NG DlLAGNOSlS kawasalki ddiSease., 0.897\n",
            "[2022/07/03 18:18:07] ppocr DEBUG: DSChLARGle DlAGNOSlS Kkawasali disease resolving., 0.914\n",
            "[2022/07/03 18:18:07] ppocr DEBUG: 1OSPI TAL COUIRSE: This iSs a 1 4. mothold baby boy Caucasian Who came in With presuptive dagosis of Kawasalki with feVer for more., 0.922\n",
            "[2022/07/03 18:18:07] ppocr DEBUG:  han 5 days and conjunctivitis.: rild arthritis with edema. rash, resolVing and with eleVated neutroplhils and thrommboCytosis, elevated CRP and ESR., 0.928\n",
            "[2022/07/03 18:18:07] ppocr DEBUG: Xhen he was sent to the hospital he had a fever of l O2. SubSequety, the patient was evaluated and based on the criteria. he was started on high., 0.944\n",
            "[2022/07/03 18:18:07] ppocr DEBUG: dose of aspirin and l VlG: Echocardiogam as also done which was negative IVlG was done Xxl and between: l 2. hours of IVlG. he spiked., 0.919\n",
            "[2022/07/03 18:18:07] ppocr DEBUG: tever againg it Was repeated twice. ad hen atter seood 1VlC: he did ot Spilke ay more fever Today his fever and his rash haVe completely., 0.939\n",
            "[2022/07/03 18:18:07] ppocr DEBUG: resolVed le does not have ay cojunctivitis and no redness ofmucouS membraoes le is more calm and quite and talking good po., So With a., 0.960\n",
            "[2022/07/03 18:18:07] ppocr DEBUG: very close folloUp aod a cardiac followUp, lhe will be sent home., 0.911\n",
            "[2022/07/03 18:18:07] ppocr DEBUG: DISCHLARGE ACTIVITITIES: Ad lb., 0.882\n",
            "[2022/07/03 18:18:07] ppocr DEBUG: D1SCLARGE. DI T. PO ad lib., 0.850\n",
            "[2022/07/03 18:18:07] ppocr DEBUG: DlSCLARGE MEDCATlONS: AsSpirin high dose 340 mg qGh:. for 1 day and hen aspirin low dose 40 mg q d for: l a. days and then., 0.934\n",
            "[2022/07/03 18:18:07] ppocr DEBUG: Prevacid also to prevent his Gl from aspirin l 5 mg po once a day le will be followed by his primary: doctor in 2 to 3. dayS: Cardioogy for echo., 0.962\n",
            "[2022/07/03 18:18:07] ppocr DEBUG: followup in 4 to 6 Weeks and instructed oot to giVe ay Vaccine ina less than l 1 months because of IVlC all the live Virus Vaccine. and if he gets amy:, 0.946\n",
            "[2022/07/03 18:18:07] ppocr DEBUG: raslhes. any fevers should gp to prilmary care doctor as soon as possible., 0.946\n",
            "[2022/07/03 18:18:07] ppocr DEBUG: The visualized image saved in ./inference_results/test6.jpeg\n",
            "[2022/07/03 18:18:07] ppocr INFO: The predict total time is 4.0297956466674805\n"
          ]
        }
      ]
    },
    {
      "cell_type": "code",
      "source": [
        "!sudo apt install tesseract-ocr\n",
        "!pip install pytesseract\n"
      ],
      "metadata": {
        "colab": {
          "base_uri": "https://localhost:8080/"
        },
        "id": "Kc6OzABUSWaE",
        "outputId": "0745e896-ac09-4298-de86-e3402b8f4854"
      },
      "execution_count": null,
      "outputs": [
        {
          "output_type": "stream",
          "name": "stdout",
          "text": [
            "Reading package lists... Done\n",
            "Building dependency tree       \n",
            "Reading state information... Done\n",
            "The following package was automatically installed and is no longer required:\n",
            "  libnvidia-common-460\n",
            "Use 'sudo apt autoremove' to remove it.\n",
            "The following additional packages will be installed:\n",
            "  tesseract-ocr-eng tesseract-ocr-osd\n",
            "The following NEW packages will be installed:\n",
            "  tesseract-ocr tesseract-ocr-eng tesseract-ocr-osd\n",
            "0 upgraded, 3 newly installed, 0 to remove and 49 not upgraded.\n",
            "Need to get 4,795 kB of archives.\n",
            "After this operation, 15.8 MB of additional disk space will be used.\n",
            "Get:1 http://archive.ubuntu.com/ubuntu bionic/universe amd64 tesseract-ocr-eng all 4.00~git24-0e00fe6-1.2 [1,588 kB]\n",
            "Get:2 http://archive.ubuntu.com/ubuntu bionic/universe amd64 tesseract-ocr-osd all 4.00~git24-0e00fe6-1.2 [2,989 kB]\n",
            "Get:3 http://archive.ubuntu.com/ubuntu bionic/universe amd64 tesseract-ocr amd64 4.00~git2288-10f4998a-2 [218 kB]\n",
            "Fetched 4,795 kB in 1s (3,591 kB/s)\n",
            "debconf: unable to initialize frontend: Dialog\n",
            "debconf: (No usable dialog-like program is installed, so the dialog based frontend cannot be used. at /usr/share/perl5/Debconf/FrontEnd/Dialog.pm line 76, <> line 3.)\n",
            "debconf: falling back to frontend: Readline\n",
            "debconf: unable to initialize frontend: Readline\n",
            "debconf: (This frontend requires a controlling tty.)\n",
            "debconf: falling back to frontend: Teletype\n",
            "dpkg-preconfigure: unable to re-open stdin: \n",
            "Selecting previously unselected package tesseract-ocr-eng.\n",
            "(Reading database ... 155639 files and directories currently installed.)\n",
            "Preparing to unpack .../tesseract-ocr-eng_4.00~git24-0e00fe6-1.2_all.deb ...\n",
            "Unpacking tesseract-ocr-eng (4.00~git24-0e00fe6-1.2) ...\n",
            "Selecting previously unselected package tesseract-ocr-osd.\n",
            "Preparing to unpack .../tesseract-ocr-osd_4.00~git24-0e00fe6-1.2_all.deb ...\n",
            "Unpacking tesseract-ocr-osd (4.00~git24-0e00fe6-1.2) ...\n",
            "Selecting previously unselected package tesseract-ocr.\n",
            "Preparing to unpack .../tesseract-ocr_4.00~git2288-10f4998a-2_amd64.deb ...\n",
            "Unpacking tesseract-ocr (4.00~git2288-10f4998a-2) ...\n",
            "Setting up tesseract-ocr-osd (4.00~git24-0e00fe6-1.2) ...\n",
            "Setting up tesseract-ocr-eng (4.00~git24-0e00fe6-1.2) ...\n",
            "Setting up tesseract-ocr (4.00~git2288-10f4998a-2) ...\n",
            "Processing triggers for man-db (2.8.3-2ubuntu0.1) ...\n",
            "Looking in indexes: https://pypi.org/simple, https://us-python.pkg.dev/colab-wheels/public/simple/\n",
            "Collecting pytesseract\n",
            "  Downloading pytesseract-0.3.9-py2.py3-none-any.whl (14 kB)\n",
            "Collecting Pillow>=8.0.0\n",
            "  Downloading Pillow-9.2.0-cp37-cp37m-manylinux_2_17_x86_64.manylinux2014_x86_64.whl (3.1 MB)\n",
            "\u001b[2K     \u001b[90m━━━━━━━━━━━━━━━━━━━━━━━━━━━━━━━━━━━━━━━━\u001b[0m \u001b[32m3.1/3.1 MB\u001b[0m \u001b[31m36.1 MB/s\u001b[0m eta \u001b[36m0:00:00\u001b[0m\n",
            "\u001b[?25hRequirement already satisfied: packaging>=21.3 in /usr/local/lib/python3.7/dist-packages (from pytesseract) (21.3)\n",
            "Requirement already satisfied: pyparsing!=3.0.5,>=2.0.2 in /usr/local/lib/python3.7/dist-packages (from packaging>=21.3->pytesseract) (3.0.9)\n",
            "Installing collected packages: Pillow, pytesseract\n",
            "  Attempting uninstall: Pillow\n",
            "    Found existing installation: Pillow 7.1.2\n",
            "    Uninstalling Pillow-7.1.2:\n",
            "      Successfully uninstalled Pillow-7.1.2\n",
            "\u001b[31mERROR: pip's dependency resolver does not currently take into account all the packages that are installed. This behaviour is the source of the following dependency conflicts.\n",
            "albumentations 0.1.12 requires imgaug<0.2.7,>=0.2.5, but you have imgaug 0.4.0 which is incompatible.\u001b[0m\u001b[31m\n",
            "\u001b[0mSuccessfully installed Pillow-9.2.0 pytesseract-0.3.9\n",
            "\u001b[33mWARNING: Running pip as the 'root' user can result in broken permissions and conflicting behaviour with the system package manager. It is recommended to use a virtual environment instead: https://pip.pypa.io/warnings/venv\u001b[0m\u001b[33m\n",
            "\u001b[0m"
          ]
        }
      ]
    },
    {
      "cell_type": "code",
      "source": [
        "import pytesseract\n",
        "import shutil\n",
        "import os\n",
        "import random\n",
        "from PIL import Image\n"
      ],
      "metadata": {
        "id": "myowhM2nSmIq"
      },
      "execution_count": null,
      "outputs": []
    },
    {
      "cell_type": "code",
      "source": [
        "image_path_in_colab = '/content/test0.jpeg'\n",
        "test0 = pytesseract.image_to_string(Image.open(image_path_in_colab))\n",
        "print(test0)"
      ],
      "metadata": {
        "colab": {
          "base_uri": "https://localhost:8080/"
        },
        "id": "wVFbnn1RSxMN",
        "outputId": "c65a44bb-7e97-4b4f-db70-5c67a4b1b1af"
      },
      "execution_count": null,
      "outputs": [
        {
          "output_type": "stream",
          "name": "stdout",
          "text": [
            ". Medical Specialty:\n",
            "Allergy / Immiimology\n",
            "\n",
            " \n",
            "\n",
            "Sample Name:A Allergic Rhit\n",
            "\n",
            "Description: 4 23-year-old white feitiale presents with coniplaint of allergies.\n",
            "(Medical ‘Transetiption Sample Report)\n",
            "\n",
            " \n",
            "\n",
            "SUBJECTIVE: This 23-year-old white fSmmab presents with comphint of alltgics. Sh? ised to-have alleies when she ined in Seatié bu she\n",
            "thinks they are worse here. Inthe past, she has tried Claritin, andt Zyrtec. Both worked f’short time but then seemed to lose effectiveness. She\n",
            "thas usell Allegiz alb,\"She used that bst summer and she began using it gain two weeks ago. It does not appear to be working very well. She has\n",
            "used over-the-couritér sprays but no prescrfition nasal sprays, She does have asthma but doest nit require dly medication fortis and-does not\n",
            "‘ink i flaring up\n",
            "\n",
            " \n",
            "\n",
            "   \n",
            "\n",
            " \n",
            "\n",
            " \n",
            "\n",
            "MEDICATIONS: Her only nedizatin curently & Ory ThE Cycler ait te Allgia\n",
            "\n",
            "ALLERGIES\n",
            "\n",
            " \n",
            "\n",
            "ie has no Known nizdicine allergies.\n",
            "\n",
            " \n",
            "\n",
            "‘OBJECTIVE\n",
            "‘Vitals: Weight was 130 pounds und blood pressure. 124/78.\n",
            "\n",
            "HEENT: Her throat was midly erythematous without exudate: Nasal naisosa yas érythermnfous aril swollen. Only‘elsar drainage was seén:-TMs:\n",
            "‘were clear:\n",
            "\n",
            "‘Neck: Supple without adenopathy.\n",
            "\n",
            "Langs: Cleat:\n",
            "\n",
            "ASSESSMENT: Aller rin.\n",
            "\n",
            "PLAN\n",
            "1. She willy Zytec initead of Allegra\n",
            "night be cheaper.\n",
            "\n",
            "2. Samples of Nasonex 10 sprays inegch nostri given for three weeks. A prescription wag writers well\n",
            "\n",
            " \n",
            "\n",
            "in. Avotber option willbe to useToratadine. She, docs not think sh Is prescription coverage so that,\n",
            "\n",
            " \n",
            "\f\n"
          ]
        }
      ]
    }
  ]
}